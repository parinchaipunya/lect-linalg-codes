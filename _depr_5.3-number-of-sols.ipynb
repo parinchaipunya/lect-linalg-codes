{
 "cells": [
  {
   "cell_type": "code",
   "execution_count": 1,
   "id": "3516bf27-ec2d-4fba-a7cc-e2977659cf37",
   "metadata": {},
   "outputs": [],
   "source": [
    "import numpy as np"
   ]
  },
  {
   "cell_type": "code",
   "execution_count": 7,
   "id": "60570134-cbb0-426c-9d60-33159010f3f9",
   "metadata": {},
   "outputs": [],
   "source": [
    "def RREF(A, showsteps='No'):\n",
    "\n",
    "    m, n = A.shape\n",
    "    A = A.astype(float)\n",
    "\n",
    "    if showsteps=='Yes':\n",
    "        print(f\"Input matrix \\nA = \\n{A}\\n\\n\")\n",
    "    \n",
    "    I = 0\n",
    "    for j in range(n):\n",
    "        if showsteps=='Yes':\n",
    "            print(f\"-----CONSIDER COL {j}-----\\n\")\n",
    "        for i in range(m):\n",
    "            if i >= I and A[i,j] != 0:\n",
    "                if showsteps=='Yes':\n",
    "                    print(f\"CONSIDER ROW {I}\\nSWAP rows {i} and {I}:\")\n",
    "                A[[I,i]] = A[[i,I]]\n",
    "                if showsteps=='Yes':\n",
    "                    print(f\"A = \\n{A}\")\n",
    "                A[I,:] /= A[I,j]\n",
    "                A[I+1:,:] -= A[I+1:,[j]] * A[I,:]\n",
    "                A[:I,:] -= A[:I,[j]] * A[I,:]   # This line is added from the code in 5.1.\n",
    "                if showsteps=='Yes':\n",
    "                    print(f\"PIVOT at ({I},{j}): \\nA = \\n{A}\\n\\nROW {I} DONE.\")\n",
    "                I += 1\n",
    "                break\n",
    "        if showsteps=='Yes':\n",
    "            print(f\"COL {j} DONE.\\n\")\n",
    "    \n",
    "    if showsteps=='Yes':\n",
    "        print(\"-----ALL COLs DONE-----\\n\")\n",
    "        print(f\"RREF(A) = \\n{A}\")\n",
    "    \n",
    "    return A"
   ]
  },
  {
   "cell_type": "code",
   "execution_count": 9,
   "id": "63cdbd87-e61c-4213-b458-07257c9e9d51",
   "metadata": {},
   "outputs": [
    {
     "name": "stdout",
     "output_type": "stream",
     "text": [
      "[[ 1.  0.  0.  0.  0.]\n",
      " [ 0.  1.  0.  0.  0.]\n",
      " [ 0.  0.  1.  0.  0.]\n",
      " [-0. -0. -0.  1.  0.]\n",
      " [ 0.  0.  0.  0.  1.]]\n"
     ]
    }
   ],
   "source": [
    "A = np.array([[1, 1, 1, 1],\n",
    "              [2, 3, -1, -1],\n",
    "              [0, 1, 1, 0],\n",
    "              [2, -1, 1, -1],\n",
    "              [1, 1, -1, -2]])\n",
    "b = np.array([[4, 3, 2, 1, 0]]).T\n",
    "Ab = np.hstack((A,b))\n",
    "Ab_rref = RREF(Ab)\n",
    "print(Ab_rref)"
   ]
  },
  {
   "cell_type": "code",
   "execution_count": 12,
   "id": "9d94b82d-55f9-4396-83d5-b78cc104201b",
   "metadata": {},
   "outputs": [
    {
     "name": "stdout",
     "output_type": "stream",
     "text": [
      "[[ 1.  0.  0.  0.  1.]\n",
      " [ 0.  1.  0.  0.  1.]\n",
      " [ 0.  0.  1.  0.  1.]\n",
      " [-0. -0. -0.  1.  1.]\n",
      " [ 0.  0.  0.  0.  0.]]\n"
     ]
    }
   ],
   "source": [
    "A2 = A.copy()\n",
    "A2[-1,-1] = -1\n",
    "A2b = np.hstack((A2,b))\n",
    "A2b_rref = RREF(A2b)\n",
    "print(A2b_rref)"
   ]
  },
  {
   "cell_type": "code",
   "execution_count": 13,
   "id": "aa1ca326-16f7-4057-b452-b52f8d33183f",
   "metadata": {},
   "outputs": [
    {
     "name": "stdout",
     "output_type": "stream",
     "text": [
      "[[1. 0. 0. 0. 1.]\n",
      " [0. 1. 0. 0. 1.]\n",
      " [0. 0. 1. 0. 1.]\n",
      " [0. 0. 0. 1. 1.]]\n"
     ]
    }
   ],
   "source": [
    "# Exercise 2.17\n",
    "A = np.array([[1, 1, -1, -1], \n",
    "              [1, -1, 1, 1],\n",
    "              [0, 1, -2, 0],\n",
    "              [1, 1, 3, 2]])\n",
    "b = np.array([[0, 2, -1, 7]]).T\n",
    "Ab = np.hstack((A,b))\n",
    "Ab_rref = RREF(Ab)\n",
    "print(Ab_rref)"
   ]
  },
  {
   "cell_type": "code",
   "execution_count": 15,
   "id": "31d40a7d-ac5c-4b99-9f12-aef5c2b9c3f2",
   "metadata": {},
   "outputs": [
    {
     "name": "stdout",
     "output_type": "stream",
     "text": [
      "[[ 1.          0.         -0.66666667  0.66666667]\n",
      " [-0.          1.         -1.66666667 -0.33333333]\n",
      " [ 0.          0.          0.          0.        ]]\n"
     ]
    }
   ],
   "source": [
    "# Exercise 2.18\n",
    "Ab = np.array([[2, 1, -3, 1],\n",
    "               [1, -1, 1, 1],\n",
    "               [3, 0, -2, 2]])\n",
    "Ab_rref = RREF(Ab)\n",
    "print(Ab_rref)"
   ]
  },
  {
   "cell_type": "code",
   "execution_count": 16,
   "id": "ceb230ad-d174-4d5a-a59d-ddbe310930d5",
   "metadata": {},
   "outputs": [
    {
     "name": "stdout",
     "output_type": "stream",
     "text": [
      "[[ 1.          0.          0.          1.         -1.          6.        ]\n",
      " [-0.          1.          0.          0.33333333  0.16666667  0.66666667]\n",
      " [-0.         -0.          1.          0.66666667 -0.66666667  4.33333333]]\n"
     ]
    }
   ],
   "source": [
    "# Exercise 2.19\n",
    "Ab = np.array([[1, 2, -1, 1, 0, 3],\n",
    "               [2, -2, -2, 0, -1, 2],\n",
    "               [2, 0, -3, 0, 0, -1]])\n",
    "Ab_rref = RREF(Ab)\n",
    "print(Ab_rref)"
   ]
  },
  {
   "cell_type": "code",
   "execution_count": null,
   "id": "6f4ae26d-71af-40de-994a-6600536d9eb7",
   "metadata": {},
   "outputs": [],
   "source": []
  }
 ],
 "metadata": {
  "kernelspec": {
   "display_name": "Python 3 (ipykernel)",
   "language": "python",
   "name": "python3"
  },
  "language_info": {
   "codemirror_mode": {
    "name": "ipython",
    "version": 3
   },
   "file_extension": ".py",
   "mimetype": "text/x-python",
   "name": "python",
   "nbconvert_exporter": "python",
   "pygments_lexer": "ipython3",
   "version": "3.12.7"
  },
  "widgets": {
   "application/vnd.jupyter.widget-state+json": {
    "state": {},
    "version_major": 2,
    "version_minor": 0
   }
  }
 },
 "nbformat": 4,
 "nbformat_minor": 5
}
