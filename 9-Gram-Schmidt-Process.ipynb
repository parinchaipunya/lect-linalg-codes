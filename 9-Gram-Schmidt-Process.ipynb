{
 "cells": [
  {
   "cell_type": "markdown",
   "id": "6262f61c-f340-48a7-8762-364cc12a380d",
   "metadata": {},
   "source": [
    "# Gram-Schmidt orthogonalization\n",
    "author: Parin Chaipunya\n",
    "affil: KMUTT"
   ]
  },
  {
   "cell_type": "markdown",
   "id": "db2fa324-ee16-4eb9-bbe5-b2e3521bbd00",
   "metadata": {},
   "source": [
    "## The Gram-Schmidt process\n",
    "\n",
    "Recall when $\\mathcal{U} = \\{v_{1},v_{2},\\dots,v_{n}\\}$ is a basis of a vector space $V$, then we can construct an *orthogonal basis* out of $\\mathcal{U}$ using the following Gram-Schmidt process:\n",
    "$$\n",
    "\\begin{align*}\n",
    "v_{1}' &= v_{1} \\\\\n",
    "v_{2}' &= v_{2} - \\mathrm{proj}_{v_{1}'} (v_{2}) \\\\\n",
    "v_{3}' &= v_{3} - \\mathrm{proj}_{v_{1}'} (v_{3}) - \\mathrm{proj}_{v_{2}'} (v_{3}) \\\\\n",
    "& \\vdots \\\\\n",
    "v_{i}' &= v_{i} - \\mathrm{proj}_{v_{1}'} (v_{i}) - \\dots - \\mathrm{proj}_{v_{i-1}'} (v_{i}) \\\\\n",
    "& \\vdots \\\\\n",
    "v_{n}' &= v_{n} - \\mathrm{proj}_{v_{1}'} (v_{n}) - \\dots - \\mathrm{proj}_{v_{n-1}'} (v_{n}).\n",
    "\\end{align*}\n",
    "$$"
   ]
  },
  {
   "cell_type": "code",
   "execution_count": 1,
   "id": "a4973efb-2664-430d-ae7b-1b39d8a129d8",
   "metadata": {},
   "outputs": [],
   "source": [
    "import numpy as np"
   ]
  },
  {
   "cell_type": "markdown",
   "id": "bd2a2c51-3c72-4c36-a8ca-b83e906528ca",
   "metadata": {},
   "source": [
    "We shall construct a `python` function that orthogonalizes a given basis.\n",
    "The input basis takes the form of an array `U` whose columns are the basis vectors.\n",
    "The output is also an array whose columns are the orthogonalized basis vectors."
   ]
  },
  {
   "cell_type": "code",
   "execution_count": 2,
   "id": "96a85364-0652-4a41-acdc-3ab2d672b744",
   "metadata": {},
   "outputs": [],
   "source": [
    "def proj(x,y):\n",
    "    p = (x.T@y)/(y.T@y) * y\n",
    "    return p\n",
    "\n",
    "def orthog(U):\n",
    "    \"\"\"\n",
    "    The input U is a matrix of shape (m,n), whose columns constitute a basis of a vector space.\n",
    "    \"\"\"\n",
    "    n = np.shape(U)[1]\n",
    "    Vp = np.zeros(np.shape(U))\n",
    "    for i in range(n):\n",
    "        u_i = U[:,i].copy()\n",
    "        Vp[:,i] = U[:,i]\n",
    "        for j in range(i):\n",
    "            p_j = proj(u_i,Vp[:,j])\n",
    "            Vp[:,i] -= p_j\n",
    "    return Vp"
   ]
  },
  {
   "cell_type": "markdown",
   "id": "605ed635-b181-484c-8fd3-1f8cebe38185",
   "metadata": {},
   "source": [
    "### Example\n",
    "Next, let's test our function with the space $\\mathbb{R}^{2}$ and the basis  $\\mathcal{U} = \\{(1,2), (2,0)\\}$."
   ]
  },
  {
   "cell_type": "code",
   "execution_count": 3,
   "id": "97536eda-e003-4e34-9340-720f26184b3a",
   "metadata": {},
   "outputs": [
    {
     "name": "stdout",
     "output_type": "stream",
     "text": [
      "The orthogonal basis constructed using the Gram-Schmidt process is\n",
      "U' = \n",
      "[[ 1.   0.8]\n",
      " [ 2.  -0.4]].\n"
     ]
    }
   ],
   "source": [
    "U = np.array([[1, 1], [2, 0]])\n",
    "Up = orthog(U)\n",
    "print(f\"The orthogonal basis constructed using the Gram-Schmidt process is\\nU' = \\n{Up}.\")"
   ]
  },
  {
   "cell_type": "markdown",
   "id": "2ac3a0b8-47f9-4a0b-857d-8e32bf7dd07b",
   "metadata": {},
   "source": [
    "One may double check that the output is orthogonal.\n",
    "Recall that a matrix $A$ is orthogonal if $A^{T}A$ is diagonal."
   ]
  },
  {
   "cell_type": "code",
   "execution_count": 4,
   "id": "e95eb606-836b-4815-9f41-0c366b0c919d",
   "metadata": {},
   "outputs": [
    {
     "data": {
      "text/plain": [
       "array([[5. , 0. ],\n",
       "       [0. , 0.8]])"
      ]
     },
     "execution_count": 4,
     "metadata": {},
     "output_type": "execute_result"
    }
   ],
   "source": [
    "# double check that U' is orthogonal by testing if U'@U is diagonal.\n",
    "Up.T@Up"
   ]
  },
  {
   "cell_type": "markdown",
   "id": "ce3041d7-b7fa-41fb-b83e-eb9514ffbadf",
   "metadata": {},
   "source": [
    "### Example\n",
    "Let us next consider $\\mathbb{R}^{4}$ with the basis  $\\mathcal{U} = \\{ (1,1,0,0), (0,1,1,0), (1,0,0,0), (0,0,1,1) \\}$."
   ]
  },
  {
   "cell_type": "code",
   "execution_count": 5,
   "id": "d07b58c2-23d4-4e3b-9d97-b05bcff9a4ef",
   "metadata": {},
   "outputs": [
    {
     "data": {
      "text/plain": [
       "np.int64(4)"
      ]
     },
     "execution_count": 5,
     "metadata": {},
     "output_type": "execute_result"
    }
   ],
   "source": [
    "U = np.array([[1, 1, 0, 0], [0, 1, 1, 0], [1, 0, 0, 0], [0, 0, 1, 1]])\n",
    "np.linalg.matrix_rank(U)"
   ]
  },
  {
   "cell_type": "code",
   "execution_count": 6,
   "id": "705534dd-2522-4b8a-ab16-588ad83fc078",
   "metadata": {},
   "outputs": [
    {
     "name": "stdout",
     "output_type": "stream",
     "text": [
      "The orthogonal basis constructed using the Gram-Schmidt process is\n",
      "U' = \n",
      "[[ 1.          0.5        -0.33333333  0.25      ]\n",
      " [ 0.          1.          0.33333333 -0.25      ]\n",
      " [ 1.         -0.5         0.33333333 -0.25      ]\n",
      " [ 0.          0.          1.          0.25      ]].\n"
     ]
    }
   ],
   "source": [
    "Up = orthog(U)\n",
    "print(f\"The orthogonal basis constructed using the Gram-Schmidt process is\\nU' = \\n{Up}.\")"
   ]
  },
  {
   "cell_type": "markdown",
   "id": "732827e3-6ce7-4b7d-a2ea-5657299fe3d9",
   "metadata": {},
   "source": [
    "----"
   ]
  }
 ],
 "metadata": {
  "kernelspec": {
   "display_name": "Python 3 (ipykernel)",
   "language": "python",
   "name": "python3"
  },
  "language_info": {
   "codemirror_mode": {
    "name": "ipython",
    "version": 3
   },
   "file_extension": ".py",
   "mimetype": "text/x-python",
   "name": "python",
   "nbconvert_exporter": "python",
   "pygments_lexer": "ipython3",
   "version": "3.13.7"
  },
  "widgets": {
   "application/vnd.jupyter.widget-state+json": {
    "state": {},
    "version_major": 2,
    "version_minor": 0
   }
  }
 },
 "nbformat": 4,
 "nbformat_minor": 5
}
