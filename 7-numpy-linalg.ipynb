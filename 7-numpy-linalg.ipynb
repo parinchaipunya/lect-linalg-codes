{
 "cells": [
  {
   "cell_type": "markdown",
   "id": "39a4876d-8c80-4861-8475-ebdca997cea6",
   "metadata": {},
   "source": [
    "# The module `numpy.linalg`\n",
    "author: Parin Chaipunya\n",
    "affil: KMUTT"
   ]
  },
  {
   "cell_type": "markdown",
   "id": "5df95854-04bf-48e2-9da6-c8282fe357e6",
   "metadata": {},
   "source": [
    "We have already compute REF/RREF manually, and from there we could get the rank, nullity, solve linear systems, etc. \n",
    "These tasks and many more (except computing explicity the REF/RREF numerically) are actually built-in with the module `numpy.linalg`. \n",
    "\n",
    "In this notebook, we will go through some of these functions."
   ]
  },
  {
   "cell_type": "markdown",
   "id": "9fbe351d-f9e7-49ba-bbd9-61552f4c41b4",
   "metadata": {},
   "source": [
    "## Rank\n",
    "\n",
    "To compute the rank of a matrix (i.e. a `numpy array`), we use the function `matrix_rank` from the module `numpy.linalg`."
   ]
  },
  {
   "cell_type": "code",
   "execution_count": 1,
   "id": "728508ca-7ed9-4cdf-adbe-e182f2b72820",
   "metadata": {},
   "outputs": [],
   "source": [
    "import numpy as np"
   ]
  },
  {
   "cell_type": "code",
   "execution_count": 2,
   "id": "cde7b281-6c70-48d6-a63e-c8d6a192c6ba",
   "metadata": {},
   "outputs": [
    {
     "name": "stdout",
     "output_type": "stream",
     "text": [
      "A = \n",
      "[[ 1  3 -1  0]\n",
      " [ 0 -1  3 -2]\n",
      " [ 1  0  1 -1]\n",
      " [ 1  1  1 -2]\n",
      " [ 1  0  4 -4]]\n",
      "and rank(A) = 4.\n"
     ]
    }
   ],
   "source": [
    "# Define a matrix A.\n",
    "A = np.array([\n",
    "    [1, 3, -1, 0],\n",
    "    [0, -1, 3, -2],\n",
    "    [1, 0, 1, -1],\n",
    "    [1, 1, 1, -2],\n",
    "    [1, 0, 4, -4]\n",
    "])\n",
    "rank_A = np.linalg.matrix_rank(A)\n",
    "print(f\"A = \\n{A}\\nand rank(A) = {rank_A}.\")"
   ]
  },
  {
   "cell_type": "markdown",
   "id": "f69c7da0-8802-451c-9eeb-3141e6c26d52",
   "metadata": {},
   "source": [
    "## Determinant\n",
    "The function `det` from `numpy.linalg` can be used to compute the determinant of a matrix."
   ]
  },
  {
   "cell_type": "code",
   "execution_count": 3,
   "id": "cd777f7d-d4ae-4a5e-afdf-7017d51a5d7c",
   "metadata": {},
   "outputs": [
    {
     "name": "stdout",
     "output_type": "stream",
     "text": [
      "A = \n",
      "[[ 1  0  0 -1]\n",
      " [ 1  1  0  4]\n",
      " [ 1  0 -2  0]\n",
      " [ 1  1  1  0]]\n",
      "and det(A) = 7.000000000000001.\n"
     ]
    }
   ],
   "source": [
    "A = np.array([\n",
    "    [1, 0, 0, -1],\n",
    "    [1, 1, 0, 4],\n",
    "    [1, 0, -2, 0],\n",
    "    [1, 1, 1, 0]\n",
    "])\n",
    "print(f\"A = \\n{A}\\nand det(A) = {np.linalg.det(A)}.\")"
   ]
  },
  {
   "cell_type": "markdown",
   "id": "73f48264-0c9c-455d-bc01-4128b7392858",
   "metadata": {},
   "source": [
    "## Inverse\n",
    "An inverse matrix can also be computed. To do so, use `inv`."
   ]
  },
  {
   "cell_type": "code",
   "execution_count": 4,
   "id": "21ea1872-484b-4467-a65f-c140bfef1bc8",
   "metadata": {},
   "outputs": [
    {
     "name": "stdout",
     "output_type": "stream",
     "text": [
      "The inverse of A is A^-1 = \n",
      "[[ 1.25        0.25       -0.16666667 -0.33333333]\n",
      " [-1.25       -0.25        0.5         1.        ]\n",
      " [ 0.          0.         -0.33333333  0.33333333]\n",
      " [ 0.25        0.25       -0.16666667 -0.33333333]]\n"
     ]
    }
   ],
   "source": [
    "A = np.array([\n",
    "    [1, 0, 0, -1],\n",
    "    [1, 2, 0, 5],\n",
    "    [1, 1, -2, 0],\n",
    "    [1, 1, 1, 0]\n",
    "])\n",
    "A_inv = np.linalg.inv(A)\n",
    "print(f\"The inverse of A is A^-1 = \\n{A_inv}\")"
   ]
  },
  {
   "cell_type": "markdown",
   "id": "eb2c73fe-728b-4911-8b40-b2903885828b",
   "metadata": {},
   "source": [
    "Let us double check that the inverse $A^{-1}$ computed above is correct by multiplyting it to $A$. This should result in an identity matrix."
   ]
  },
  {
   "cell_type": "code",
   "execution_count": 5,
   "id": "b89ac828-2e05-4a9d-b117-72c934c386a2",
   "metadata": {},
   "outputs": [
    {
     "name": "stdout",
     "output_type": "stream",
     "text": [
      "[[1.00000000e+00 0.00000000e+00 0.00000000e+00 0.00000000e+00]\n",
      " [0.00000000e+00 1.00000000e+00 1.11022302e-16 2.22044605e-16]\n",
      " [0.00000000e+00 0.00000000e+00 1.00000000e+00 1.11022302e-16]\n",
      " [0.00000000e+00 0.00000000e+00 0.00000000e+00 1.00000000e+00]]\n"
     ]
    }
   ],
   "source": [
    "# Compute A*inv(A)\n",
    "print(A@A_inv)"
   ]
  },
  {
   "cell_type": "code",
   "execution_count": 6,
   "id": "6ecc39e7-e328-4ec7-8376-e6b88372a5aa",
   "metadata": {},
   "outputs": [
    {
     "name": "stdout",
     "output_type": "stream",
     "text": [
      "[[ 1.00000000e+00  5.55111512e-17  0.00000000e+00  0.00000000e+00]\n",
      " [ 0.00000000e+00  1.00000000e+00  0.00000000e+00  0.00000000e+00]\n",
      " [-5.55111512e-17 -5.55111512e-17  1.00000000e+00  0.00000000e+00]\n",
      " [ 5.55111512e-17  5.55111512e-17  0.00000000e+00  1.00000000e+00]]\n"
     ]
    }
   ],
   "source": [
    "# Compute inv(A)*A\n",
    "print(A_inv@A)"
   ]
  },
  {
   "cell_type": "markdown",
   "id": "17869deb-1c21-4729-9175-eabe7d517a3a",
   "metadata": {},
   "source": [
    "## Eigenvalues and eigenvectors\n",
    "To get eigenvalues of a matrix $A$ and the associated eigenvectors, we use `eig`. This function `eig` will return both the eigenvalues and eigenvectors.\n",
    "\n",
    "The `eig` function returns two outputs.\n",
    "The first is the list of all eigenvalues.\n",
    "The second is the matrix whose $i^{\\text{th}}$ column is a *normalized* eigenvector associated to the $i^{\\text{th}}$ eigenvalue from the first output."
   ]
  },
  {
   "cell_type": "code",
   "execution_count": 7,
   "id": "fe1bf218-84e9-4249-8199-574a370586e0",
   "metadata": {},
   "outputs": [],
   "source": [
    "A = np.array([[1, 1, 4], [0, 2, 2], [0, 0, 2]])\n",
    "eigval, eigvec = np.linalg.eig(A)"
   ]
  },
  {
   "cell_type": "code",
   "execution_count": 8,
   "id": "badd032b-ce0b-4bf8-899a-ec98d96928ca",
   "metadata": {},
   "outputs": [
    {
     "name": "stdout",
     "output_type": "stream",
     "text": [
      "[1. 2. 2.]\n"
     ]
    }
   ],
   "source": [
    "# Print eigenvalues λ_1, λ_2, λ_3\n",
    "print(eigval)"
   ]
  },
  {
   "cell_type": "code",
   "execution_count": 9,
   "id": "97353ec0-d542-48a4-9c53-628a46dd6392",
   "metadata": {},
   "outputs": [
    {
     "name": "stdout",
     "output_type": "stream",
     "text": [
      "[[ 1.00000000e+00  7.07106781e-01 -7.07106781e-01]\n",
      " [ 0.00000000e+00  7.07106781e-01 -7.07106781e-01]\n",
      " [ 0.00000000e+00  0.00000000e+00  1.57009246e-16]]\n"
     ]
    }
   ],
   "source": [
    "# Print a matrix whose columns are eigenvectors \n",
    "# corresponding to the eigenvalues above.\n",
    "print(eigvec)"
   ]
  },
  {
   "cell_type": "markdown",
   "id": "17e17a90-b89d-4d00-a36e-595fdc3bd470",
   "metadata": {},
   "source": [
    "-----"
   ]
  },
  {
   "cell_type": "markdown",
   "id": "ac667b63-9414-4731-8157-5f6a43a667f8",
   "metadata": {},
   "source": [
    "## Solving a linear system\n",
    "Consider a linear system $Ax = b$.\n",
    "This linear system can be solved with the `solve` function.\n",
    "\n",
    "The `solve` function works only when $A$ is a square matrix and the system has a unique solution. Here are different results based on the number of solutions of $Ax = b$:\n",
    "1. $Ax = b$ has a *unique* solution.\n",
    "    - `solve` will properly return the solution.\n",
    "2. $Ax = b$ has *no* solution.\n",
    "    - `solve` fails.\n",
    "3. $Ax = b$ has *multiple* solutions.\n",
    "    - `solve` fails."
   ]
  },
  {
   "cell_type": "markdown",
   "id": "9f88d274-ddf8-4857-aed8-e9d6c9439470",
   "metadata": {},
   "source": [
    "### Unique solution of $Ax = b$\n",
    "The uniqueness of a solution is guaranteed if $\\mathrm{rank}(A) = n$, where $n$ is the number of variables."
   ]
  },
  {
   "cell_type": "code",
   "execution_count": 10,
   "id": "80212176-462d-4640-a5fd-88b2f2fe5ecc",
   "metadata": {},
   "outputs": [
    {
     "name": "stdout",
     "output_type": "stream",
     "text": [
      "rank(A) = 3,     rank([A b]) = 3\n"
     ]
    }
   ],
   "source": [
    "A = np.array([[1, 2, 1], [0, 1, 0], [0, 1, 2]])\n",
    "b = np.array([[1, 1, 0]]).T\n",
    "Ab = np.hstack((A,b))\n",
    "\n",
    "print(f\"rank(A) = {np.linalg.matrix_rank(A)}, \\\n",
    "    rank([A b]) = {np.linalg.matrix_rank(Ab)}\")"
   ]
  },
  {
   "cell_type": "code",
   "execution_count": 11,
   "id": "c3eadd9d-dcfa-4dd9-b670-b36e446420c7",
   "metadata": {},
   "outputs": [
    {
     "name": "stdout",
     "output_type": "stream",
     "text": [
      "The unique solution of Ax = b is \n",
      "x = \n",
      "[[-0.5]\n",
      " [ 1. ]\n",
      " [-0.5]].\n"
     ]
    }
   ],
   "source": [
    "x = np.linalg.solve(A,b)\n",
    "print(f\"The unique solution of Ax = b is \\nx = \\n{x}.\")"
   ]
  },
  {
   "cell_type": "code",
   "execution_count": 12,
   "id": "27e0060f-f96d-4791-bfb8-d87a1dcd7e3a",
   "metadata": {},
   "outputs": [
    {
     "data": {
      "text/plain": [
       "array([[ True],\n",
       "       [ True],\n",
       "       [ True]])"
      ]
     },
     "execution_count": 12,
     "metadata": {},
     "output_type": "execute_result"
    }
   ],
   "source": [
    "# Double check that Ax = b.\n",
    "A@x == b"
   ]
  },
  {
   "cell_type": "markdown",
   "id": "51ac853c-d96b-451a-9668-b18bc3e4f7db",
   "metadata": {},
   "source": [
    "## No solution of $Ax = b$\n",
    "This case is characterized by $\\mathrm{rank}(A) < \\mathrm{rank}([A\\; b])$."
   ]
  },
  {
   "cell_type": "code",
   "execution_count": 13,
   "id": "b2438f16-d449-48a7-98ce-a78940b4bfbf",
   "metadata": {},
   "outputs": [],
   "source": [
    "A = np.array([[1, 1, 1], [1, 1, 0], [1, 1, 0], [0, 1, 0]])\n",
    "b = np.array([[1, 0, 1, 0]]).T\n",
    "Ab = np.hstack((A,b))"
   ]
  },
  {
   "cell_type": "code",
   "execution_count": 14,
   "id": "c823c73c-97e1-42aa-9cb4-f70adc6744a1",
   "metadata": {},
   "outputs": [
    {
     "data": {
      "text/plain": [
       "np.False_"
      ]
     },
     "execution_count": 14,
     "metadata": {},
     "output_type": "execute_result"
    }
   ],
   "source": [
    "np.linalg.matrix_rank(A) == np.linalg.matrix_rank(Ab)"
   ]
  },
  {
   "cell_type": "code",
   "execution_count": 15,
   "id": "2f602c40-a690-4668-b08f-ff79bd9f7859",
   "metadata": {},
   "outputs": [
    {
     "ename": "LinAlgError",
     "evalue": "Last 2 dimensions of the array must be square",
     "output_type": "error",
     "traceback": [
      "\u001b[31m---------------------------------------------------------------------------\u001b[39m",
      "\u001b[31mLinAlgError\u001b[39m                               Traceback (most recent call last)",
      "\u001b[36mCell\u001b[39m\u001b[36m \u001b[39m\u001b[32mIn[15]\u001b[39m\u001b[32m, line 2\u001b[39m\n\u001b[32m      1\u001b[39m \u001b[38;5;66;03m# Try solving Ax = b. This should produce an error.\u001b[39;00m\n\u001b[32m----> \u001b[39m\u001b[32m2\u001b[39m x = \u001b[43mnp\u001b[49m\u001b[43m.\u001b[49m\u001b[43mlinalg\u001b[49m\u001b[43m.\u001b[49m\u001b[43msolve\u001b[49m\u001b[43m(\u001b[49m\u001b[43mA\u001b[49m\u001b[43m,\u001b[49m\u001b[43mb\u001b[49m\u001b[43m)\u001b[49m\n",
      "\u001b[36mFile \u001b[39m\u001b[32m/usr/lib/python3.13/site-packages/numpy/linalg/_linalg.py:457\u001b[39m, in \u001b[36msolve\u001b[39m\u001b[34m(a, b)\u001b[39m\n\u001b[32m    384\u001b[39m \u001b[38;5;250m\u001b[39m\u001b[33;03m\"\"\"\u001b[39;00m\n\u001b[32m    385\u001b[39m \u001b[33;03mSolve a linear matrix equation, or system of linear scalar equations.\u001b[39;00m\n\u001b[32m    386\u001b[39m \n\u001b[32m   (...)\u001b[39m\u001b[32m    454\u001b[39m \n\u001b[32m    455\u001b[39m \u001b[33;03m\"\"\"\u001b[39;00m\n\u001b[32m    456\u001b[39m a, _ = _makearray(a)\n\u001b[32m--> \u001b[39m\u001b[32m457\u001b[39m \u001b[43m_assert_stacked_square\u001b[49m\u001b[43m(\u001b[49m\u001b[43ma\u001b[49m\u001b[43m)\u001b[49m\n\u001b[32m    458\u001b[39m b, wrap = _makearray(b)\n\u001b[32m    459\u001b[39m t, result_t = _commonType(a, b)\n",
      "\u001b[36mFile \u001b[39m\u001b[32m/usr/lib/python3.13/site-packages/numpy/linalg/_linalg.py:264\u001b[39m, in \u001b[36m_assert_stacked_square\u001b[39m\u001b[34m(*arrays)\u001b[39m\n\u001b[32m    261\u001b[39m     \u001b[38;5;28;01mraise\u001b[39;00m LinAlgError(\u001b[33m'\u001b[39m\u001b[38;5;132;01m%d\u001b[39;00m\u001b[33m-dimensional array given. Array must be \u001b[39m\u001b[33m'\u001b[39m\n\u001b[32m    262\u001b[39m             \u001b[33m'\u001b[39m\u001b[33mat least two-dimensional\u001b[39m\u001b[33m'\u001b[39m % a.ndim)\n\u001b[32m    263\u001b[39m \u001b[38;5;28;01mif\u001b[39;00m m != n:\n\u001b[32m--> \u001b[39m\u001b[32m264\u001b[39m     \u001b[38;5;28;01mraise\u001b[39;00m LinAlgError(\u001b[33m'\u001b[39m\u001b[33mLast 2 dimensions of the array must be square\u001b[39m\u001b[33m'\u001b[39m)\n",
      "\u001b[31mLinAlgError\u001b[39m: Last 2 dimensions of the array must be square"
     ]
    }
   ],
   "source": [
    "# Try solving Ax = b. This should produce an error.\n",
    "x = np.linalg.solve(A,b)"
   ]
  },
  {
   "cell_type": "markdown",
   "id": "fd99a79b-aa63-4160-b067-0821dec83de6",
   "metadata": {},
   "source": [
    "### Multiple solutions of $Ax = b$\n",
    "This case is characterized by $\\mathrm{rank}(A) = \\mathrm{rank}([A\\; b]) < n$."
   ]
  },
  {
   "cell_type": "code",
   "execution_count": 16,
   "id": "3df32b47-34b7-4f41-ac8c-50db117988e7",
   "metadata": {},
   "outputs": [],
   "source": [
    "A = np.array([[1, 1, 1], [1, 0, 0]])\n",
    "b = np.array([[0, 2]]).T\n",
    "Ab = np.hstack((A,b))"
   ]
  },
  {
   "cell_type": "code",
   "execution_count": 17,
   "id": "3b2f4cec-b604-4fb3-88bd-0fbc35820c0d",
   "metadata": {},
   "outputs": [
    {
     "data": {
      "text/plain": [
       "np.False_"
      ]
     },
     "execution_count": 17,
     "metadata": {},
     "output_type": "execute_result"
    }
   ],
   "source": [
    "(np.linalg.matrix_rank(A) == np.linalg.matrix_rank(Ab)) \\\n",
    "and np.linalg.matrix_rank(A) < np.shape(b)[0]"
   ]
  },
  {
   "cell_type": "code",
   "execution_count": 18,
   "id": "7ff9af25-4db8-451f-9ddc-f121b1265e6b",
   "metadata": {},
   "outputs": [
    {
     "ename": "LinAlgError",
     "evalue": "Last 2 dimensions of the array must be square",
     "output_type": "error",
     "traceback": [
      "\u001b[31m---------------------------------------------------------------------------\u001b[39m",
      "\u001b[31mLinAlgError\u001b[39m                               Traceback (most recent call last)",
      "\u001b[36mCell\u001b[39m\u001b[36m \u001b[39m\u001b[32mIn[18]\u001b[39m\u001b[32m, line 2\u001b[39m\n\u001b[32m      1\u001b[39m \u001b[38;5;66;03m# Try solving Ax = b. This should produce an error.\u001b[39;00m\n\u001b[32m----> \u001b[39m\u001b[32m2\u001b[39m x = \u001b[43mnp\u001b[49m\u001b[43m.\u001b[49m\u001b[43mlinalg\u001b[49m\u001b[43m.\u001b[49m\u001b[43msolve\u001b[49m\u001b[43m(\u001b[49m\u001b[43mA\u001b[49m\u001b[43m,\u001b[49m\u001b[43mb\u001b[49m\u001b[43m)\u001b[49m\n",
      "\u001b[36mFile \u001b[39m\u001b[32m/usr/lib/python3.13/site-packages/numpy/linalg/_linalg.py:457\u001b[39m, in \u001b[36msolve\u001b[39m\u001b[34m(a, b)\u001b[39m\n\u001b[32m    384\u001b[39m \u001b[38;5;250m\u001b[39m\u001b[33;03m\"\"\"\u001b[39;00m\n\u001b[32m    385\u001b[39m \u001b[33;03mSolve a linear matrix equation, or system of linear scalar equations.\u001b[39;00m\n\u001b[32m    386\u001b[39m \n\u001b[32m   (...)\u001b[39m\u001b[32m    454\u001b[39m \n\u001b[32m    455\u001b[39m \u001b[33;03m\"\"\"\u001b[39;00m\n\u001b[32m    456\u001b[39m a, _ = _makearray(a)\n\u001b[32m--> \u001b[39m\u001b[32m457\u001b[39m \u001b[43m_assert_stacked_square\u001b[49m\u001b[43m(\u001b[49m\u001b[43ma\u001b[49m\u001b[43m)\u001b[49m\n\u001b[32m    458\u001b[39m b, wrap = _makearray(b)\n\u001b[32m    459\u001b[39m t, result_t = _commonType(a, b)\n",
      "\u001b[36mFile \u001b[39m\u001b[32m/usr/lib/python3.13/site-packages/numpy/linalg/_linalg.py:264\u001b[39m, in \u001b[36m_assert_stacked_square\u001b[39m\u001b[34m(*arrays)\u001b[39m\n\u001b[32m    261\u001b[39m     \u001b[38;5;28;01mraise\u001b[39;00m LinAlgError(\u001b[33m'\u001b[39m\u001b[38;5;132;01m%d\u001b[39;00m\u001b[33m-dimensional array given. Array must be \u001b[39m\u001b[33m'\u001b[39m\n\u001b[32m    262\u001b[39m             \u001b[33m'\u001b[39m\u001b[33mat least two-dimensional\u001b[39m\u001b[33m'\u001b[39m % a.ndim)\n\u001b[32m    263\u001b[39m \u001b[38;5;28;01mif\u001b[39;00m m != n:\n\u001b[32m--> \u001b[39m\u001b[32m264\u001b[39m     \u001b[38;5;28;01mraise\u001b[39;00m LinAlgError(\u001b[33m'\u001b[39m\u001b[33mLast 2 dimensions of the array must be square\u001b[39m\u001b[33m'\u001b[39m)\n",
      "\u001b[31mLinAlgError\u001b[39m: Last 2 dimensions of the array must be square"
     ]
    }
   ],
   "source": [
    "# Try solving Ax = b. This should produce an error.\n",
    "x = np.linalg.solve(A,b)"
   ]
  },
  {
   "cell_type": "markdown",
   "id": "71b141c5-3c3a-4aaf-ac36-753094d933b0",
   "metadata": {},
   "source": [
    "-----"
   ]
  }
 ],
 "metadata": {
  "kernelspec": {
   "display_name": "Python 3 (ipykernel)",
   "language": "python",
   "name": "python3"
  },
  "language_info": {
   "codemirror_mode": {
    "name": "ipython",
    "version": 3
   },
   "file_extension": ".py",
   "mimetype": "text/x-python",
   "name": "python",
   "nbconvert_exporter": "python",
   "pygments_lexer": "ipython3",
   "version": "3.13.7"
  },
  "widgets": {
   "application/vnd.jupyter.widget-state+json": {
    "state": {},
    "version_major": 2,
    "version_minor": 0
   }
  }
 },
 "nbformat": 4,
 "nbformat_minor": 5
}
