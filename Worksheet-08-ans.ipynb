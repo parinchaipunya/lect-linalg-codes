{
 "cells": [
  {
   "cell_type": "markdown",
   "id": "34bc5d91-2c9f-4f48-9b7b-70375903375a",
   "metadata": {},
   "source": [
    "# MTH 202 Worksheet 8"
   ]
  },
  {
   "cell_type": "code",
   "execution_count": 1,
   "id": "0fd75580-7855-4abd-9e63-e771f0f68b07",
   "metadata": {},
   "outputs": [],
   "source": [
    "import sympy as sy"
   ]
  },
  {
   "cell_type": "markdown",
   "id": "f2eb3c71-9d14-4d0b-9c53-38aa36824b05",
   "metadata": {},
   "source": [
    "## Problem 1"
   ]
  },
  {
   "cell_type": "markdown",
   "id": "f6655ec8-29f5-4cd2-95bc-a10b8044cafb",
   "metadata": {},
   "source": [
    "### Problem 1.1\n",
    "\n",
    "Rewrite the Gauss and Gauss-Jordan eliminations using `sympy` instead of `numpy`."
   ]
  },
  {
   "cell_type": "code",
   "execution_count": 2,
   "id": "bf4822bd-421a-41f1-b648-11b30a826985",
   "metadata": {},
   "outputs": [
    {
     "data": {
      "text/plain": [
       "(2, 3)"
      ]
     },
     "execution_count": 2,
     "metadata": {},
     "output_type": "execute_result"
    }
   ],
   "source": [
    "A = sy.Matrix([[1, 1, 2], [0, 0, 1]])\n",
    "A.shape"
   ]
  },
  {
   "cell_type": "code",
   "execution_count": 3,
   "id": "4973d3c1-5f97-4cf1-8ae3-d5eb518282ba",
   "metadata": {},
   "outputs": [],
   "source": [
    "def RREF(A, showsteps='No'):\n",
    "    \"\"\"\n",
    "    The input A should be a sympy's Matrix.\n",
    "    \"\"\"\n",
    "\n",
    "    m, n = A.shape\n",
    "\n",
    "    if showsteps=='Yes':\n",
    "        print(f\"Input matrix \\nA = \\n{sy.pretty(A)}\\n\\n\")\n",
    "    \n",
    "    I = 0\n",
    "    for j in range(n):\n",
    "        if showsteps=='Yes':\n",
    "            print(f\"-----CONSIDER COL {j}-----\\n\")\n",
    "        for i in range(m):\n",
    "            if i >= I and A[i,j] != 0:\n",
    "                if i > I:\n",
    "                    if showsteps=='Yes':\n",
    "                        print(f\"CONSIDER ROW {I}\\nSWAP rows {i} and {I}:\")\n",
    "                    A.row_swap(I,i)\n",
    "                    if showsteps=='Yes':\n",
    "                        print(f\"A = \\n{sy.pretty(A)}\")\n",
    "                A[I,:] /= A[I,j]\n",
    "                A[I+1:,:] -= A[I+1:,[j]] * A[I,:]\n",
    "                A[:I,:] -= A[:I,[j]] * A[I,:]   # This line is added from the code in 5.1.\n",
    "                if showsteps=='Yes':\n",
    "                    print(f\"PIVOT at ({I},{j}): \\nA = \\n{sy.pretty(A)}\\n\\nROW {I} DONE.\")\n",
    "                I += 1\n",
    "                break\n",
    "        if showsteps=='Yes':\n",
    "            print(f\"COL {j} DONE.\\n\")\n",
    "    \n",
    "    if showsteps=='Yes':\n",
    "        print(\"-----ALL COLs DONE-----\\n\")\n",
    "        print(f\"RREF(A) = \\n{sy.pretty(A)}\")\n",
    "    \n",
    "    return A"
   ]
  },
  {
   "cell_type": "markdown",
   "id": "0f1bbe76-b7b9-457c-83a1-5ee5580af36a",
   "metadata": {},
   "source": [
    "### Problem 1.2\n",
    "\n",
    "Test it with a matrix $A$ of your choice with dimension at least $5 \\times 7$ having at most five $0$'s."
   ]
  },
  {
   "cell_type": "code",
   "execution_count": 4,
   "id": "0281f9cd-835e-4b9c-b485-e530852d1409",
   "metadata": {},
   "outputs": [
    {
     "name": "stdout",
     "output_type": "stream",
     "text": [
      "Input matrix \n",
      "A = \n",
      "⎡1  0   1   2   -1  5  0 ⎤\n",
      "⎢                        ⎥\n",
      "⎢5  0   -2  -2  1   0  0 ⎥\n",
      "⎢                        ⎥\n",
      "⎢1  0   0   0   0   0  -1⎥\n",
      "⎢                        ⎥\n",
      "⎢0  0   0   0   0   0  0 ⎥\n",
      "⎢                        ⎥\n",
      "⎣1  -1  -1  -5  4   3  1 ⎦\n",
      "\n",
      "\n",
      "-----CONSIDER COL 0-----\n",
      "\n",
      "PIVOT at (0,0): \n",
      "A = \n",
      "⎡1  0   1    2   -1   5   0 ⎤\n",
      "⎢                           ⎥\n",
      "⎢0  0   -7  -12  6   -25  0 ⎥\n",
      "⎢                           ⎥\n",
      "⎢0  0   -1  -2   1   -5   -1⎥\n",
      "⎢                           ⎥\n",
      "⎢0  0   0    0   0    0   0 ⎥\n",
      "⎢                           ⎥\n",
      "⎣0  -1  -2  -7   5   -2   1 ⎦\n",
      "\n",
      "ROW 0 DONE.\n",
      "COL 0 DONE.\n",
      "\n",
      "-----CONSIDER COL 1-----\n",
      "\n",
      "CONSIDER ROW 1\n",
      "SWAP rows 4 and 1:\n",
      "A = \n",
      "⎡1  0   1    2   -1   5   0 ⎤\n",
      "⎢                           ⎥\n",
      "⎢0  -1  -2  -7   5   -2   1 ⎥\n",
      "⎢                           ⎥\n",
      "⎢0  0   -1  -2   1   -5   -1⎥\n",
      "⎢                           ⎥\n",
      "⎢0  0   0    0   0    0   0 ⎥\n",
      "⎢                           ⎥\n",
      "⎣0  0   -7  -12  6   -25  0 ⎦\n",
      "PIVOT at (1,1): \n",
      "A = \n",
      "⎡1  0  1    2   -1   5   0 ⎤\n",
      "⎢                          ⎥\n",
      "⎢0  1  2    7   -5   2   -1⎥\n",
      "⎢                          ⎥\n",
      "⎢0  0  -1  -2   1   -5   -1⎥\n",
      "⎢                          ⎥\n",
      "⎢0  0  0    0   0    0   0 ⎥\n",
      "⎢                          ⎥\n",
      "⎣0  0  -7  -12  6   -25  0 ⎦\n",
      "\n",
      "ROW 1 DONE.\n",
      "COL 1 DONE.\n",
      "\n",
      "-----CONSIDER COL 2-----\n",
      "\n",
      "PIVOT at (2,2): \n",
      "A = \n",
      "⎡1  0  0  0  0   0   -1⎤\n",
      "⎢                      ⎥\n",
      "⎢0  1  0  3  -3  -8  -3⎥\n",
      "⎢                      ⎥\n",
      "⎢0  0  1  2  -1  5   1 ⎥\n",
      "⎢                      ⎥\n",
      "⎢0  0  0  0  0   0   0 ⎥\n",
      "⎢                      ⎥\n",
      "⎣0  0  0  2  -1  10  7 ⎦\n",
      "\n",
      "ROW 2 DONE.\n",
      "COL 2 DONE.\n",
      "\n",
      "-----CONSIDER COL 3-----\n",
      "\n",
      "CONSIDER ROW 3\n",
      "SWAP rows 4 and 3:\n",
      "A = \n",
      "⎡1  0  0  0  0   0   -1⎤\n",
      "⎢                      ⎥\n",
      "⎢0  1  0  3  -3  -8  -3⎥\n",
      "⎢                      ⎥\n",
      "⎢0  0  1  2  -1  5   1 ⎥\n",
      "⎢                      ⎥\n",
      "⎢0  0  0  2  -1  10  7 ⎥\n",
      "⎢                      ⎥\n",
      "⎣0  0  0  0  0   0   0 ⎦\n",
      "PIVOT at (3,3): \n",
      "A = \n",
      "⎡1  0  0  0   0     0    -1  ⎤\n",
      "⎢                            ⎥\n",
      "⎢0  1  0  0  -3/2  -23  -27/2⎥\n",
      "⎢                            ⎥\n",
      "⎢0  0  1  0   0    -5    -6  ⎥\n",
      "⎢                            ⎥\n",
      "⎢0  0  0  1  -1/2   5    7/2 ⎥\n",
      "⎢                            ⎥\n",
      "⎣0  0  0  0   0     0     0  ⎦\n",
      "\n",
      "ROW 3 DONE.\n",
      "COL 3 DONE.\n",
      "\n",
      "-----CONSIDER COL 4-----\n",
      "\n",
      "COL 4 DONE.\n",
      "\n",
      "-----CONSIDER COL 5-----\n",
      "\n",
      "COL 5 DONE.\n",
      "\n",
      "-----CONSIDER COL 6-----\n",
      "\n",
      "COL 6 DONE.\n",
      "\n",
      "-----ALL COLs DONE-----\n",
      "\n",
      "RREF(A) = \n",
      "⎡1  0  0  0   0     0    -1  ⎤\n",
      "⎢                            ⎥\n",
      "⎢0  1  0  0  -3/2  -23  -27/2⎥\n",
      "⎢                            ⎥\n",
      "⎢0  0  1  0   0    -5    -6  ⎥\n",
      "⎢                            ⎥\n",
      "⎢0  0  0  1  -1/2   5    7/2 ⎥\n",
      "⎢                            ⎥\n",
      "⎣0  0  0  0   0     0     0  ⎦\n"
     ]
    }
   ],
   "source": [
    "A = sy.Matrix([[1, 0, 1, 2, -1, 5, 0],\n",
    "               [5, 0, -2, -2, 1, 0, 0],\n",
    "               [1, 0, 0, 0, 0, 0, -1],\n",
    "               [0, 0, 0, 0, 0, 0, 0],\n",
    "               [1, -1, -1, -5, 4, 3, 1]])\n",
    "AR = RREF(A, showsteps='Yes')"
   ]
  },
  {
   "cell_type": "markdown",
   "id": "dfb095aa-413a-48fa-ada7-18a9da69d96f",
   "metadata": {},
   "source": [
    "## Problem 1.3\n",
    "\n",
    "Check your answer with the built-in method `A.rref()[0]`."
   ]
  },
  {
   "cell_type": "code",
   "execution_count": 6,
   "id": "bd88dda3-5080-420e-9f84-4982c257486e",
   "metadata": {},
   "outputs": [
    {
     "name": "stdout",
     "output_type": "stream",
     "text": [
      "⎡1  0  0  0   0     0    -1  ⎤\n",
      "⎢                            ⎥\n",
      "⎢0  1  0  0  -3/2  -23  -27/2⎥\n",
      "⎢                            ⎥\n",
      "⎢0  0  1  0   0    -5    -6  ⎥\n",
      "⎢                            ⎥\n",
      "⎢0  0  0  1  -1/2   5    7/2 ⎥\n",
      "⎢                            ⎥\n",
      "⎣0  0  0  0   0     0     0  ⎦\n"
     ]
    }
   ],
   "source": [
    "print(sy.pretty(A.rref()[0]))"
   ]
  },
  {
   "cell_type": "markdown",
   "id": "12d191fd-0074-4b05-8b75-7cddfc413006",
   "metadata": {},
   "source": [
    "-----"
   ]
  }
 ],
 "metadata": {
  "kernelspec": {
   "display_name": "Python 3 (ipykernel)",
   "language": "python",
   "name": "python3"
  },
  "language_info": {
   "codemirror_mode": {
    "name": "ipython",
    "version": 3
   },
   "file_extension": ".py",
   "mimetype": "text/x-python",
   "name": "python",
   "nbconvert_exporter": "python",
   "pygments_lexer": "ipython3",
   "version": "3.13.7"
  }
 },
 "nbformat": 4,
 "nbformat_minor": 5
}
