{
 "cells": [
  {
   "cell_type": "markdown",
   "id": "92402540-abc6-47e3-88fa-642c5062cb6a",
   "metadata": {},
   "source": [
    "# Solving linear systems\n",
    "\n",
    "This notebook is dedicated to solving a linear system $Ax = b$. We have already seen that if $A$ is square and has a full rank (unique solution case), then `numpy.linalg.solve` can be used to solve for $x$.\n",
    "\n",
    "When $Ax = b$ has either *no solution* or *multiple solutions* then we can get around this issue using `numpy.linalg.lstsq`, which solves for a *least squares solution* of $Ax = b$."
   ]
  },
  {
   "cell_type": "markdown",
   "id": "a1843d0c-b50c-4588-8d6f-3d3c185a0bdc",
   "metadata": {},
   "source": [
    "## $Ax = b$ --- Unique solution case\n",
    "\n",
    "The function `numpy.linalg.solve` is applicable only when the input matrix $A$ is square and of full rank. Let us review again its behaviors."
   ]
  },
  {
   "cell_type": "code",
   "execution_count": 1,
   "id": "6d99e087-89d1-42b2-8625-1f236f21fd8c",
   "metadata": {},
   "outputs": [],
   "source": [
    "import numpy as np"
   ]
  },
  {
   "cell_type": "code",
   "execution_count": 2,
   "id": "b4669d58-291f-48ef-99ba-3139c12f8acc",
   "metadata": {},
   "outputs": [],
   "source": [
    "# Define the system\n",
    "A = np.array([[1, -2, 2], [2, 0, -1], [0, 1, 0]])\n",
    "b = np.array([[2, 0, 2]]).T"
   ]
  },
  {
   "cell_type": "code",
   "execution_count": 3,
   "id": "8ab86914-f6c0-474e-9004-63b0351c9d28",
   "metadata": {},
   "outputs": [
    {
     "data": {
      "text/plain": [
       "np.int64(3)"
      ]
     },
     "execution_count": 3,
     "metadata": {},
     "output_type": "execute_result"
    }
   ],
   "source": [
    "# Double check if A is of full rank\n",
    "np.linalg.matrix_rank(A)"
   ]
  },
  {
   "cell_type": "code",
   "execution_count": 4,
   "id": "9145589c-ac2e-4a8b-b6ce-8ace8e656aac",
   "metadata": {},
   "outputs": [
    {
     "name": "stdout",
     "output_type": "stream",
     "text": [
      "x = [[1.2]\n",
      " [2. ]\n",
      " [2.4]]\n"
     ]
    }
   ],
   "source": [
    "x = np.linalg.solve(A,b)\n",
    "print(f\"x = {x}\")"
   ]
  },
  {
   "cell_type": "code",
   "execution_count": 5,
   "id": "90ee0711-3a83-423c-a300-4b2ddbe95fa1",
   "metadata": {},
   "outputs": [
    {
     "data": {
      "text/plain": [
       "array([[ True],\n",
       "       [ True],\n",
       "       [ True]])"
      ]
     },
     "execution_count": 5,
     "metadata": {},
     "output_type": "execute_result"
    }
   ],
   "source": [
    "# Double check that A@x = b\n",
    "A@x == b"
   ]
  },
  {
   "cell_type": "markdown",
   "id": "d807e3e0-dfad-45f5-a37a-92675a56e83c",
   "metadata": {},
   "source": [
    "#### Try it yourself\n",
    "\n",
    "What would happen if we input a matrix $A$ that is square but doesn't have a full rank ?"
   ]
  },
  {
   "cell_type": "markdown",
   "id": "b511263c-4ea0-4ce0-8a31-335a55a6ecf4",
   "metadata": {},
   "source": [
    "---"
   ]
  },
  {
   "cell_type": "markdown",
   "id": "f9bf678d-7910-4838-9f45-316932d88b33",
   "metadata": {},
   "source": [
    "## $Ax = b$ --- Other cases\n",
    "\n",
    "When $Ax = b$ has *no solution* or *multiple solutions*, we may use `numpy.linalg.lstsq` instead. This function behaves similarly to `numpy.linalg.solve` but returns the **leaset squares solution** instead. Note that this function does not require any condition on the matrix $A$. "
   ]
  },
  {
   "cell_type": "code",
   "execution_count": 6,
   "id": "bd08c7a2-a533-4f5f-bf2e-b53a6eb5d08f",
   "metadata": {},
   "outputs": [],
   "source": [
    "# Define the system Ax = b\n",
    "A = np.array([[0, 1, 2, 4], [1, 2, 4, 9], [0, 0, 0, 1]])\n",
    "b = np.array([[1, 2, 1]]).T"
   ]
  },
  {
   "cell_type": "code",
   "execution_count": 7,
   "id": "0816cb44-e83b-43da-bbeb-452a78feaf53",
   "metadata": {},
   "outputs": [
    {
     "ename": "LinAlgError",
     "evalue": "Last 2 dimensions of the array must be square",
     "output_type": "error",
     "traceback": [
      "\u001b[0;31m---------------------------------------------------------------------------\u001b[0m",
      "\u001b[0;31mLinAlgError\u001b[0m                               Traceback (most recent call last)",
      "Cell \u001b[0;32mIn[7], line 2\u001b[0m\n\u001b[1;32m      1\u001b[0m \u001b[38;5;66;03m# Try using linalg.solve (This should return an error saying A is not square.)\u001b[39;00m\n\u001b[0;32m----> 2\u001b[0m \u001b[43mnp\u001b[49m\u001b[38;5;241;43m.\u001b[39;49m\u001b[43mlinalg\u001b[49m\u001b[38;5;241;43m.\u001b[39;49m\u001b[43msolve\u001b[49m\u001b[43m(\u001b[49m\u001b[43mA\u001b[49m\u001b[43m,\u001b[49m\u001b[43mb\u001b[49m\u001b[43m)\u001b[49m\n",
      "File \u001b[0;32m~/.local/lib/python3.12/site-packages/numpy/linalg/_linalg.py:399\u001b[0m, in \u001b[0;36msolve\u001b[0;34m(a, b)\u001b[0m\n\u001b[1;32m    397\u001b[0m a, _ \u001b[38;5;241m=\u001b[39m _makearray(a)\n\u001b[1;32m    398\u001b[0m _assert_stacked_2d(a)\n\u001b[0;32m--> 399\u001b[0m \u001b[43m_assert_stacked_square\u001b[49m\u001b[43m(\u001b[49m\u001b[43ma\u001b[49m\u001b[43m)\u001b[49m\n\u001b[1;32m    400\u001b[0m b, wrap \u001b[38;5;241m=\u001b[39m _makearray(b)\n\u001b[1;32m    401\u001b[0m t, result_t \u001b[38;5;241m=\u001b[39m _commonType(a, b)\n",
      "File \u001b[0;32m~/.local/lib/python3.12/site-packages/numpy/linalg/_linalg.py:202\u001b[0m, in \u001b[0;36m_assert_stacked_square\u001b[0;34m(*arrays)\u001b[0m\n\u001b[1;32m    200\u001b[0m m, n \u001b[38;5;241m=\u001b[39m a\u001b[38;5;241m.\u001b[39mshape[\u001b[38;5;241m-\u001b[39m\u001b[38;5;241m2\u001b[39m:]\n\u001b[1;32m    201\u001b[0m \u001b[38;5;28;01mif\u001b[39;00m m \u001b[38;5;241m!=\u001b[39m n:\n\u001b[0;32m--> 202\u001b[0m     \u001b[38;5;28;01mraise\u001b[39;00m LinAlgError(\u001b[38;5;124m'\u001b[39m\u001b[38;5;124mLast 2 dimensions of the array must be square\u001b[39m\u001b[38;5;124m'\u001b[39m)\n",
      "\u001b[0;31mLinAlgError\u001b[0m: Last 2 dimensions of the array must be square"
     ]
    }
   ],
   "source": [
    "# Try using linalg.solve (This should return an error saying A is not square.)\n",
    "np.linalg.solve(A,b)"
   ]
  },
  {
   "cell_type": "code",
   "execution_count": 8,
   "id": "243f4d3e-63ea-4838-af46-01f85841949d",
   "metadata": {},
   "outputs": [
    {
     "name": "stdout",
     "output_type": "stream",
     "text": [
      "(array([[-1. ],\n",
      "       [-0.6],\n",
      "       [-1.2],\n",
      "       [ 1. ]]), array([], dtype=float64), np.int32(3), array([11.11663374,  0.52090997,  0.38614377]))\n"
     ]
    }
   ],
   "source": [
    "# Use linalg.lstsq instead\n",
    "x = np.linalg.lstsq(A,b)\n",
    "print(x)  # Notice that the output x contains also other information."
   ]
  },
  {
   "cell_type": "code",
   "execution_count": 9,
   "id": "370ff3c4-4737-4e29-b2c7-fea635d0c007",
   "metadata": {},
   "outputs": [
    {
     "name": "stdout",
     "output_type": "stream",
     "text": [
      "x = [[-1. ]\n",
      " [-0.6]\n",
      " [-1.2]\n",
      " [ 1. ]]\n"
     ]
    }
   ],
   "source": [
    "# To extract the solution x, we only need the first item in the returned list.\n",
    "x = np.linalg.lstsq(A,b)[0]\n",
    "print(f\"x = {x}\")"
   ]
  },
  {
   "cell_type": "code",
   "execution_count": 10,
   "id": "63053844-734a-4b50-8de4-91c6e5bcbf3d",
   "metadata": {},
   "outputs": [
    {
     "name": "stdout",
     "output_type": "stream",
     "text": [
      "A@x = [[1.]\n",
      " [2.]\n",
      " [1.]]\n",
      "b = [[1]\n",
      " [2]\n",
      " [1]]\n"
     ]
    }
   ],
   "source": [
    "# Try substitute x into the system A@x = b.\n",
    "print(f\"A@x = {A@x}\")\n",
    "print(f\"b = {b}\")   # If we check with A@x == b, one gets false due to tolerence errors."
   ]
  },
  {
   "cell_type": "markdown",
   "id": "26ca1d91-5dab-4d5a-a299-9d7afc42d97e",
   "metadata": {},
   "source": [
    "#### Try it yourself.\n",
    "\n",
    "Try using `numpy.linalg.lstsq` with a system that has no solution."
   ]
  },
  {
   "cell_type": "markdown",
   "id": "b57be2c4-c14f-43ad-9275-e1cbefc189d4",
   "metadata": {},
   "source": [
    "----"
   ]
  }
 ],
 "metadata": {
  "kernelspec": {
   "display_name": "Python 3 (ipykernel)",
   "language": "python",
   "name": "python3"
  },
  "language_info": {
   "codemirror_mode": {
    "name": "ipython",
    "version": 3
   },
   "file_extension": ".py",
   "mimetype": "text/x-python",
   "name": "python",
   "nbconvert_exporter": "python",
   "pygments_lexer": "ipython3",
   "version": "3.12.7"
  },
  "widgets": {
   "application/vnd.jupyter.widget-state+json": {
    "state": {},
    "version_major": 2,
    "version_minor": 0
   }
  }
 },
 "nbformat": 4,
 "nbformat_minor": 5
}
