{
 "cells": [
  {
   "cell_type": "markdown",
   "id": "c216c585-bcbe-4eb7-bed7-301681815356",
   "metadata": {},
   "source": [
    "# Least-squares solution of a linear system\n",
    "author: Parin Chaipunya\n",
    "afiil: KMUTT"
   ]
  },
  {
   "cell_type": "markdown",
   "id": "71ad26fb-c65b-4aad-be23-1a4a047b807e",
   "metadata": {},
   "source": [
    "## Formulation\n",
    "\n",
    "Consider a linear system given by $Ax = b$.\n",
    "When the system has *no solution*, then the best one could do is to find $x$ in which the difference between the left-hand and right-hand sides are the smallest.\n",
    "In such a situation, we are seeking for a vector $x$ that minimizes $f(x) = \\| Ax - b \\|^{2}$.\n",
    "This is a *convex quadratic function* and its minimizer is computed by solving the following system\n",
    "$$\n",
    "A^{\\top}Ax = A^{\\top}b.\n",
    "$$"
   ]
  },
  {
   "cell_type": "code",
   "execution_count": 1,
   "id": "16bc0337-e2d6-4c53-9478-4b76ed2117f9",
   "metadata": {},
   "outputs": [],
   "source": [
    "import numpy as np"
   ]
  },
  {
   "cell_type": "markdown",
   "id": "7a759ac4-4e9b-4cdd-a50a-575e17c74f9f",
   "metadata": {},
   "source": [
    "### Example\n",
    "\n",
    "Let us consider the following linear system\n",
    "$$\n",
    "\\begin{align*}\n",
    "2 x_{1} + 3 x_{2} &= 2 \\\\\n",
    "x_{1} - x_{2} &= 1 \\\\\n",
    "x_{1} + 4 x_{2} &= 0.\n",
    "\\end{align*}\n",
    "$$\n"
   ]
  },
  {
   "cell_type": "markdown",
   "id": "10886ad1-22ba-4a9c-bc7f-87a980d2200a",
   "metadata": {},
   "source": [
    "Let us define the coefficient matrix and the target vector as follows."
   ]
  },
  {
   "cell_type": "code",
   "execution_count": 2,
   "id": "07007ad4-44a6-4a8e-b20d-2f240eafa593",
   "metadata": {},
   "outputs": [],
   "source": [
    "A = np.array([[2, 3], [1, -1], [1, 4]])\n",
    "b = np.array([[2, 1, 0]]).T"
   ]
  },
  {
   "cell_type": "markdown",
   "id": "b49e5bbf-1320-4175-acb4-e38d7e852cec",
   "metadata": {},
   "source": [
    "Next, we shall confirm that $Ax = b$ has no exact solution by comparing the ranks of the matrix $A$ and $[A\\;|\\; b]$."
   ]
  },
  {
   "cell_type": "code",
   "execution_count": 3,
   "id": "c25958fc-4a30-4c2c-8d22-3d2480fca56b",
   "metadata": {},
   "outputs": [
    {
     "data": {
      "text/plain": [
       "np.False_"
      ]
     },
     "execution_count": 3,
     "metadata": {},
     "output_type": "execute_result"
    }
   ],
   "source": [
    "# Check that Ax = b has no solution.\n",
    "np.linalg.matrix_rank(A) == np.linalg.matrix_rank(np.hstack((A,b)))"
   ]
  },
  {
   "cell_type": "markdown",
   "id": "4f1ddd53-e0a0-4362-8479-c1cfaaa7e2af",
   "metadata": {},
   "source": [
    "This is also reflected by the failure of `np.linalg.solve(A,b)`."
   ]
  },
  {
   "cell_type": "code",
   "execution_count": 4,
   "id": "a5a9c638-1c5d-49c4-b17b-231e525cfc20",
   "metadata": {},
   "outputs": [
    {
     "ename": "LinAlgError",
     "evalue": "Last 2 dimensions of the array must be square",
     "output_type": "error",
     "traceback": [
      "\u001b[31m---------------------------------------------------------------------------\u001b[39m",
      "\u001b[31mLinAlgError\u001b[39m                               Traceback (most recent call last)",
      "\u001b[36mCell\u001b[39m\u001b[36m \u001b[39m\u001b[32mIn[4]\u001b[39m\u001b[32m, line 1\u001b[39m\n\u001b[32m----> \u001b[39m\u001b[32m1\u001b[39m \u001b[43mnp\u001b[49m\u001b[43m.\u001b[49m\u001b[43mlinalg\u001b[49m\u001b[43m.\u001b[49m\u001b[43msolve\u001b[49m\u001b[43m(\u001b[49m\u001b[43mA\u001b[49m\u001b[43m,\u001b[49m\u001b[43mb\u001b[49m\u001b[43m)\u001b[49m\n",
      "\u001b[36mFile \u001b[39m\u001b[32m/usr/lib/python3.13/site-packages/numpy/linalg/_linalg.py:457\u001b[39m, in \u001b[36msolve\u001b[39m\u001b[34m(a, b)\u001b[39m\n\u001b[32m    384\u001b[39m \u001b[38;5;250m\u001b[39m\u001b[33;03m\"\"\"\u001b[39;00m\n\u001b[32m    385\u001b[39m \u001b[33;03mSolve a linear matrix equation, or system of linear scalar equations.\u001b[39;00m\n\u001b[32m    386\u001b[39m \n\u001b[32m   (...)\u001b[39m\u001b[32m    454\u001b[39m \n\u001b[32m    455\u001b[39m \u001b[33;03m\"\"\"\u001b[39;00m\n\u001b[32m    456\u001b[39m a, _ = _makearray(a)\n\u001b[32m--> \u001b[39m\u001b[32m457\u001b[39m \u001b[43m_assert_stacked_square\u001b[49m\u001b[43m(\u001b[49m\u001b[43ma\u001b[49m\u001b[43m)\u001b[49m\n\u001b[32m    458\u001b[39m b, wrap = _makearray(b)\n\u001b[32m    459\u001b[39m t, result_t = _commonType(a, b)\n",
      "\u001b[36mFile \u001b[39m\u001b[32m/usr/lib/python3.13/site-packages/numpy/linalg/_linalg.py:264\u001b[39m, in \u001b[36m_assert_stacked_square\u001b[39m\u001b[34m(*arrays)\u001b[39m\n\u001b[32m    261\u001b[39m     \u001b[38;5;28;01mraise\u001b[39;00m LinAlgError(\u001b[33m'\u001b[39m\u001b[38;5;132;01m%d\u001b[39;00m\u001b[33m-dimensional array given. Array must be \u001b[39m\u001b[33m'\u001b[39m\n\u001b[32m    262\u001b[39m             \u001b[33m'\u001b[39m\u001b[33mat least two-dimensional\u001b[39m\u001b[33m'\u001b[39m % a.ndim)\n\u001b[32m    263\u001b[39m \u001b[38;5;28;01mif\u001b[39;00m m != n:\n\u001b[32m--> \u001b[39m\u001b[32m264\u001b[39m     \u001b[38;5;28;01mraise\u001b[39;00m LinAlgError(\u001b[33m'\u001b[39m\u001b[33mLast 2 dimensions of the array must be square\u001b[39m\u001b[33m'\u001b[39m)\n",
      "\u001b[31mLinAlgError\u001b[39m: Last 2 dimensions of the array must be square"
     ]
    }
   ],
   "source": [
    "np.linalg.solve(A,b)"
   ]
  },
  {
   "cell_type": "markdown",
   "id": "e3d9fe83-b797-48f6-822b-1ca2c3523d23",
   "metadata": {},
   "source": [
    "To find the least-squares solution of $Ax = b$, we solve the system $A^{\\top}A x = A^{\\top}b$."
   ]
  },
  {
   "cell_type": "code",
   "execution_count": 5,
   "id": "fea1a989-3277-4a1f-915f-fc964c52b99a",
   "metadata": {},
   "outputs": [
    {
     "name": "stdout",
     "output_type": "stream",
     "text": [
      "The least squares solution is \n",
      "x = \n",
      "[[ 1.13333333]\n",
      " [-0.2       ]]\n"
     ]
    }
   ],
   "source": [
    "x = np.linalg.solve(A.T@A,A.T@b)\n",
    "print(f\"The least squares solution is \\nx = \\n{x}\")"
   ]
  },
  {
   "cell_type": "markdown",
   "id": "042e6bcf-f69a-4f73-8474-333b82e1d432",
   "metadata": {},
   "source": [
    "Actually, we can use the built-in function `np.linalg.lstsq` to find the least-squares solution as shown in the next block.\n",
    "The solution we are looking for is in the first output of the function."
   ]
  },
  {
   "cell_type": "code",
   "execution_count": 6,
   "id": "23503cd0-08e6-4028-a202-a64abef35dab",
   "metadata": {},
   "outputs": [
    {
     "name": "stdout",
     "output_type": "stream",
     "text": [
      "[[ 1.13333333]\n",
      " [-0.2       ]]\n"
     ]
    }
   ],
   "source": [
    "x, *_ = np.linalg.lstsq(A,b)\n",
    "print(x)"
   ]
  },
  {
   "cell_type": "markdown",
   "id": "d7463f40-3778-4e2d-9a78-7277e0647cc4",
   "metadata": {},
   "source": [
    "-----"
   ]
  }
 ],
 "metadata": {
  "kernelspec": {
   "display_name": "Python 3 (ipykernel)",
   "language": "python",
   "name": "python3"
  },
  "language_info": {
   "codemirror_mode": {
    "name": "ipython",
    "version": 3
   },
   "file_extension": ".py",
   "mimetype": "text/x-python",
   "name": "python",
   "nbconvert_exporter": "python",
   "pygments_lexer": "ipython3",
   "version": "3.13.7"
  },
  "widgets": {
   "application/vnd.jupyter.widget-state+json": {
    "state": {},
    "version_major": 2,
    "version_minor": 0
   }
  }
 },
 "nbformat": 4,
 "nbformat_minor": 5
}
