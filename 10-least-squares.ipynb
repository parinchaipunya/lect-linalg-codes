{
 "cells": [
  {
   "cell_type": "markdown",
   "id": "71ad26fb-c65b-4aad-be23-1a4a047b807e",
   "metadata": {},
   "source": [
    "## Least-squares solution of a linear system\n",
    "\n",
    "Consider a linear system given by $Ax = b$.\n",
    "When the system has *no solution*, then the best one could do is to find $x$ in which the difference between the left-hand and right-hand sides are the smallest.\n",
    "In such a situation, we are seeking for a vector $x$ that minimizes $f(x) = \\| Ax - b \\|^{2}$.\n",
    "This is a *convex quadratic function* and its minimizer is computed by solving the following system\n",
    "$$\n",
    "A^{T}Ax = A^{T}b.\n",
    "$$"
   ]
  },
  {
   "cell_type": "code",
   "execution_count": 1,
   "id": "16bc0337-e2d6-4c53-9478-4b76ed2117f9",
   "metadata": {},
   "outputs": [],
   "source": [
    "import numpy as np"
   ]
  },
  {
   "cell_type": "code",
   "execution_count": 23,
   "id": "07007ad4-44a6-4a8e-b20d-2f240eafa593",
   "metadata": {},
   "outputs": [],
   "source": [
    "# Define the system Ax = b that has multiple solutions.\n",
    "A = np.array([[2, 3], [1, -1], [1, 4]])\n",
    "b = np.array([[2, 1, 0]]).T"
   ]
  },
  {
   "cell_type": "code",
   "execution_count": 30,
   "id": "c25958fc-4a30-4c2c-8d22-3d2480fca56b",
   "metadata": {},
   "outputs": [
    {
     "data": {
      "text/plain": [
       "np.False_"
      ]
     },
     "execution_count": 30,
     "metadata": {},
     "output_type": "execute_result"
    }
   ],
   "source": [
    "# Check that Ax = b has no solution.\n",
    "np.linalg.matrix_rank(A) == np.linalg.matrix_rank(np.hstack((A,b)))"
   ]
  },
  {
   "cell_type": "code",
   "execution_count": 28,
   "id": "fea1a989-3277-4a1f-915f-fc964c52b99a",
   "metadata": {},
   "outputs": [
    {
     "name": "stdout",
     "output_type": "stream",
     "text": [
      "The least squares solution is \n",
      "x = \n",
      "[[ 1.13333333]\n",
      " [-0.2       ]]\n"
     ]
    }
   ],
   "source": [
    "# Compute the least-squares solution by solving A'Ax = A'b.\n",
    "x = np.linalg.solve(A.T@A,A.T@b)\n",
    "print(f\"The least squares solution is \\nx = \\n{x}\")"
   ]
  },
  {
   "cell_type": "code",
   "execution_count": null,
   "id": "23503cd0-08e6-4028-a202-a64abef35dab",
   "metadata": {},
   "outputs": [],
   "source": []
  }
 ],
 "metadata": {
  "kernelspec": {
   "display_name": "Python 3 (ipykernel)",
   "language": "python",
   "name": "python3"
  },
  "language_info": {
   "codemirror_mode": {
    "name": "ipython",
    "version": 3
   },
   "file_extension": ".py",
   "mimetype": "text/x-python",
   "name": "python",
   "nbconvert_exporter": "python",
   "pygments_lexer": "ipython3",
   "version": "3.12.7"
  },
  "widgets": {
   "application/vnd.jupyter.widget-state+json": {
    "state": {},
    "version_major": 2,
    "version_minor": 0
   }
  }
 },
 "nbformat": 4,
 "nbformat_minor": 5
}
