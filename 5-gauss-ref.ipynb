{
 "cells": [
  {
   "cell_type": "code",
   "execution_count": 1,
   "id": "3516bf27-ec2d-4fba-a7cc-e2977659cf37",
   "metadata": {},
   "outputs": [],
   "source": [
    "import numpy as np"
   ]
  },
  {
   "cell_type": "code",
   "execution_count": 170,
   "id": "60570134-cbb0-426c-9d60-33159010f3f9",
   "metadata": {},
   "outputs": [],
   "source": [
    "def REF(A):\n",
    "\n",
    "    m, n = A.shape\n",
    "    A = A.astype(float)\n",
    "\n",
    "    print(f\"Input matrix \\nA = \\n{A}\\n\\n\")\n",
    "    \n",
    "    I = 0\n",
    "    for j in range(n):\n",
    "        print(f\"-----CONSIDER COL {j}-----\\n\")\n",
    "        for i in range(m):\n",
    "            if i >= I and A[i,j] != 0:\n",
    "                print(f\"CONSIDER ROW {I}\\nSWAP rows {i} and {I}:\")\n",
    "                A[[I,i]] = A[[i,I]]\n",
    "                print(f\"A = \\n{A}\")\n",
    "                A[I,:] /= A[I,j]\n",
    "                A[I+1:,:] -= A[I+1:,[j]] * A[I,:]\n",
    "                print(f\"PIVOT at ({I},{j}): \\nA = \\n{A}\\n\\nROW {I} DONE.\")\n",
    "                I += 1\n",
    "                break\n",
    "        print(f\"COL {j} DONE.\\n\")\n",
    "    \n",
    "    print(\"-----ALL COLs DONE-----\\n\")\n",
    "    print(f\"REF(A) = \\n{A}\")\n",
    "    \n",
    "    return A"
   ]
  },
  {
   "cell_type": "code",
   "execution_count": 171,
   "id": "c64fbe06-a311-4522-9bd0-3a81c2b6e3e6",
   "metadata": {},
   "outputs": [
    {
     "data": {
      "text/plain": [
       "array([[ 2.,  0.,  0.,  1.],\n",
       "       [ 2.,  1.,  0., -1.],\n",
       "       [ 0.,  0.,  0.,  1.]])"
      ]
     },
     "execution_count": 171,
     "metadata": {},
     "output_type": "execute_result"
    }
   ],
   "source": [
    "A = np.array([[2, 0, 0, 1], [2, 1, 0, -1], [0, 0, 0, 1.]])\n",
    "A"
   ]
  },
  {
   "cell_type": "code",
   "execution_count": 172,
   "id": "32bbacae-8d3a-413d-821c-fd324a13be1f",
   "metadata": {},
   "outputs": [
    {
     "name": "stdout",
     "output_type": "stream",
     "text": [
      "Input matrix \n",
      "A = \n",
      "[[ 2.  0.  0.  1.]\n",
      " [ 2.  1.  0. -1.]\n",
      " [ 0.  0.  0.  1.]]\n",
      "\n",
      "\n",
      "-----CONSIDER COL 0-----\n",
      "\n",
      "CONSIDER ROW 0\n",
      "SWAP rows 0 and 0:\n",
      "A = \n",
      "[[ 2.  0.  0.  1.]\n",
      " [ 2.  1.  0. -1.]\n",
      " [ 0.  0.  0.  1.]]\n",
      "PIVOT at (0,0): \n",
      "A = \n",
      "[[ 1.   0.   0.   0.5]\n",
      " [ 0.   1.   0.  -2. ]\n",
      " [ 0.   0.   0.   1. ]]\n",
      "\n",
      "ROW 0 DONE.\n",
      "COL 0 DONE.\n",
      "\n",
      "-----CONSIDER COL 1-----\n",
      "\n",
      "CONSIDER ROW 1\n",
      "SWAP rows 1 and 1:\n",
      "A = \n",
      "[[ 1.   0.   0.   0.5]\n",
      " [ 0.   1.   0.  -2. ]\n",
      " [ 0.   0.   0.   1. ]]\n",
      "PIVOT at (1,1): \n",
      "A = \n",
      "[[ 1.   0.   0.   0.5]\n",
      " [ 0.   1.   0.  -2. ]\n",
      " [ 0.   0.   0.   1. ]]\n",
      "\n",
      "ROW 1 DONE.\n",
      "COL 1 DONE.\n",
      "\n",
      "-----CONSIDER COL 2-----\n",
      "\n",
      "COL 2 DONE.\n",
      "\n",
      "-----CONSIDER COL 3-----\n",
      "\n",
      "CONSIDER ROW 2\n",
      "SWAP rows 2 and 2:\n",
      "A = \n",
      "[[ 1.   0.   0.   0.5]\n",
      " [ 0.   1.   0.  -2. ]\n",
      " [ 0.   0.   0.   1. ]]\n",
      "PIVOT at (2,3): \n",
      "A = \n",
      "[[ 1.   0.   0.   0.5]\n",
      " [ 0.   1.   0.  -2. ]\n",
      " [ 0.   0.   0.   1. ]]\n",
      "\n",
      "ROW 2 DONE.\n",
      "COL 3 DONE.\n",
      "\n",
      "-----ALL COLs DONE-----\n",
      "\n",
      "REF(A) = \n",
      "[[ 1.   0.   0.   0.5]\n",
      " [ 0.   1.   0.  -2. ]\n",
      " [ 0.   0.   0.   1. ]]\n"
     ]
    }
   ],
   "source": [
    "A_ref = REF(A)"
   ]
  },
  {
   "cell_type": "code",
   "execution_count": 173,
   "id": "18a1692e-5a1d-4258-8bae-bd33e30874e7",
   "metadata": {},
   "outputs": [
    {
     "data": {
      "text/plain": [
       "array([[  3,   9,   0,  15,   3],\n",
       "       [  1,   3,   0,   5,   1],\n",
       "       [-10,   0,   0,   2,  -1],\n",
       "       [  0,   0,   0,   0,   0],\n",
       "       [  1,   0,   1,   1,   4]])"
      ]
     },
     "execution_count": 173,
     "metadata": {},
     "output_type": "execute_result"
    }
   ],
   "source": [
    "B = np.array([\n",
    "    [3, 9, 0, 15, 3],\n",
    "    [1, 3, 0, 5, 1],\n",
    "    [-10, 0, 0, 2, -1],\n",
    "    [0, 0, 0, 0, 0],\n",
    "    [1, 0, 1, 1, 4]\n",
    "])\n",
    "B"
   ]
  },
  {
   "cell_type": "code",
   "execution_count": 174,
   "id": "c2015cc5-2936-4694-8c96-a8b25686a3af",
   "metadata": {},
   "outputs": [
    {
     "name": "stdout",
     "output_type": "stream",
     "text": [
      "Input matrix \n",
      "A = \n",
      "[[  3.   9.   0.  15.   3.]\n",
      " [  1.   3.   0.   5.   1.]\n",
      " [-10.   0.   0.   2.  -1.]\n",
      " [  0.   0.   0.   0.   0.]\n",
      " [  1.   0.   1.   1.   4.]]\n",
      "\n",
      "\n",
      "-----CONSIDER COL 0-----\n",
      "\n",
      "CONSIDER ROW 0\n",
      "SWAP rows 0 and 0:\n",
      "A = \n",
      "[[  3.   9.   0.  15.   3.]\n",
      " [  1.   3.   0.   5.   1.]\n",
      " [-10.   0.   0.   2.  -1.]\n",
      " [  0.   0.   0.   0.   0.]\n",
      " [  1.   0.   1.   1.   4.]]\n",
      "PIVOT at (0,0): \n",
      "A = \n",
      "[[ 1.  3.  0.  5.  1.]\n",
      " [ 0.  0.  0.  0.  0.]\n",
      " [ 0. 30.  0. 52.  9.]\n",
      " [ 0.  0.  0.  0.  0.]\n",
      " [ 0. -3.  1. -4.  3.]]\n",
      "\n",
      "ROW 0 DONE.\n",
      "COL 0 DONE.\n",
      "\n",
      "-----CONSIDER COL 1-----\n",
      "\n",
      "CONSIDER ROW 1\n",
      "SWAP rows 2 and 1:\n",
      "A = \n",
      "[[ 1.  3.  0.  5.  1.]\n",
      " [ 0. 30.  0. 52.  9.]\n",
      " [ 0.  0.  0.  0.  0.]\n",
      " [ 0.  0.  0.  0.  0.]\n",
      " [ 0. -3.  1. -4.  3.]]\n",
      "PIVOT at (1,1): \n",
      "A = \n",
      "[[1.         3.         0.         5.         1.        ]\n",
      " [0.         1.         0.         1.73333333 0.3       ]\n",
      " [0.         0.         0.         0.         0.        ]\n",
      " [0.         0.         0.         0.         0.        ]\n",
      " [0.         0.         1.         1.2        3.9       ]]\n",
      "\n",
      "ROW 1 DONE.\n",
      "COL 1 DONE.\n",
      "\n",
      "-----CONSIDER COL 2-----\n",
      "\n",
      "CONSIDER ROW 3\n",
      "SWAP rows 4 and 3:\n",
      "A = \n",
      "[[1.         3.         0.         5.         1.        ]\n",
      " [0.         1.         0.         1.73333333 0.3       ]\n",
      " [0.         0.         0.         0.         0.        ]\n",
      " [0.         0.         1.         1.2        3.9       ]\n",
      " [0.         0.         0.         0.         0.        ]]\n",
      "PIVOT at (3,2): \n",
      "A = \n",
      "[[1.         3.         0.         5.         1.        ]\n",
      " [0.         1.         0.         1.73333333 0.3       ]\n",
      " [0.         0.         0.         0.         0.        ]\n",
      " [0.         0.         1.         1.2        3.9       ]\n",
      " [0.         0.         0.         0.         0.        ]]\n",
      "\n",
      "ROW 3 DONE.\n",
      "COL 2 DONE.\n",
      "\n",
      "-----CONSIDER COL 3-----\n",
      "\n",
      "COL 3 DONE.\n",
      "\n",
      "-----CONSIDER COL 4-----\n",
      "\n",
      "COL 4 DONE.\n",
      "\n",
      "-----ALL COLs DONE-----\n",
      "\n",
      "REF(A) = \n",
      "[[1.         3.         0.         5.         1.        ]\n",
      " [0.         1.         0.         1.73333333 0.3       ]\n",
      " [0.         0.         0.         0.         0.        ]\n",
      " [0.         0.         1.         1.2        3.9       ]\n",
      " [0.         0.         0.         0.         0.        ]]\n"
     ]
    }
   ],
   "source": [
    "B_ref = REF(B)"
   ]
  },
  {
   "cell_type": "code",
   "execution_count": 175,
   "id": "c122fee4-e0a5-464e-b008-3e6156dab8a9",
   "metadata": {},
   "outputs": [],
   "source": [
    "C = np.array([\n",
    "    [0, 0, 0, 0, 0, 0],\n",
    "    [0, 0, 1, 0, 1, 4],\n",
    "    [1, 1, 2, 0, 2, -5],\n",
    "    [1, 0, 1, 3, 3, 1],\n",
    "    [2, 1, 3, 3, 5, -4]\n",
    "])"
   ]
  },
  {
   "cell_type": "code",
   "execution_count": 176,
   "id": "fcd6d437-566e-4008-957f-96ca7939a596",
   "metadata": {},
   "outputs": [
    {
     "name": "stdout",
     "output_type": "stream",
     "text": [
      "Input matrix \n",
      "A = \n",
      "[[ 0.  0.  0.  0.  0.  0.]\n",
      " [ 0.  0.  1.  0.  1.  4.]\n",
      " [ 1.  1.  2.  0.  2. -5.]\n",
      " [ 1.  0.  1.  3.  3.  1.]\n",
      " [ 2.  1.  3.  3.  5. -4.]]\n",
      "\n",
      "\n",
      "-----CONSIDER COL 0-----\n",
      "\n",
      "CONSIDER ROW 0\n",
      "SWAP rows 2 and 0:\n",
      "A = \n",
      "[[ 1.  1.  2.  0.  2. -5.]\n",
      " [ 0.  0.  1.  0.  1.  4.]\n",
      " [ 0.  0.  0.  0.  0.  0.]\n",
      " [ 1.  0.  1.  3.  3.  1.]\n",
      " [ 2.  1.  3.  3.  5. -4.]]\n",
      "PIVOT at (0,0): \n",
      "A = \n",
      "[[ 1.  1.  2.  0.  2. -5.]\n",
      " [ 0.  0.  1.  0.  1.  4.]\n",
      " [ 0.  0.  0.  0.  0.  0.]\n",
      " [ 0. -1. -1.  3.  1.  6.]\n",
      " [ 0. -1. -1.  3.  1.  6.]]\n",
      "\n",
      "ROW 0 DONE.\n",
      "COL 0 DONE.\n",
      "\n",
      "-----CONSIDER COL 1-----\n",
      "\n",
      "CONSIDER ROW 3\n",
      "SWAP rows 3 and 3:\n",
      "A = \n",
      "[[ 1.  1.  2.  0.  2. -5.]\n",
      " [ 0.  0.  1.  0.  1.  4.]\n",
      " [ 0.  0.  0.  0.  0.  0.]\n",
      " [ 0. -1. -1.  3.  1.  6.]\n",
      " [ 0. -1. -1.  3.  1.  6.]]\n",
      "PIVOT at (3,1): \n",
      "A = \n",
      "[[ 1.  1.  2.  0.  2. -5.]\n",
      " [ 0.  0.  1.  0.  1.  4.]\n",
      " [ 0.  0.  0.  0.  0.  0.]\n",
      " [-0.  1.  1. -3. -1. -6.]\n",
      " [ 0.  0.  0.  0.  0.  0.]]\n",
      "\n",
      "ROW 3 DONE.\n",
      "COL 1 DONE.\n",
      "\n",
      "-----CONSIDER COL 2-----\n",
      "\n",
      "COL 2 DONE.\n",
      "\n",
      "-----CONSIDER COL 3-----\n",
      "\n",
      "COL 3 DONE.\n",
      "\n",
      "-----CONSIDER COL 4-----\n",
      "\n",
      "COL 4 DONE.\n",
      "\n",
      "-----CONSIDER COL 5-----\n",
      "\n",
      "COL 5 DONE.\n",
      "\n",
      "-----ALL COLs DONE-----\n",
      "\n",
      "REF(A) = \n",
      "[[ 1.  1.  2.  0.  2. -5.]\n",
      " [ 0.  0.  1.  0.  1.  4.]\n",
      " [ 0.  0.  0.  0.  0.  0.]\n",
      " [-0.  1.  1. -3. -1. -6.]\n",
      " [ 0.  0.  0.  0.  0.  0.]]\n"
     ]
    }
   ],
   "source": [
    "C_ref = REF(C)"
   ]
  },
  {
   "cell_type": "markdown",
   "id": "23f29a88-e377-4d91-bf26-62266eaf8dbf",
   "metadata": {},
   "source": [
    "-----"
   ]
  }
 ],
 "metadata": {
  "kernelspec": {
   "display_name": "Python 3 (ipykernel)",
   "language": "python",
   "name": "python3"
  },
  "language_info": {
   "codemirror_mode": {
    "name": "ipython",
    "version": 3
   },
   "file_extension": ".py",
   "mimetype": "text/x-python",
   "name": "python",
   "nbconvert_exporter": "python",
   "pygments_lexer": "ipython3",
   "version": "3.12.7"
  },
  "widgets": {
   "application/vnd.jupyter.widget-state+json": {
    "state": {},
    "version_major": 2,
    "version_minor": 0
   }
  }
 },
 "nbformat": 4,
 "nbformat_minor": 5
}
