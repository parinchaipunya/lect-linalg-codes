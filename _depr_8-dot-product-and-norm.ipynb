{
 "cells": [
  {
   "cell_type": "markdown",
   "id": "2b7249fd-c682-4b6f-b35f-c6acd8789b78",
   "metadata": {},
   "source": [
    "# Dot product and norm\n",
    "\n",
    "Recall that the dot product of two vectors $x,y \\in \\mathbb{R}^{n}$ is\n",
    "\n",
    "$x \\cdot y = x_{1}y_{1} + x_{2}y_{2} + \\dots + x_{n}y_{n} = x^{T}y$,\n",
    "\n",
    "and the norm of a vector $x$ is \n",
    "\n",
    "$\\| x \\| = \\sqrt{x \\cdot x}.$\n",
    "\n",
    "Actually `numpy` has both functions built in (try googling by yourself ;D ), but we shall write our own functions just to learn more."
   ]
  },
  {
   "cell_type": "code",
   "execution_count": 1,
   "id": "341cca04-4911-4179-bb8f-fcac04e823e0",
   "metadata": {},
   "outputs": [],
   "source": [
    "import numpy as np"
   ]
  },
  {
   "cell_type": "code",
   "execution_count": 2,
   "id": "b25f0727-cbef-42d4-bfb4-b15b0490d619",
   "metadata": {},
   "outputs": [],
   "source": [
    "def dot(x,y):\n",
    "    d = x.T@y\n",
    "    return d\n",
    "\n",
    "def norm(x):\n",
    "    n = np.sqrt(dot(x,x))\n",
    "    return n"
   ]
  },
  {
   "cell_type": "code",
   "execution_count": 3,
   "id": "eaccc16a-06be-42eb-a212-2f0b7fecbd8f",
   "metadata": {},
   "outputs": [],
   "source": [
    "x = np.array([[3, -2, 0, 3]]).T\n",
    "y = np.array([[2, 0, 1, -2]]).T"
   ]
  },
  {
   "cell_type": "code",
   "execution_count": 4,
   "id": "920972e8-77c3-43d9-a80e-dbfe1badd872",
   "metadata": {},
   "outputs": [
    {
     "name": "stdout",
     "output_type": "stream",
     "text": [
      "x.y = [[0]]\n"
     ]
    }
   ],
   "source": [
    "print(f\"x.y = {dot(x,y)}\")"
   ]
  },
  {
   "cell_type": "code",
   "execution_count": 5,
   "id": "87b99716-be6f-4c1c-ba15-f279e62de6b2",
   "metadata": {},
   "outputs": [
    {
     "name": "stdout",
     "output_type": "stream",
     "text": [
      "||x|| = [[4.69041576]], ||y|| = [[3.]]\n"
     ]
    }
   ],
   "source": [
    "print(f\"||x|| = {norm(x)}, ||y|| = {norm(y)}\")"
   ]
  },
  {
   "cell_type": "markdown",
   "id": "c7db052f-ab43-4545-99da-67fbc6e28d27",
   "metadata": {},
   "source": [
    "#### Angle between two vectors"
   ]
  },
  {
   "cell_type": "code",
   "execution_count": 6,
   "id": "a9508715-efec-48eb-91f4-c3e6abb1ab46",
   "metadata": {},
   "outputs": [],
   "source": [
    "def angle(x,y):\n",
    "    if norm(x) == 0 or norm(y) == 0:\n",
    "        print(\"Invalid input: One of the vectors is zero.\")\n",
    "        return\n",
    "    theta_rad = np.acos(dot(x,y)/(norm(x)*norm(y)))\n",
    "    theta_deg = theta_rad*180/np.pi\n",
    "    return theta_rad, theta_deg"
   ]
  },
  {
   "cell_type": "code",
   "execution_count": 7,
   "id": "056aae32-739f-4e95-873d-9e9570492399",
   "metadata": {},
   "outputs": [
    {
     "name": "stdout",
     "output_type": "stream",
     "text": [
      "The angle between x and y is [[1.57079633]] radian, which is [[90.]] degrees.\n"
     ]
    }
   ],
   "source": [
    "theta_rad, theta_deg = angle(x,y)\n",
    "print(f\"The angle between x and y is {theta_rad} radian, which is {theta_deg} degrees.\")"
   ]
  },
  {
   "cell_type": "markdown",
   "id": "4d344134-ec93-4fae-b3cd-03d9687fe60a",
   "metadata": {},
   "source": [
    "----"
   ]
  },
  {
   "cell_type": "markdown",
   "id": "2632d57f-40e1-4402-85b1-34e45e07e554",
   "metadata": {},
   "source": [
    "## Projections\n",
    "\n",
    "Recall that the projection of a vector $x \\in \\mathbb{R}^{n}$ onto another vector $y \\in \\mathbb{R}^{n}$ is\n",
    "\n",
    "$\\mathrm{proj}_{y}(x) = \\left(\\dfrac{x \\cdot y}{\\| y \\|^{2}}\\right) y.$\n",
    "\n",
    "Let us write a function for this operator."
   ]
  },
  {
   "cell_type": "code",
   "execution_count": 8,
   "id": "61426717-1070-456d-a9c7-975e4e9082dd",
   "metadata": {},
   "outputs": [],
   "source": [
    "def proj(x,y):\n",
    "    \"\"\" Projection of x onto y\"\"\"\n",
    "    p = dot(x,y)/(norm(y)**2)*y\n",
    "    return p"
   ]
  },
  {
   "cell_type": "code",
   "execution_count": 9,
   "id": "501afb9e-47b2-4ce0-9281-8654e743a64c",
   "metadata": {},
   "outputs": [
    {
     "name": "stdout",
     "output_type": "stream",
     "text": [
      "[[0.5]\n",
      " [0.5]]\n"
     ]
    }
   ],
   "source": [
    "x = np.array([[1, 0]]).T\n",
    "y = np.array([[1,1]]).T\n",
    "print(proj(x,y))"
   ]
  },
  {
   "cell_type": "code",
   "execution_count": null,
   "id": "c2a5665b-e271-4fa9-9488-8a9a311b6b21",
   "metadata": {},
   "outputs": [],
   "source": []
  }
 ],
 "metadata": {
  "kernelspec": {
   "display_name": "Python 3 (ipykernel)",
   "language": "python",
   "name": "python3"
  },
  "language_info": {
   "codemirror_mode": {
    "name": "ipython",
    "version": 3
   },
   "file_extension": ".py",
   "mimetype": "text/x-python",
   "name": "python",
   "nbconvert_exporter": "python",
   "pygments_lexer": "ipython3",
   "version": "3.13.7"
  },
  "widgets": {
   "application/vnd.jupyter.widget-state+json": {
    "state": {},
    "version_major": 2,
    "version_minor": 0
   }
  }
 },
 "nbformat": 4,
 "nbformat_minor": 5
}
