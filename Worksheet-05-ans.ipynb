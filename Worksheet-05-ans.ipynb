{
 "cells": [
  {
   "cell_type": "markdown",
   "id": "569c5422-90de-45a5-862d-5414df102f3a",
   "metadata": {},
   "source": [
    "# MTH202 Worksheet 5"
   ]
  },
  {
   "cell_type": "markdown",
   "id": "0a306b20-f4a9-4499-8487-3714202ea8a9",
   "metadata": {},
   "source": [
    "## Problem 1\n",
    "\n",
    "Write a function that takes five inputs, then eject two outputs which are the maximum and minimum of the inputs.\n",
    "\n",
    "*Hint: use `np.max` and `np.min`, respectively, to find the maximum and minimum entries of an array.*"
   ]
  },
  {
   "cell_type": "code",
   "execution_count": 1,
   "id": "264c2042-611a-4aa1-873a-547a587bdb9e",
   "metadata": {},
   "outputs": [],
   "source": [
    "import numpy as np"
   ]
  },
  {
   "cell_type": "code",
   "execution_count": 2,
   "id": "ee3f588d-00e7-4621-ac64-333acfc09a5a",
   "metadata": {},
   "outputs": [],
   "source": [
    "def Max_Min(x):\n",
    "    Max = np.max(x)\n",
    "    Min = np.min(x)\n",
    "    return Max, Min"
   ]
  },
  {
   "cell_type": "code",
   "execution_count": 3,
   "id": "9be3c4de-b977-4156-b5e0-51a0f0ffb3d4",
   "metadata": {},
   "outputs": [
    {
     "name": "stdout",
     "output_type": "stream",
     "text": [
      "Max = 11, Min = -7\n"
     ]
    }
   ],
   "source": [
    "x = np.array([1, 4, -6, 3, 11, 5, -7])\n",
    "Max, Min = Max_Min(x)\n",
    "print(f\"Max = {Max}, Min = {Min}\")"
   ]
  },
  {
   "cell_type": "markdown",
   "id": "c616d83b-bb8b-47f7-afd9-dfd4577c46a1",
   "metadata": {},
   "source": [
    "## Problem 2\n",
    "\n",
    "Write a function that takes one input `x` and output a string `\"EVEN\"` if `x` is even, and output a string `\"ODD\"` if `x` is odd.\n",
    "\n",
    "**Hints**<br>\n",
    "1. An even number is a number $x$ whose remainder of $x / 2$ is 0.\n",
    "2. Use `a % b` to compute the remainder of $a/b$."
   ]
  },
  {
   "cell_type": "code",
   "execution_count": 4,
   "id": "39c6845d-1382-405d-ba50-6eb81351a1f0",
   "metadata": {},
   "outputs": [],
   "source": [
    "def Even_Odd(x):\n",
    "    if x % 2 == 0:\n",
    "        print(f\"x = {x} is Even\")\n",
    "    else:\n",
    "        print(f\"x = {x} is Odd\")"
   ]
  },
  {
   "cell_type": "code",
   "execution_count": 5,
   "id": "d6e01edb-9d3d-495e-9102-06540fec0312",
   "metadata": {},
   "outputs": [
    {
     "name": "stdout",
     "output_type": "stream",
     "text": [
      "x = -4 is Even\n"
     ]
    }
   ],
   "source": [
    "Even_Odd(-4)"
   ]
  },
  {
   "cell_type": "code",
   "execution_count": 6,
   "id": "1ffb1f0d-0d6b-4df3-b79d-293f62376280",
   "metadata": {},
   "outputs": [
    {
     "name": "stdout",
     "output_type": "stream",
     "text": [
      "x = 57 is Odd\n"
     ]
    }
   ],
   "source": [
    "Even_Odd(57)"
   ]
  },
  {
   "cell_type": "markdown",
   "id": "72ff96f9-87c9-4e03-adfe-f1cd862240ff",
   "metadata": {},
   "source": [
    "## Problem 3\n",
    "\n",
    "Use `lambda` to define the same function as in Problem 1."
   ]
  },
  {
   "cell_type": "code",
   "execution_count": 7,
   "id": "66f37124-3f13-43d1-ab38-96c92e40a4d2",
   "metadata": {},
   "outputs": [],
   "source": [
    "max_min = lambda x: (np.max(x), np.min(x))"
   ]
  },
  {
   "cell_type": "code",
   "execution_count": 8,
   "id": "b0646f58-ae9e-4fc7-a7d4-35552101fd44",
   "metadata": {},
   "outputs": [
    {
     "name": "stdout",
     "output_type": "stream",
     "text": [
      "Max = 7, Min = -1\n"
     ]
    }
   ],
   "source": [
    "Max, Min = max_min([1, 3, 7, -1, 0])\n",
    "print(f\"Max = {Max}, Min = {Min}\")"
   ]
  }
 ],
 "metadata": {
  "kernelspec": {
   "display_name": "Python 3 (ipykernel)",
   "language": "python",
   "name": "python3"
  },
  "language_info": {
   "codemirror_mode": {
    "name": "ipython",
    "version": 3
   },
   "file_extension": ".py",
   "mimetype": "text/x-python",
   "name": "python",
   "nbconvert_exporter": "python",
   "pygments_lexer": "ipython3",
   "version": "3.13.7"
  }
 },
 "nbformat": 4,
 "nbformat_minor": 5
}
