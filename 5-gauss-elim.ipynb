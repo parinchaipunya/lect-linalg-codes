{
 "cells": [
  {
   "cell_type": "code",
   "execution_count": 1,
   "id": "3516bf27-ec2d-4fba-a7cc-e2977659cf37",
   "metadata": {},
   "outputs": [],
   "source": [
    "import numpy as np"
   ]
  },
  {
   "cell_type": "code",
   "execution_count": 2,
   "id": "60570134-cbb0-426c-9d60-33159010f3f9",
   "metadata": {},
   "outputs": [],
   "source": [
    "def REF(A):\n",
    "\n",
    "    m, n = A.shape\n",
    "    A = A.astype(float)\n",
    "\n",
    "    print(f\"Input matrix \\nA = \\n{A}\\n\\n\")\n",
    "    \n",
    "    I = 0\n",
    "    for j in range(n):\n",
    "        print(f\"-----CONSIDER COL {j}-----\\n\")\n",
    "        for i in range(m):\n",
    "            if i >= I and A[i,j] != 0:\n",
    "                print(f\"CONSIDER ROW {I}\\nSWAP rows {i} and {I}:\")\n",
    "                A[[I,i]] = A[[i,I]]\n",
    "                print(f\"A = \\n{A}\")\n",
    "                A[I,:] /= A[I,j]\n",
    "                A[I+1:,:] -= A[I+1:,[j]] * A[I,:]\n",
    "                print(f\"PIVOT at ({I},{j}): \\nA = \\n{A}\\n\\nROW {I} DONE.\")\n",
    "                I += 1\n",
    "                break\n",
    "        print(f\"COL {j} DONE.\\n\")\n",
    "    \n",
    "    print(\"-----ALL COLs DONE-----\\n\")\n",
    "    print(f\"REF(A) = \\n{A}\")\n",
    "    \n",
    "    return A"
   ]
  },
  {
   "cell_type": "code",
   "execution_count": 3,
   "id": "c64fbe06-a311-4522-9bd0-3a81c2b6e3e6",
   "metadata": {},
   "outputs": [
    {
     "data": {
      "text/plain": [
       "array([[ 2.,  0.,  0.,  1.],\n",
       "       [ 2.,  1.,  0., -1.],\n",
       "       [ 0.,  0.,  0.,  1.]])"
      ]
     },
     "execution_count": 3,
     "metadata": {},
     "output_type": "execute_result"
    }
   ],
   "source": [
    "A = np.array([[2, 0, 0, 1], [2, 1, 0, -1], [0, 0, 0, 1.]])\n",
    "A"
   ]
  },
  {
   "cell_type": "code",
   "execution_count": 4,
   "id": "32bbacae-8d3a-413d-821c-fd324a13be1f",
   "metadata": {},
   "outputs": [
    {
     "name": "stdout",
     "output_type": "stream",
     "text": [
      "Input matrix \n",
      "A = \n",
      "[[ 2.  0.  0.  1.]\n",
      " [ 2.  1.  0. -1.]\n",
      " [ 0.  0.  0.  1.]]\n",
      "\n",
      "\n",
      "-----CONSIDER COL 0-----\n",
      "\n",
      "CONSIDER ROW 0\n",
      "SWAP rows 0 and 0:\n",
      "A = \n",
      "[[ 2.  0.  0.  1.]\n",
      " [ 2.  1.  0. -1.]\n",
      " [ 0.  0.  0.  1.]]\n",
      "PIVOT at (0,0): \n",
      "A = \n",
      "[[ 1.   0.   0.   0.5]\n",
      " [ 0.   1.   0.  -2. ]\n",
      " [ 0.   0.   0.   1. ]]\n",
      "\n",
      "ROW 0 DONE.\n",
      "COL 0 DONE.\n",
      "\n",
      "-----CONSIDER COL 1-----\n",
      "\n",
      "CONSIDER ROW 1\n",
      "SWAP rows 1 and 1:\n",
      "A = \n",
      "[[ 1.   0.   0.   0.5]\n",
      " [ 0.   1.   0.  -2. ]\n",
      " [ 0.   0.   0.   1. ]]\n",
      "PIVOT at (1,1): \n",
      "A = \n",
      "[[ 1.   0.   0.   0.5]\n",
      " [ 0.   1.   0.  -2. ]\n",
      " [ 0.   0.   0.   1. ]]\n",
      "\n",
      "ROW 1 DONE.\n",
      "COL 1 DONE.\n",
      "\n",
      "-----CONSIDER COL 2-----\n",
      "\n",
      "COL 2 DONE.\n",
      "\n",
      "-----CONSIDER COL 3-----\n",
      "\n",
      "CONSIDER ROW 2\n",
      "SWAP rows 2 and 2:\n",
      "A = \n",
      "[[ 1.   0.   0.   0.5]\n",
      " [ 0.   1.   0.  -2. ]\n",
      " [ 0.   0.   0.   1. ]]\n",
      "PIVOT at (2,3): \n",
      "A = \n",
      "[[ 1.   0.   0.   0.5]\n",
      " [ 0.   1.   0.  -2. ]\n",
      " [ 0.   0.   0.   1. ]]\n",
      "\n",
      "ROW 2 DONE.\n",
      "COL 3 DONE.\n",
      "\n",
      "-----ALL COLs DONE-----\n",
      "\n",
      "REF(A) = \n",
      "[[ 1.   0.   0.   0.5]\n",
      " [ 0.   1.   0.  -2. ]\n",
      " [ 0.   0.   0.   1. ]]\n"
     ]
    }
   ],
   "source": [
    "A_ref = REF(A)"
   ]
  },
  {
   "cell_type": "markdown",
   "id": "23f29a88-e377-4d91-bf26-62266eaf8dbf",
   "metadata": {},
   "source": [
    "-----"
   ]
  }
 ],
 "metadata": {
  "kernelspec": {
   "display_name": "Python 3 (ipykernel)",
   "language": "python",
   "name": "python3"
  },
  "language_info": {
   "codemirror_mode": {
    "name": "ipython",
    "version": 3
   },
   "file_extension": ".py",
   "mimetype": "text/x-python",
   "name": "python",
   "nbconvert_exporter": "python",
   "pygments_lexer": "ipython3",
   "version": "3.13.0"
  }
 },
 "nbformat": 4,
 "nbformat_minor": 5
}
