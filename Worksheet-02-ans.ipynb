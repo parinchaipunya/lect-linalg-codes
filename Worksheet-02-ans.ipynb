{
 "cells": [
  {
   "cell_type": "markdown",
   "id": "fea99c05-99c1-4f7a-bdba-bfe8b001a5c5",
   "metadata": {},
   "source": [
    "# MTH202 Worksheet 2"
   ]
  },
  {
   "cell_type": "code",
   "execution_count": 1,
   "id": "b58bcc11-8ef5-4d7a-a1a5-d08cf42d3222",
   "metadata": {},
   "outputs": [],
   "source": [
    "import numpy as np"
   ]
  },
  {
   "cell_type": "markdown",
   "id": "47073b09-8e74-4e5a-91a9-4e0f97fa037b",
   "metadata": {},
   "source": [
    "## Problem 1\n",
    "\n",
    "Consider the following matrices $A$ and $B$ defined as in the following blocks."
   ]
  },
  {
   "cell_type": "code",
   "execution_count": 2,
   "id": "382ca594-978f-4b40-8e8c-55e71127a0f2",
   "metadata": {},
   "outputs": [],
   "source": [
    "A = np.array([[1, 1, 0, 4, 7],\n",
    "              [0, 0, -1, 2, 3],\n",
    "              [1, 1, 0, 0, -5],\n",
    "              [1, 3, 5, 4, 2]])\n",
    "\n",
    "B = np.array([[3, 2, 2, 1],\n",
    "              [-1, 5, 0, 0],\n",
    "              [0, 1, -3, 3],\n",
    "              [0, 4, 3, 0],\n",
    "              [1, 2, 0, 1]])"
   ]
  },
  {
   "cell_type": "markdown",
   "id": "0133f705-e3bb-4fe5-adf3-1cc247fb57e5",
   "metadata": {},
   "source": [
    "#### Problem 1.1\n",
    "Find the dimension of $A$ and $B$."
   ]
  },
  {
   "cell_type": "code",
   "execution_count": 3,
   "id": "b6a6adab-6e40-4894-b31d-334b35518c8c",
   "metadata": {},
   "outputs": [
    {
     "name": "stdout",
     "output_type": "stream",
     "text": [
      "dim(A) = 4x5\n",
      "dim(B) = 5x4\n"
     ]
    }
   ],
   "source": [
    "A_rows, A_cols = A.shape\n",
    "B_rows, B_cols = B.shape\n",
    "print(f\"dim(A) = {A_rows}x{A_cols}\")\n",
    "print(f\"dim(B) = {B_rows}x{B_cols}\")"
   ]
  },
  {
   "cell_type": "markdown",
   "id": "1cbab4b2-a7fd-4333-b58c-330678a6cda6",
   "metadata": {},
   "source": [
    "#### Problem 1.2\n",
    "Find the products $AB$ and $A^{\\top}B^{\\top}$."
   ]
  },
  {
   "cell_type": "code",
   "execution_count": 4,
   "id": "351dc911-83d2-4fc0-805e-069c5c8ee38a",
   "metadata": {},
   "outputs": [
    {
     "name": "stdout",
     "output_type": "stream",
     "text": [
      "AB = [[ 9 37 14  8]\n",
      " [ 3 13  9  0]\n",
      " [-3 -3  2 -4]\n",
      " [ 2 42 -1 18]]\n",
      "A'B' = [[ 6 -1  0  3  2]\n",
      " [ 8 -1  6  3  4]\n",
      " [ 3 -5 14 -4  3]\n",
      " [20  6 14  8 12]\n",
      " [19  8 24 -3 15]]\n"
     ]
    }
   ],
   "source": [
    "AB = A @ B\n",
    "ATBT = A.T @ B.T\n",
    "print(f\"AB = {AB}\")\n",
    "print(f\"A'B' = {ATBT}\")"
   ]
  },
  {
   "cell_type": "markdown",
   "id": "d9077af9-9f07-4c16-9a4a-3dfc6b28c029",
   "metadata": {},
   "source": [
    "#### Problem 1.3\n",
    "Find the 3rd row of $AB$."
   ]
  },
  {
   "cell_type": "code",
   "execution_count": 5,
   "id": "fcc10717-6cbc-4876-b66f-21ee31b34dfc",
   "metadata": {},
   "outputs": [
    {
     "data": {
      "text/plain": [
       "array([-3, -3,  2, -4])"
      ]
     },
     "execution_count": 5,
     "metadata": {},
     "output_type": "execute_result"
    }
   ],
   "source": [
    "AB[2,:]"
   ]
  },
  {
   "cell_type": "markdown",
   "id": "de11964b-aaab-4376-bbb3-e17b87328e63",
   "metadata": {},
   "source": [
    "#### Problem 1.4\n",
    "Find the last row of $A^{\\top}B^{\\top}$."
   ]
  },
  {
   "cell_type": "code",
   "execution_count": 6,
   "id": "89b5e630-eed1-4371-b1e7-39a59a45ac93",
   "metadata": {},
   "outputs": [
    {
     "data": {
      "text/plain": [
       "array([19,  8, 24, -3, 15])"
      ]
     },
     "execution_count": 6,
     "metadata": {},
     "output_type": "execute_result"
    }
   ],
   "source": [
    "ATBT[-1,:]"
   ]
  },
  {
   "cell_type": "markdown",
   "id": "44235b16-b251-4bb4-b95c-bd7e007d14a0",
   "metadata": {},
   "source": [
    "## Problem 2\n",
    "\n",
    "Consider the following matrix $C$."
   ]
  },
  {
   "cell_type": "code",
   "execution_count": 7,
   "id": "cf409499-098d-4e3e-80dc-a0cacf455697",
   "metadata": {},
   "outputs": [
    {
     "data": {
      "text/plain": [
       "array([[0., 0., 0., 0., 0., 0., 0., 0., 0., 0., 0.],\n",
       "       [0., 0., 0., 0., 0., 0., 0., 0., 0., 0., 0.],\n",
       "       [0., 0., 0., 0., 0., 0., 0., 0., 0., 0., 0.],\n",
       "       [0., 0., 0., 0., 0., 0., 0., 0., 0., 0., 0.],\n",
       "       [0., 0., 0., 0., 0., 0., 0., 0., 0., 0., 0.],\n",
       "       [0., 0., 0., 0., 0., 0., 0., 0., 0., 0., 0.],\n",
       "       [0., 0., 0., 0., 0., 0., 0., 0., 0., 0., 0.],\n",
       "       [0., 0., 0., 0., 0., 0., 0., 0., 0., 0., 0.],\n",
       "       [0., 0., 0., 0., 0., 0., 0., 0., 0., 0., 0.],\n",
       "       [0., 0., 0., 0., 0., 0., 0., 0., 0., 0., 0.],\n",
       "       [0., 0., 0., 0., 0., 0., 0., 0., 0., 0., 0.]])"
      ]
     },
     "execution_count": 7,
     "metadata": {},
     "output_type": "execute_result"
    }
   ],
   "source": [
    "C = np.zeros((11, 11))\n",
    "C"
   ]
  },
  {
   "cell_type": "markdown",
   "id": "6dce486c-78da-4312-bd53-75e6188e7c01",
   "metadata": {},
   "source": [
    "#### Problem 2.1\n",
    "- Change the first row of $C$ to your student id.\n",
    "- Change the first column of $C$ to the student id of the one sitting next to you."
   ]
  },
  {
   "cell_type": "code",
   "execution_count": 8,
   "id": "749b4878-b754-4ef2-8060-0f08a18c12a2",
   "metadata": {},
   "outputs": [
    {
     "name": "stdout",
     "output_type": "stream",
     "text": [
      "[[6. 7. 0. 1. 2. 3. 4. 5. 6. 7. 8.]\n",
      " [7. 0. 0. 0. 0. 0. 0. 0. 0. 0. 0.]\n",
      " [0. 0. 0. 0. 0. 0. 0. 0. 0. 0. 0.]\n",
      " [9. 0. 0. 0. 0. 0. 0. 0. 0. 0. 0.]\n",
      " [8. 0. 0. 0. 0. 0. 0. 0. 0. 0. 0.]\n",
      " [7. 0. 0. 0. 0. 0. 0. 0. 0. 0. 0.]\n",
      " [6. 0. 0. 0. 0. 0. 0. 0. 0. 0. 0.]\n",
      " [5. 0. 0. 0. 0. 0. 0. 0. 0. 0. 0.]\n",
      " [4. 0. 0. 0. 0. 0. 0. 0. 0. 0. 0.]\n",
      " [3. 0. 0. 0. 0. 0. 0. 0. 0. 0. 0.]\n",
      " [2. 0. 0. 0. 0. 0. 0. 0. 0. 0. 0.]]\n"
     ]
    }
   ],
   "source": [
    "# Suppose your id is 67012345678\n",
    "# Your friend's id is 67098765432\n",
    "C[0,:] = [6, 7, 0, 1, 2, 3, 4, 5, 6, 7, 8]\n",
    "C[:,0] = [6, 7, 0, 9, 8, 7, 6, 5, 4, 3, 2]\n",
    "print(C)"
   ]
  }
 ],
 "metadata": {
  "kernelspec": {
   "display_name": "Python 3 (ipykernel)",
   "language": "python",
   "name": "python3"
  },
  "language_info": {
   "codemirror_mode": {
    "name": "ipython",
    "version": 3
   },
   "file_extension": ".py",
   "mimetype": "text/x-python",
   "name": "python",
   "nbconvert_exporter": "python",
   "pygments_lexer": "ipython3",
   "version": "3.13.7"
  }
 },
 "nbformat": 4,
 "nbformat_minor": 5
}
