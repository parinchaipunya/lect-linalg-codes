{
 "cells": [
  {
   "cell_type": "markdown",
   "id": "4e101b24-15a9-46b1-83f4-bcfb64b0c881",
   "metadata": {},
   "source": [
    "# MTH202 Worksheet 9"
   ]
  },
  {
   "cell_type": "code",
   "execution_count": 5,
   "id": "4fcd4df8-fd48-4fb1-8672-d364b6c5b5f7",
   "metadata": {},
   "outputs": [],
   "source": [
    "import numpy as np"
   ]
  },
  {
   "cell_type": "markdown",
   "id": "514e9395-a139-41d6-a0cd-27754ff3e51e",
   "metadata": {},
   "source": [
    "## Problem 1"
   ]
  },
  {
   "cell_type": "markdown",
   "id": "5ffd03c7-4084-4b08-a3ac-bfda916d6a8d",
   "metadata": {},
   "source": [
    "### Problem 1.1\n",
    "\n",
    "Write a `python` function that *orthonormalize* a given basis."
   ]
  },
  {
   "cell_type": "code",
   "execution_count": null,
   "id": "4dab8d99-2831-4521-a54d-ee261e88e0a6",
   "metadata": {},
   "outputs": [],
   "source": []
  },
  {
   "cell_type": "markdown",
   "id": "543416bf-9047-4488-b561-8a253e7595b9",
   "metadata": {},
   "source": [
    "### Problem 1.2\n",
    "Test your function with the following basis given in a matrix `U`."
   ]
  },
  {
   "cell_type": "code",
   "execution_count": null,
   "id": "7f5f1f69-ccfa-40c4-abc8-4bc0239d7b38",
   "metadata": {},
   "outputs": [],
   "source": [
    "U = np.array([[1, 2, 3, 1],\n",
    "              [0, 1, 0, 1],\n",
    "              [1, 0, 0, 1],\n",
    "              [-1, 0, 1, 0]])"
   ]
  },
  {
   "cell_type": "code",
   "execution_count": null,
   "id": "ccb472de-cc02-4418-becc-33321ec5ec0f",
   "metadata": {},
   "outputs": [],
   "source": []
  },
  {
   "cell_type": "markdown",
   "id": "43a6d95c-1898-4c88-971e-6c479519c109",
   "metadata": {},
   "source": [
    "## Problem 2\n",
    "\n",
    "Consider a vector space $V = \\{ (x_{1},x_{2},x_{3} \\in \\mathbb{R}^{3} \\mid x_{1} - x_{2} + x_{3} = 0 \\}$.\n",
    "* Find a basis of $V$.\n",
    "* Use the function from Problem 1 to orthonormalize such basis."
   ]
  },
  {
   "cell_type": "code",
   "execution_count": null,
   "id": "c3d094a0-a840-4e2a-ae1a-f4b1e687c739",
   "metadata": {},
   "outputs": [],
   "source": []
  }
 ],
 "metadata": {
  "kernelspec": {
   "display_name": "Python 3 (ipykernel)",
   "language": "python",
   "name": "python3"
  },
  "language_info": {
   "codemirror_mode": {
    "name": "ipython",
    "version": 3
   },
   "file_extension": ".py",
   "mimetype": "text/x-python",
   "name": "python",
   "nbconvert_exporter": "python",
   "pygments_lexer": "ipython3",
   "version": "3.13.7"
  }
 },
 "nbformat": 4,
 "nbformat_minor": 5
}
