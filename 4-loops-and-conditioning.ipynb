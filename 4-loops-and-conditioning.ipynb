{
 "cells": [
  {
   "cell_type": "markdown",
   "id": "721051db-082d-4a7b-a955-ee427a61bb76",
   "metadata": {},
   "source": [
    "## Loop Clauses\n",
    "author: Parin Chaipunya\n",
    "affil: KMUTT"
   ]
  },
  {
   "cell_type": "markdown",
   "id": "5d124e0c-9ebf-4139-919e-426a99cebfc3",
   "metadata": {},
   "source": [
    "## `for` loops\n",
    "\n",
    "The `for` loop is best used to iterate tasks in which the number of repeats is known.\n",
    "\n",
    "The structure of a `for` loop is the following.\n",
    "```python\n",
    "for i in <iterable>:\n",
    "    <task 1>\n",
    "    <task 2>\n",
    "    ...\n",
    "    <task n>\n",
    "```\n",
    "Notice that the tasks within the `for` loop is under indentations.\n",
    "To exit the loop, simply unindent the line.\n",
    "\n",
    "The `iterable` is usually defined using `range` or a `list`, as one would see in the coming examples."
   ]
  },
  {
   "cell_type": "markdown",
   "id": "c0e17710-5405-4780-b132-64bafd7677b3",
   "metadata": {},
   "source": [
    "#### Example\n",
    "Print values of `i` from 0 to 3."
   ]
  },
  {
   "cell_type": "code",
   "execution_count": 1,
   "id": "3176ac4b-6403-444f-b17f-b40027c53b4c",
   "metadata": {},
   "outputs": [
    {
     "name": "stdout",
     "output_type": "stream",
     "text": [
      "i = 0\n",
      "i = 1\n",
      "i = 2\n",
      "i = 3\n"
     ]
    }
   ],
   "source": [
    "for i in range(4):\n",
    "    print(f'i = {i}')"
   ]
  },
  {
   "cell_type": "markdown",
   "id": "2997a272-914f-45f9-9b7f-526a091f89fc",
   "metadata": {},
   "source": [
    "#### Example\n",
    "Print values of `i` from 4 to 10."
   ]
  },
  {
   "cell_type": "code",
   "execution_count": 2,
   "id": "11169f73-9df1-4de5-8f06-bb3c63d1ed33",
   "metadata": {},
   "outputs": [
    {
     "name": "stdout",
     "output_type": "stream",
     "text": [
      "i equals to 4\n",
      "i equals to 5\n",
      "i equals to 6\n",
      "i equals to 7\n",
      "i equals to 8\n",
      "i equals to 9\n",
      "i equals to 10\n"
     ]
    }
   ],
   "source": [
    "for i in range(4,11):\n",
    "    print(f'i equals to {i}')"
   ]
  },
  {
   "cell_type": "markdown",
   "id": "b4bbb9dc-0ff5-49b0-8944-4433dd70deab",
   "metadata": {},
   "source": [
    "#### Example\n",
    "Print values of `i` starting from 2, not exceeding 20, and increasing by 3 at a time.\n",
    "Also print *your name* after the loop is finished."
   ]
  },
  {
   "cell_type": "code",
   "execution_count": 3,
   "id": "f54ff06d-f536-4e01-9035-45f70c0e4307",
   "metadata": {},
   "outputs": [
    {
     "name": "stdout",
     "output_type": "stream",
     "text": [
      "I am 2\n",
      "I am 5\n",
      "I am 8\n",
      "I am 11\n",
      "I am 14\n",
      "I am 17\n",
      "Parin Chaipunya\n"
     ]
    }
   ],
   "source": [
    "for i in range(2,20,3):\n",
    "    print(f'I am {i}')\n",
    "print('Parin Chaipunya')"
   ]
  },
  {
   "cell_type": "markdown",
   "id": "54c8760c-2628-4c9a-98f6-859d55615e14",
   "metadata": {},
   "source": [
    "#### Example\n",
    "Let's find the value of $1 + 3 + 5 + \\dots + 179$."
   ]
  },
  {
   "cell_type": "code",
   "execution_count": 4,
   "id": "da2fa2cb-342e-4fba-88b9-94d1613b033d",
   "metadata": {},
   "outputs": [
    {
     "name": "stdout",
     "output_type": "stream",
     "text": [
      "1+3+5+...+179 = 8100\n"
     ]
    }
   ],
   "source": [
    "sum = 0\n",
    "for i in range(1,180,2):\n",
    "    sum += i\n",
    "print(f'1+3+5+...+179 = {sum}')"
   ]
  },
  {
   "cell_type": "markdown",
   "id": "8ffba5c5-e263-483b-8540-c40898c7d3fb",
   "metadata": {},
   "source": [
    "#### Example\n",
    "We can also use for with a list."
   ]
  },
  {
   "cell_type": "code",
   "execution_count": 5,
   "id": "0f781523-9bb6-4628-b8d2-975d32a0c194",
   "metadata": {},
   "outputs": [
    {
     "name": "stdout",
     "output_type": "stream",
     "text": [
      "labrador\n",
      "chihuahua\n",
      "beagle\n",
      "poodle\n",
      "dachshund\n"
     ]
    }
   ],
   "source": [
    "Dogs = [\"labrador\", \"chihuahua\", \"beagle\", \"poodle\", \"dachshund\"]\n",
    "for dog in Dogs:\n",
    "    print(dog)"
   ]
  },
  {
   "cell_type": "markdown",
   "id": "837e8953-fdd7-49a0-a3d7-1767c0563bd8",
   "metadata": {},
   "source": [
    "#### Example\n",
    "Let us print a pair using `zip` of two iterables."
   ]
  },
  {
   "cell_type": "code",
   "execution_count": 6,
   "id": "369be10c-21ae-46e1-a533-66e5b9b56a00",
   "metadata": {},
   "outputs": [],
   "source": [
    "X = [0, 1, 2, 3, 4, 5]\n",
    "Y = [\"zero\", \"one\", \"two\", \"three\", \"four\", \"five\"]"
   ]
  },
  {
   "cell_type": "code",
   "execution_count": 7,
   "id": "c7d9b346-0c18-46d8-a8b3-ae3ccb2f2ed1",
   "metadata": {},
   "outputs": [
    {
     "name": "stdout",
     "output_type": "stream",
     "text": [
      "(x,y) = (0,zero)\n",
      "(x,y) = (1,one)\n",
      "(x,y) = (2,two)\n",
      "(x,y) = (3,three)\n",
      "(x,y) = (4,four)\n",
      "(x,y) = (5,five)\n"
     ]
    }
   ],
   "source": [
    "for (x,y) in zip(X,Y):\n",
    "    print(f'(x,y) = ({x},{y})')"
   ]
  },
  {
   "cell_type": "markdown",
   "id": "3f09c519-8cca-428f-aaae-e392d4196881",
   "metadata": {},
   "source": [
    "**Ex.** We now list all possible pairs from the two iterables."
   ]
  },
  {
   "cell_type": "code",
   "execution_count": 8,
   "id": "1781f386-71dd-42b9-ad0b-159cd9202d09",
   "metadata": {},
   "outputs": [
    {
     "name": "stdout",
     "output_type": "stream",
     "text": [
      "(x,y) = (0,zero)\n",
      "(x,y) = (0,one)\n",
      "(x,y) = (0,two)\n",
      "(x,y) = (0,three)\n",
      "(x,y) = (0,four)\n",
      "(x,y) = (0,five)\n",
      "(x,y) = (1,zero)\n",
      "(x,y) = (1,one)\n",
      "(x,y) = (1,two)\n",
      "(x,y) = (1,three)\n",
      "(x,y) = (1,four)\n",
      "(x,y) = (1,five)\n",
      "(x,y) = (2,zero)\n",
      "(x,y) = (2,one)\n",
      "(x,y) = (2,two)\n",
      "(x,y) = (2,three)\n",
      "(x,y) = (2,four)\n",
      "(x,y) = (2,five)\n",
      "(x,y) = (3,zero)\n",
      "(x,y) = (3,one)\n",
      "(x,y) = (3,two)\n",
      "(x,y) = (3,three)\n",
      "(x,y) = (3,four)\n",
      "(x,y) = (3,five)\n",
      "(x,y) = (4,zero)\n",
      "(x,y) = (4,one)\n",
      "(x,y) = (4,two)\n",
      "(x,y) = (4,three)\n",
      "(x,y) = (4,four)\n",
      "(x,y) = (4,five)\n",
      "(x,y) = (5,zero)\n",
      "(x,y) = (5,one)\n",
      "(x,y) = (5,two)\n",
      "(x,y) = (5,three)\n",
      "(x,y) = (5,four)\n",
      "(x,y) = (5,five)\n"
     ]
    }
   ],
   "source": [
    "for x in X:\n",
    "    for y in Y:\n",
    "        print(f'(x,y) = ({x},{y})')"
   ]
  },
  {
   "cell_type": "markdown",
   "id": "68d0a827-3213-486f-8da8-a1aec0e41b32",
   "metadata": {},
   "source": [
    "## `while` loop\n",
    "\n",
    "The `while` loop is used to iterate tasks that we usually do not know the exact number of times to repeat, but rather the condition under which the tasks should be done.\n",
    "The `while` loop is usually used in conjunction with an *update line*.\n",
    "\n",
    "The structure of a `while` loop is the following.\n",
    "```python\n",
    "while <condition>:\n",
    "    <task 1>\n",
    "    <task 2>\n",
    "    ...\n",
    "    <task n>\n",
    "```\n",
    "\n",
    "Here, the `<condition>` refers to any assertion that returns either `true` or `false`.\n",
    "The tasks under the loop will be performed when `true` is returned or else the loop is terminated."
   ]
  },
  {
   "cell_type": "markdown",
   "id": "1bc5a524-6aef-409e-8580-773319a3df3f",
   "metadata": {},
   "source": [
    "#### Example\n",
    "Let's now do `while` loop. Let's print non-negative integers whose squares do not exceed 12345."
   ]
  },
  {
   "cell_type": "code",
   "execution_count": 9,
   "id": "dbcc8721-22bc-490f-ae9b-7f805d87c528",
   "metadata": {},
   "outputs": [
    {
     "name": "stdout",
     "output_type": "stream",
     "text": [
      "0\n",
      "1\n",
      "2\n",
      "3\n",
      "4\n",
      "5\n",
      "6\n",
      "7\n",
      "8\n",
      "9\n",
      "10\n",
      "11\n",
      "12\n",
      "13\n",
      "14\n",
      "15\n",
      "16\n",
      "17\n",
      "18\n",
      "19\n",
      "20\n",
      "21\n",
      "22\n",
      "23\n",
      "24\n",
      "25\n",
      "26\n",
      "27\n",
      "28\n",
      "29\n",
      "30\n",
      "31\n",
      "32\n",
      "33\n",
      "34\n",
      "35\n"
     ]
    }
   ],
   "source": [
    "i = 0;\n",
    "while i**2 <= 1234:\n",
    "    print(i)\n",
    "    i += 1"
   ]
  },
  {
   "cell_type": "markdown",
   "id": "16902258-2839-41a0-9c09-c939d63670cf",
   "metadata": {},
   "source": [
    "#### Example\n",
    "Let's do another problem using `while` loop.\n",
    "\n",
    "Consider the summation $S_{n} = \\sum_{i=1}^{n} \\frac{1}{n} = 1 + \\frac{1}{2} + \\frac{1}{3} + \\dots + \\frac{1}{n}$.\n",
    "\n",
    "Find the smallest integer $m$ in which $S_{m} > 10$."
   ]
  },
  {
   "cell_type": "code",
   "execution_count": 10,
   "id": "c2b69472-7a8d-4fc0-948f-63c1bc6b009d",
   "metadata": {},
   "outputs": [
    {
     "name": "stdout",
     "output_type": "stream",
     "text": [
      "m = 12367 and the sum S_m = 10.000043008275778\n"
     ]
    }
   ],
   "source": [
    "sum = 0\n",
    "i = 0\n",
    "while sum <= 10:\n",
    "    i += 1\n",
    "    sum += (1/i)\n",
    "print(f'm = {i} and the sum S_m = {sum}')"
   ]
  },
  {
   "cell_type": "markdown",
   "id": "1c9fc5e9-99cc-445d-bba8-e0f9980794a2",
   "metadata": {},
   "source": [
    "#### Example\n",
    "By definition, $e = \\lim_{n \\to \\infty} (1 + \\frac{1}{n})^{n}$.\n",
    "\n",
    "How far do we need to go (in term of $n$) to reach the accuracy of 15 decimal places of $e \\approx 2.718281828459045$ ?"
   ]
  },
  {
   "cell_type": "code",
   "execution_count": 11,
   "id": "a119f27f-68ea-4262-9977-3d2efa522f32",
   "metadata": {},
   "outputs": [
    {
     "name": "stdout",
     "output_type": "stream",
     "text": [
      "n = 5000000; lim = 2.718281555200129\n",
      "n = 10000000; lim = 2.7182816941320818\n",
      "n = 15000000; lim = 2.718281736418873\n",
      "n = 20000000; lim = 2.7182817560533206\n",
      "n = 25000000; lim = 2.7182817726626274\n",
      "n = 30000000; lim = 2.718281790777263\n",
      "n = 35000000; lim = 2.7182817881956653\n",
      "n = 40000000; lim = 2.7182818021034367\n",
      "n = 45000000; lim = 2.718281805878828\n",
      "n = 50000000; lim = 2.718281814934939\n",
      "n = 55000000; lim = 2.7182818174061043\n",
      "n = 60000000; lim = 2.7182818134296105\n",
      "n = 65000000; lim = 2.7182818031005027\n",
      "n = 70000000; lim = 2.7182818287372563\n",
      "n = 75000000; lim = 2.718281808906383\n",
      "n = 80000000; lim = 2.7182817949495055\n",
      "n = 85000000; lim = 2.7182818110383686\n",
      "n = 90000000; lim = 2.718281820980393\n",
      "n = 95000000; lim = 2.7182818217752125\n",
      "n = 100000000; lim = 2.7182817983473577\n",
      "n = 105000000; lim = 2.7182818140840626\n",
      "n = 110000000; lim = 2.7182818297619304\n",
      "n = 115000000; lim = 2.718281824263342\n",
      "n = 120000000; lim = 2.7182818247557847\n",
      "n = 125000000; lim = 2.7182818161551343\n",
      "n = 130000000; lim = 2.7182818135554325\n",
      "n = 135000000; lim = 2.718281798853157\n",
      "n = 140000000; lim = 2.7182818384454057\n",
      "n = 145000000; lim = 2.7182818387801695\n",
      "n = 150000000; lim = 2.7182818632358083\n",
      "n = 155000000; lim = 2.7182817760090243\n",
      "n = 160000000; lim = 2.718281851730521\n",
      "n = 165000000; lim = 2.7182818006836498\n",
      "n = 170000000; lim = 2.7182818703375995\n",
      "n = 175000000; lim = 2.718281819261742\n",
      "n = 180000000; lim = 2.718281828531176\n",
      "n = 185000000; lim = 2.7182818468426455\n",
      "n = 190000000; lim = 2.7182818289285855\n",
      "n = 195000000; lim = 2.718281856273097\n",
      "n = 200000000; lim = 2.718281805143062\n",
      "n = 205000000; lim = 2.718281862648893\n",
      "n = 210000000; lim = 2.718281883932043\n",
      "n = 215000000; lim = 2.718281820706676\n",
      "n = 220000000; lim = 2.7182817695460653\n",
      "** n = 220825296 with lim = 2.718281828459045 **\n"
     ]
    }
   ],
   "source": [
    "e_approx = 2.718281828459045\n",
    "n = 1\n",
    "lim = (1 + 1/n)**n\n",
    "Err = abs(e_approx - lim)\n",
    "while Err >= 1E-16:\n",
    "    n += 1\n",
    "    lim = (1 + 1/n)**n\n",
    "    Err = abs(e_approx - lim)\n",
    "    if n % 5E6 == 0:\n",
    "        print(f'n = {n}; lim = {lim}')\n",
    "print(f'** n = {n} with lim = {lim} **')"
   ]
  },
  {
   "cell_type": "markdown",
   "id": "a1db2961-ca7e-46f5-8f13-1e02d0f3129f",
   "metadata": {},
   "source": [
    "-----"
   ]
  },
  {
   "cell_type": "markdown",
   "id": "cf2cc7a6-e9c6-4434-8485-0bfa67157094",
   "metadata": {},
   "source": [
    "# Conditioning"
   ]
  },
  {
   "cell_type": "markdown",
   "id": "50215e62-9518-475d-8722-60e3d991aacf",
   "metadata": {},
   "source": [
    "## Conditioning clauses\n",
    "\n",
    "We may find ourselves in need to perform some tasks under some specific circumstances, or to perform different tasks depending on particular conditions.\n",
    "These are the situations where we need to use an `if` clause, or `if` ... `else`, or `if` ... `elif` ... `else`."
   ]
  },
  {
   "cell_type": "markdown",
   "id": "c5a3557c-3a79-455c-9161-75a0ff661c70",
   "metadata": {},
   "source": [
    "### `if`\n",
    "\n",
    "The `if` clause is used when one wishes to perform a set of tasks only when a certain condition is satisfied.\n",
    "This follows the following structure\n",
    "```python\n",
    "if <condition>:\n",
    "    <tasks>\n",
    "```\n",
    "Here, the code block `<tasks>` is performed if `<condition>` returns `true`."
   ]
  },
  {
   "cell_type": "markdown",
   "id": "2f321170-b85c-417a-9f77-77ff60a36487",
   "metadata": {},
   "source": [
    "#### Example"
   ]
  },
  {
   "cell_type": "code",
   "execution_count": 1,
   "id": "46b66b15-904f-41d5-897c-55f9727a9e4a",
   "metadata": {},
   "outputs": [
    {
     "name": "stdout",
     "output_type": "stream",
     "text": [
      "a > 0\n"
     ]
    }
   ],
   "source": [
    "a = 1\n",
    "\n",
    "if a > 0:           # a > 0 returns `true`.\n",
    "    print(\"a > 0\")  # This is performed.\n",
    "\n",
    "if a < 0:           # a < 0 returns `false`.\n",
    "    print(\"a < 0\")  # This is not performed."
   ]
  },
  {
   "cell_type": "markdown",
   "id": "2280ec59-c204-4391-b0f9-f665c5a48c93",
   "metadata": {},
   "source": [
    "The logical conjunction `and` and `or` can be used in the condition."
   ]
  },
  {
   "cell_type": "markdown",
   "id": "9c713d91-7855-4869-b2b8-197f4944284e",
   "metadata": {},
   "source": [
    "#### Example"
   ]
  },
  {
   "cell_type": "code",
   "execution_count": 13,
   "id": "3d7d5925-6734-4ed8-bda7-3381cf6be169",
   "metadata": {},
   "outputs": [
    {
     "name": "stdout",
     "output_type": "stream",
     "text": [
      "** a = 1, b = 2 **\n",
      "** a = 1, b = 4 **\n",
      "** a = 1, b = 6 **\n",
      "   Either a or b is larger than 5\n",
      "** a = 1, b = 7 **\n",
      "   Either a or b is larger than 5\n",
      "** a = 3, b = 2 **\n",
      "** a = 3, b = 4 **\n",
      "** a = 3, b = 6 **\n",
      "   Either a or b is larger than 5\n",
      "** a = 3, b = 7 **\n",
      "   Either a or b is larger than 5\n",
      "** a = 5, b = 2 **\n",
      "** a = 5, b = 4 **\n",
      "** a = 5, b = 6 **\n",
      "   Either a or b is larger than 5\n",
      "** a = 5, b = 7 **\n",
      "   Either a or b is larger than 5\n",
      "** a = 7, b = 2 **\n",
      "   Either a or b is larger than 5\n",
      "** a = 7, b = 4 **\n",
      "   Either a or b is larger than 5\n",
      "** a = 7, b = 6 **\n",
      "   Either a or b is larger than 5\n",
      "   Both a and b are larger than 5\n",
      "** a = 7, b = 7 **\n",
      "   Either a or b is larger than 5\n",
      "   Both a and b are larger than 5\n"
     ]
    }
   ],
   "source": [
    "for a in [1, 3, 5, 7]:\n",
    "    for b in [2, 4, 6, 7]:\n",
    "        print(f\"** a = {a}, b = {b} **\")\n",
    "        if a > 5 or b > 5:\n",
    "            print(\"   Either a or b is larger than 5\")\n",
    "        if a > 5 and b > 5:\n",
    "            print(\"   Both a and b are larger than 5\")"
   ]
  },
  {
   "cell_type": "markdown",
   "id": "acd88043-7613-4bed-a881-fead1efa1f51",
   "metadata": {},
   "source": [
    "## `if` ... `else`\n",
    "\n",
    "This `if` ... `else` clause is used when one wants a certain tasks to be performed under a condition, and another set of tasks to be performed otherwise.\n",
    "The structure is the following.\n",
    "```python\n",
    "if <condition1>:\n",
    "    <tasks1>\n",
    "else:\n",
    "    <tasks2>\n",
    "```"
   ]
  },
  {
   "cell_type": "markdown",
   "id": "88bd2ca0-eda5-4902-8d4b-e65eb6653646",
   "metadata": {},
   "source": [
    "#### Example"
   ]
  },
  {
   "cell_type": "code",
   "execution_count": 17,
   "id": "b74195e7-86d7-4463-8843-222e4aca696a",
   "metadata": {},
   "outputs": [
    {
     "name": "stdout",
     "output_type": "stream",
     "text": [
      "** a = 1, b = 2\n",
      "   Both a and b are not larger than 5\n",
      "** a = 1, b = 4\n",
      "   Both a and b are not larger than 5\n",
      "** a = 1, b = 6\n",
      "   Either a or b is larger than 5\n",
      "** a = 1, b = 8\n",
      "   Either a or b is larger than 5\n",
      "** a = 3, b = 2\n",
      "   Both a and b are not larger than 5\n",
      "** a = 3, b = 4\n",
      "   Both a and b are not larger than 5\n",
      "** a = 3, b = 6\n",
      "   Either a or b is larger than 5\n",
      "** a = 3, b = 8\n",
      "   Either a or b is larger than 5\n",
      "** a = 5, b = 2\n",
      "   Both a and b are not larger than 5\n",
      "** a = 5, b = 4\n",
      "   Both a and b are not larger than 5\n",
      "** a = 5, b = 6\n",
      "   Either a or b is larger than 5\n",
      "** a = 5, b = 8\n",
      "   Either a or b is larger than 5\n",
      "** a = 7, b = 2\n",
      "   Either a or b is larger than 5\n",
      "** a = 7, b = 4\n",
      "   Either a or b is larger than 5\n",
      "** a = 7, b = 6\n",
      "   Either a or b is larger than 5\n",
      "** a = 7, b = 8\n",
      "   Either a or b is larger than 5\n"
     ]
    }
   ],
   "source": [
    "for a in [1, 3, 5, 7]:\n",
    "    for b in [2, 4, 6, 8]:\n",
    "        print(f\"** a = {a}, b = {b}\")\n",
    "        if a > 5 or b > 5:\n",
    "            print(\"   Either a or b is larger than 5\")\n",
    "        else:\n",
    "            print(\"   Both a and b are not larger than 5\")"
   ]
  },
  {
   "cell_type": "markdown",
   "id": "4d8cd4f2-2ab3-4acf-b936-89b30707505f",
   "metadata": {},
   "source": [
    "## `if` ... `elif` (... `else`)\n",
    "\n",
    "When one wants to perform many different tasks depending on the different conditions, one could use the following structure.\n",
    "```python\n",
    "if <condition1>:\n",
    "    <tasks1>\n",
    "elif <condition2>:\n",
    "    <tasks2>\n",
    "elif <condition3>:\n",
    "    <tasks3>\n",
    "...\n",
    "elif <conditionN>:\n",
    "    <tasksN>\n",
    "```\n",
    "One may also add the `else` clause at the end."
   ]
  },
  {
   "cell_type": "markdown",
   "id": "ae042b41-e0c2-4bb3-ab1e-ca2173e166ba",
   "metadata": {},
   "source": [
    "#### Example"
   ]
  },
  {
   "cell_type": "code",
   "execution_count": 20,
   "id": "0fae73ac-821a-4717-b8fe-2bb4d1d1fdf2",
   "metadata": {},
   "outputs": [
    {
     "name": "stdout",
     "output_type": "stream",
     "text": [
      "** a = 0\n",
      "   a is divisable by 3\n",
      "** a = 1\n",
      "   a/3 has a remainder of 1\n",
      "** a = 2\n",
      "   a/3 has a remainder of 2\n",
      "** a = 3\n",
      "   a is divisable by 3\n",
      "** a = 4\n",
      "   a/3 has a remainder of 1\n",
      "** a = 5\n",
      "   a/3 has a remainder of 2\n",
      "** a = 6\n",
      "   a is divisable by 3\n",
      "** a = 7\n",
      "   a/3 has a remainder of 1\n",
      "** a = 8\n",
      "   a/3 has a remainder of 2\n",
      "** a = 9\n",
      "   a is divisable by 3\n"
     ]
    }
   ],
   "source": [
    "for a in range(10):\n",
    "    print(f\"** a = {a}\")\n",
    "    r = a % 3\n",
    "    if r == 0:\n",
    "        print(f\"   a is divisable by 3\")\n",
    "    elif r == 1:\n",
    "        print(f\"   a/3 has a remainder of 1\")\n",
    "    elif r ==2:\n",
    "        print(f\"   a/3 has a remainder of 2\")"
   ]
  },
  {
   "cell_type": "markdown",
   "id": "ded745e9-59c4-4e60-b035-7790cbc5bd6a",
   "metadata": {},
   "source": [
    "#### Example"
   ]
  },
  {
   "cell_type": "code",
   "execution_count": 1,
   "id": "40fae296-0579-47bb-b83d-49da7a028ed6",
   "metadata": {},
   "outputs": [
    {
     "name": "stdout",
     "output_type": "stream",
     "text": [
      "** a = 1\n",
      "** a = 2\n",
      "a is divisable by 2\n",
      "** a = 3\n",
      "** a = 4\n",
      "a is divisable by 2\n",
      "** a = 5\n",
      "** a = 6\n",
      "a is divisable by 2\n",
      "** a = 7\n",
      "** a = 8\n",
      "a is divisable by 2\n",
      "** a = 9\n",
      "** a = 10\n",
      "a is divisable by 2\n",
      "** a = 11\n",
      "** a = 12\n",
      "a is divisable by 2\n",
      "** a = 13\n",
      "** a = 14\n",
      "a is divisable by 2\n",
      "** a = 15\n",
      "** a = 16\n",
      "a is divisable by 2\n",
      "** a = 17\n",
      "** a = 18\n",
      "a is divisable by 2\n",
      "** a = 19\n",
      "** a = 20\n",
      "a is divisable by 2\n"
     ]
    }
   ],
   "source": [
    "for a in range(1,21):\n",
    "    print(f\"** a = {a}\")\n",
    "    r2 = a%2\n",
    "    r5 = a%5\n",
    "    if r2 == 0:\n",
    "        print(\"a is divisable by 2\")\n",
    "        "
   ]
  },
  {
   "cell_type": "markdown",
   "id": "a5e5ca1e-b4c6-4b8f-8ea8-923f578cce60",
   "metadata": {},
   "source": [
    "-----"
   ]
  }
 ],
 "metadata": {
  "kernelspec": {
   "display_name": "Python 3 (ipykernel)",
   "language": "python",
   "name": "python3"
  },
  "language_info": {
   "codemirror_mode": {
    "name": "ipython",
    "version": 3
   },
   "file_extension": ".py",
   "mimetype": "text/x-python",
   "name": "python",
   "nbconvert_exporter": "python",
   "pygments_lexer": "ipython3",
   "version": "3.13.7"
  }
 },
 "nbformat": 4,
 "nbformat_minor": 5
}
