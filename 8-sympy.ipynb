{
 "cells": [
  {
   "cell_type": "markdown",
   "id": "3c06654a-be6d-4aae-a01c-28a2234f9f42",
   "metadata": {},
   "source": [
    "# The `sympy` package\n",
    "author: Parin Chaipunya\n",
    "affil: KMUTT"
   ]
  },
  {
   "cell_type": "markdown",
   "id": "707a219c-7a99-4172-8498-0b78da51956f",
   "metadata": {},
   "source": [
    "We have beein using numerical computation in `python` and largely rely on the `numpy` package.\n",
    "These numerical calculations are based on *floating-point* numbers and often exhibits *tolerance errors* (for example, `9.2E-15` instead of pure `0`).\n",
    "\n",
    "In this notebook, we shall preview the `sympy` package which performs *symbolic calculations* like we do by hand.\n",
    "Because `sympy` processes the calculation symbolically, it does not suit applications that require large-scale computations.\n",
    "\n",
    "The package is also capable of doing calculation with variables and expressions including derivative and integral calculus.\n",
    "However, we shall only keep our focus on linear algebra here."
   ]
  },
  {
   "cell_type": "code",
   "execution_count": 1,
   "id": "5e5f6e7e-065c-42ac-a014-306682bba111",
   "metadata": {},
   "outputs": [],
   "source": [
    "import sympy as sy"
   ]
  },
  {
   "cell_type": "markdown",
   "id": "9b75a956-75ce-4d7a-8ab6-3bb00a35bf57",
   "metadata": {},
   "source": [
    "## Matrices"
   ]
  },
  {
   "cell_type": "markdown",
   "id": "6449f56f-0229-4e59-acbd-19c6229a5fed",
   "metadata": {},
   "source": [
    "### Defining a matrix\n",
    "\n",
    "To define a symbolic matrix, we use `sy.Matrix` instead of `np.array`."
   ]
  },
  {
   "cell_type": "code",
   "execution_count": 2,
   "id": "3f16ea45-e024-4da3-86a6-ce1bdb81d56d",
   "metadata": {},
   "outputs": [],
   "source": [
    "A = sy.Matrix([[1, 0, -2, 3], [0, 1, 1, 4], [-1, -1, 0, 0]])\n",
    "B = sy.Matrix([[1, 1.5, 0, 5], [2, 0, 1, -1], [0, 0, 2, -3]])"
   ]
  },
  {
   "cell_type": "markdown",
   "id": "3e31785c-7620-46b8-a494-f7ea456644de",
   "metadata": {},
   "source": [
    "### Printing a matrix\n",
    "\n",
    "The `print` function usually doesn't support this symbolic object properly."
   ]
  },
  {
   "cell_type": "code",
   "execution_count": 3,
   "id": "7fde7ec7-dcb1-49e0-a6b2-102b458d5cd4",
   "metadata": {},
   "outputs": [
    {
     "name": "stdout",
     "output_type": "stream",
     "text": [
      "A = Matrix([[1, 0, -2, 3], [0, 1, 1, 4], [-1, -1, 0, 0]])\n",
      "B = Matrix([[1, 1.50000000000000, 0, 5], [2, 0, 1, -1], [0, 0, 2, -3]])\n"
     ]
    }
   ],
   "source": [
    "print(f\"A = {A}\")\n",
    "print(f\"B = {B}\")"
   ]
  },
  {
   "cell_type": "markdown",
   "id": "9753d458-97c1-4abf-ae9d-b415cfd21273",
   "metadata": {},
   "source": [
    "To print a `sympy`'s matrix in a good format, we have to call it using `sy.pretty`."
   ]
  },
  {
   "cell_type": "code",
   "execution_count": 4,
   "id": "8fc5b9ca-70cd-4b11-9000-1f9e43de9b8c",
   "metadata": {},
   "outputs": [
    {
     "name": "stdout",
     "output_type": "stream",
     "text": [
      "A =\n",
      "⎡1   0   -2  3⎤\n",
      "⎢             ⎥\n",
      "⎢0   1   1   4⎥\n",
      "⎢             ⎥\n",
      "⎣-1  -1  0   0⎦\n",
      "\n",
      "B =\n",
      "⎡1  1.5  0  5 ⎤\n",
      "⎢             ⎥\n",
      "⎢2   0   1  -1⎥\n",
      "⎢             ⎥\n",
      "⎣0   0   2  -3⎦\n"
     ]
    }
   ],
   "source": [
    "print(f\"A =\\n{sy.pretty(A)}\\n\")\n",
    "print(f\"B =\\n{sy.pretty(B)}\")"
   ]
  },
  {
   "cell_type": "markdown",
   "id": "47037a53-e90a-421d-8549-4caa3414de2a",
   "metadata": {},
   "source": [
    "We may put that into a function."
   ]
  },
  {
   "cell_type": "code",
   "execution_count": 5,
   "id": "4468d006-4f5b-4782-aa97-54c99ec4a5fd",
   "metadata": {},
   "outputs": [],
   "source": [
    "def matdisp(A):\n",
    "    print(sy.pretty(A))"
   ]
  },
  {
   "cell_type": "markdown",
   "id": "61fadbff-2e95-4f2e-8d4d-1b7dcd99494e",
   "metadata": {},
   "source": [
    "### Algebraic operations\n",
    "\n",
    "Again, unlike the floating-point computation, algebraic operations in `sympy` are done symbolically.\n",
    "One clear advantage of this is that it can hold the *rational* form when it seems appropriate.\n",
    "Another one is that it produces a true `0` when it should be.\n",
    "\n",
    "The algebraic operations `+`, `-`, `*`, `/` and `@` could be used in the same way as we did with `numpy`."
   ]
  },
  {
   "cell_type": "code",
   "execution_count": 6,
   "id": "a7ca1c38-97fe-4c32-971a-3326a84eba02",
   "metadata": {},
   "outputs": [
    {
     "name": "stdout",
     "output_type": "stream",
     "text": [
      "⎡1/3    0    -2/3   1 ⎤\n",
      "⎢                     ⎥\n",
      "⎢ 0    1/3   1/3   4/3⎥\n",
      "⎢                     ⎥\n",
      "⎣-1/3  -1/3   0     0 ⎦\n"
     ]
    }
   ],
   "source": [
    "matdisp(A/3)"
   ]
  },
  {
   "cell_type": "code",
   "execution_count": 7,
   "id": "13f3a5f0-e07d-4b73-9ff2-27df63445a04",
   "metadata": {},
   "outputs": [
    {
     "name": "stdout",
     "output_type": "stream",
     "text": [
      "⎡2   1.5  -2  8 ⎤\n",
      "⎢               ⎥\n",
      "⎢2    1   2   3 ⎥\n",
      "⎢               ⎥\n",
      "⎣-1  -1   2   -3⎦\n"
     ]
    }
   ],
   "source": [
    "matdisp(A + B)"
   ]
  },
  {
   "cell_type": "markdown",
   "id": "531e4efa-c0e5-4490-a065-d88555055ffb",
   "metadata": {},
   "source": [
    "### Rank, Determinant, Inverse, and Eigenvalues/vectors\n",
    "\n",
    "A `sympy`'s matrix has multiple methods that computes its characteristics.\n",
    "For instance, if `A` is a `sympy`'s matrix, then we may use\n",
    "- `A.rank()` to calculate its rank,\n",
    "- `A.det()` to calculate its determinant,\n",
    "- `A.inv()` to calculate its inverse matrix,\n",
    "- `A.eigenvals()` to calculate its eigenvalues,\n",
    "- `A.eigenvects()` to calculate its normalized eigenvectors. \n",
    "\n",
    "Note that `A.eigenvals()` returns a dictionary of `{eigenvalue: multiplicity}` pairs.\n",
    "On the other hand, `A.eigenvects()` returns a list of tuples in the `(eigenvalue, multiplicity, [eigenvectors])` format."
   ]
  },
  {
   "cell_type": "code",
   "execution_count": 8,
   "id": "b82e53f2-df03-42b9-a7c8-c1af50f3bffe",
   "metadata": {},
   "outputs": [],
   "source": [
    "A = sy.Matrix([[1, 0, -4], [1, 7, 5], [0, 0, 1]])"
   ]
  },
  {
   "cell_type": "code",
   "execution_count": 9,
   "id": "be4333df-0c78-495e-91bd-aaf00fa6b4e3",
   "metadata": {},
   "outputs": [
    {
     "name": "stdout",
     "output_type": "stream",
     "text": [
      "A =\n",
      "⎡1  0  -4⎤\n",
      "⎢        ⎥\n",
      "⎢1  7  5 ⎥\n",
      "⎢        ⎥\n",
      "⎣0  0  1 ⎦\n",
      "\n",
      "rank(A) = 3\n",
      "\n",
      "det(A) = 7\n",
      "\n",
      "inv(A) =\n",
      "⎡ 1     0    4  ⎤\n",
      "⎢               ⎥\n",
      "⎢-1/7  1/7  -9/7⎥\n",
      "⎢               ⎥\n",
      "⎣ 0     0    1  ⎦\n"
     ]
    }
   ],
   "source": [
    "print(f\"A =\\n{sy.pretty(A)}\\n\")\n",
    "print(f\"rank(A) = {A.rank()}\\n\")\n",
    "print(f\"det(A) = {A.det()}\\n\")\n",
    "print(f\"inv(A) =\\n{sy.pretty(A.inv())}\")"
   ]
  },
  {
   "cell_type": "code",
   "execution_count": 10,
   "id": "40653e32-39ee-429e-aae1-a436a66f9e49",
   "metadata": {},
   "outputs": [
    {
     "data": {
      "text/latex": [
       "$\\displaystyle \\left[\\begin{matrix}1 & 0 & 0\\\\0 & 1 & 0\\\\0 & 0 & 1\\end{matrix}\\right]$"
      ],
      "text/plain": [
       "Matrix([\n",
       "[1, 0, 0],\n",
       "[0, 1, 0],\n",
       "[0, 0, 1]])"
      ]
     },
     "execution_count": 10,
     "metadata": {},
     "output_type": "execute_result"
    }
   ],
   "source": [
    "A @ A.inv()"
   ]
  },
  {
   "cell_type": "code",
   "execution_count": 11,
   "id": "986f71c9-2b2a-4e1d-ace0-e78ba0d1d848",
   "metadata": {},
   "outputs": [
    {
     "data": {
      "text/plain": [
       "{1: 2, 7: 1}"
      ]
     },
     "execution_count": 11,
     "metadata": {},
     "output_type": "execute_result"
    }
   ],
   "source": [
    "A.eigenvals()"
   ]
  },
  {
   "cell_type": "code",
   "execution_count": 12,
   "id": "626321b6-e0c0-4b7e-971d-22c1ae7ebe37",
   "metadata": {},
   "outputs": [
    {
     "data": {
      "text/plain": [
       "[(1,\n",
       "  2,\n",
       "  [Matrix([\n",
       "   [-6],\n",
       "   [ 1],\n",
       "   [ 0]])]),\n",
       " (7,\n",
       "  1,\n",
       "  [Matrix([\n",
       "   [0],\n",
       "   [1],\n",
       "   [0]])])]"
      ]
     },
     "execution_count": 12,
     "metadata": {},
     "output_type": "execute_result"
    }
   ],
   "source": [
    "A.eigenvects()"
   ]
  },
  {
   "cell_type": "markdown",
   "id": "e0a0c573-f90a-4e1b-9551-50800a5dc60f",
   "metadata": {},
   "source": [
    "## Row operations\n",
    "\n",
    "Row operations can be done in the same way as before, except that the calculation is done symbolically.\n",
    "This provides an advantage of computing precise REF and RREF matrices."
   ]
  },
  {
   "cell_type": "markdown",
   "id": "9a4d8764-3646-476c-9b39-e59b5b0ccc17",
   "metadata": {},
   "source": [
    "Let us give an example below of reducing the matrix $A$, defined above, into its RREF."
   ]
  },
  {
   "cell_type": "code",
   "execution_count": 13,
   "id": "51eca528-d0fa-4cf6-8ba2-eceff7f9acb9",
   "metadata": {},
   "outputs": [
    {
     "data": {
      "text/latex": [
       "$\\displaystyle \\left[\\begin{matrix}1 & 0 & -4\\\\1 & 7 & 5\\\\0 & 0 & 1\\end{matrix}\\right]$"
      ],
      "text/plain": [
       "Matrix([\n",
       "[1, 0, -4],\n",
       "[1, 7,  5],\n",
       "[0, 0,  1]])"
      ]
     },
     "execution_count": 13,
     "metadata": {},
     "output_type": "execute_result"
    }
   ],
   "source": [
    "A = sy.Matrix([[1, 0, -4], [1, 7, 5], [0, 0, 1]])\n",
    "A"
   ]
  },
  {
   "cell_type": "code",
   "execution_count": 14,
   "id": "2d9333cb-89f2-458d-a434-d2c75023fddb",
   "metadata": {},
   "outputs": [
    {
     "name": "stdout",
     "output_type": "stream",
     "text": [
      "⎡1  0  -4⎤\n",
      "⎢        ⎥\n",
      "⎢0  7  9 ⎥\n",
      "⎢        ⎥\n",
      "⎣0  0  1 ⎦\n"
     ]
    }
   ],
   "source": [
    "A[1,:] -= A[0,:]\n",
    "matdisp(A)"
   ]
  },
  {
   "cell_type": "code",
   "execution_count": 15,
   "id": "b01a936f-2dd8-4c72-ab8a-35f562f61e57",
   "metadata": {},
   "outputs": [
    {
     "name": "stdout",
     "output_type": "stream",
     "text": [
      "⎡1  0  -4 ⎤\n",
      "⎢         ⎥\n",
      "⎢0  1  9/7⎥\n",
      "⎢         ⎥\n",
      "⎣0  0   1 ⎦\n"
     ]
    }
   ],
   "source": [
    "A[1,:] /= A[1,1]\n",
    "matdisp(A)"
   ]
  },
  {
   "cell_type": "code",
   "execution_count": 16,
   "id": "579e3605-4783-42ff-9b27-58a4cbcb8f92",
   "metadata": {},
   "outputs": [
    {
     "name": "stdout",
     "output_type": "stream",
     "text": [
      "⎡1  0  0⎤\n",
      "⎢       ⎥\n",
      "⎢0  1  0⎥\n",
      "⎢       ⎥\n",
      "⎣0  0  1⎦\n"
     ]
    }
   ],
   "source": [
    "A[0,:] -= A[0,2]*A[2,:]\n",
    "A[1,:] -= A[1,2]*A[2,:]\n",
    "matdisp(A)"
   ]
  },
  {
   "cell_type": "markdown",
   "id": "9c81c26b-50c9-4e85-9af8-8108ee8f6d73",
   "metadata": {},
   "source": [
    "One can also call the built-in method `rref` from any matrix.\n",
    "The outputs are the RREF of the input matrix and the log of row operations.\n",
    "Hence we take the first output as a result."
   ]
  },
  {
   "cell_type": "code",
   "execution_count": 17,
   "id": "f20433c7-79a1-41a1-a62f-21acc004fb20",
   "metadata": {},
   "outputs": [
    {
     "name": "stdout",
     "output_type": "stream",
     "text": [
      "⎡1  0  0⎤\n",
      "⎢       ⎥\n",
      "⎢0  1  0⎥\n",
      "⎢       ⎥\n",
      "⎣0  0  1⎦\n"
     ]
    }
   ],
   "source": [
    "matdisp(A.rref()[0])"
   ]
  },
  {
   "cell_type": "markdown",
   "id": "d3bbc15b-aecd-492a-a8bb-f3055c48e822",
   "metadata": {},
   "source": [
    "-----"
   ]
  }
 ],
 "metadata": {
  "kernelspec": {
   "display_name": "Python 3 (ipykernel)",
   "language": "python",
   "name": "python3"
  },
  "language_info": {
   "codemirror_mode": {
    "name": "ipython",
    "version": 3
   },
   "file_extension": ".py",
   "mimetype": "text/x-python",
   "name": "python",
   "nbconvert_exporter": "python",
   "pygments_lexer": "ipython3",
   "version": "3.13.7"
  }
 },
 "nbformat": 4,
 "nbformat_minor": 5
}
