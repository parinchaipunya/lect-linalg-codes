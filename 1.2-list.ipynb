{
 "cells": [
  {
   "cell_type": "code",
   "execution_count": 3,
   "id": "22fc08fb-f0de-4a84-aded-145871f3c366",
   "metadata": {},
   "outputs": [
    {
     "data": {
      "text/plain": [
       "[1, 2.0, 'three']"
      ]
     },
     "execution_count": 3,
     "metadata": {},
     "output_type": "execute_result"
    }
   ],
   "source": [
    "[1, 2.0, \"three\"] # without storing"
   ]
  },
  {
   "cell_type": "code",
   "execution_count": 4,
   "id": "5f7b1629-ec02-45b4-af06-0bcc32f0cff6",
   "metadata": {},
   "outputs": [],
   "source": [
    "L = [1, 2, \"three\"] # stroing into a variable"
   ]
  },
  {
   "cell_type": "code",
   "execution_count": 6,
   "id": "a0af9751-138e-472b-9769-2643de7458cb",
   "metadata": {},
   "outputs": [
    {
     "name": "stdout",
     "output_type": "stream",
     "text": [
      "[1, 2, 'three']\n"
     ]
    }
   ],
   "source": [
    "print(L) #printing the whole list."
   ]
  },
  {
   "cell_type": "code",
   "execution_count": 71,
   "id": "f4bc37f0-cdd4-4e78-b827-9d2b92a3f7b0",
   "metadata": {},
   "outputs": [
    {
     "name": "stdout",
     "output_type": "stream",
     "text": [
      "[1, 2, 3, [1, 2, 3]]\n"
     ]
    }
   ],
   "source": [
    "L = [1, 2, 3, [1, 2, 3]]\n",
    "print(L)"
   ]
  },
  {
   "cell_type": "markdown",
   "id": "4426a731-525c-4704-8272-a9ea1badc5cc",
   "metadata": {},
   "source": [
    "## Accessing an entry"
   ]
  },
  {
   "cell_type": "markdown",
   "id": "3f12e664-0401-4de6-b9af-43620967b4c8",
   "metadata": {},
   "source": [
    "### Forward indexing\n",
    "\n",
    "Entries of a list is indexed with integers **starting with 0**.\n",
    "An entry can be called by its parent list followed by its index within the square brackets.\n",
    "\n",
    "Therefore, the above list `L` could be seen as `L = [L[0], L[1], L[2]]`.\n",
    "From the above list `L`, we print each entry in the following block."
   ]
  },
  {
   "cell_type": "code",
   "execution_count": 9,
   "id": "56e0809f-1f5e-488b-90d7-0ee0bcc89c65",
   "metadata": {},
   "outputs": [
    {
     "name": "stdout",
     "output_type": "stream",
     "text": [
      "1\n",
      "2\n",
      "three\n"
     ]
    }
   ],
   "source": [
    "print(L[0])\n",
    "print(L[1])\n",
    "print(L[2])"
   ]
  },
  {
   "cell_type": "markdown",
   "id": "b43deca4-b560-4082-bf39-80c7e16eb620",
   "metadata": {},
   "source": [
    "### Backward indexing\n",
    "\n",
    "An entry can be accessed with a *backward index*.\n",
    "Here, the last entry is indexed `-1`, the second last entry is indexed `-2`, etc."
   ]
  },
  {
   "cell_type": "code",
   "execution_count": 10,
   "id": "0585cfa8-24b3-4dcd-80af-87855589020c",
   "metadata": {},
   "outputs": [
    {
     "name": "stdout",
     "output_type": "stream",
     "text": [
      "three\n",
      "2\n",
      "1\n"
     ]
    }
   ],
   "source": [
    "print(L[-1])\n",
    "print(L[-2])\n",
    "print(L[-3])"
   ]
  },
  {
   "cell_type": "markdown",
   "id": "bf7e038d-b72f-4972-8051-8d71a775c218",
   "metadata": {},
   "source": [
    "## List operations"
   ]
  },
  {
   "cell_type": "markdown",
   "id": "52e01fd6-5bb0-40a8-b3f7-4638ba043cf1",
   "metadata": {},
   "source": [
    "One could play around with lists, which includes\n",
    "- adding entries to a list\n",
    "- removing an entry from a list."
   ]
  },
  {
   "cell_type": "markdown",
   "id": "05c6c220-b61e-456e-af16-bcd18910cd91",
   "metadata": {},
   "source": [
    "### Adding entries to a list\n",
    "\n",
    "One could concatenate two lists using `+`."
   ]
  },
  {
   "cell_type": "code",
   "execution_count": 25,
   "id": "399297a4-86cc-4b22-8d1d-510f4525c103",
   "metadata": {},
   "outputs": [
    {
     "name": "stdout",
     "output_type": "stream",
     "text": [
      "[1, 2.0, 'three', 4, 'FIVE']\n"
     ]
    }
   ],
   "source": [
    "L1 = [1, 2.0, \"three\"]\n",
    "L2 = [4, \"FIVE\"]\n",
    "LL = L1 + L2\n",
    "print(LL)"
   ]
  },
  {
   "cell_type": "code",
   "execution_count": 35,
   "id": "45228801-fc8f-4bfa-ba0b-7f9499ebfdde",
   "metadata": {},
   "outputs": [
    {
     "name": "stdout",
     "output_type": "stream",
     "text": [
      "[4, 'FIVE', 1, 2.0, 'three']\n"
     ]
    }
   ],
   "source": [
    "LLL = L2 + L1\n",
    "print(LLL)"
   ]
  },
  {
   "cell_type": "code",
   "execution_count": 36,
   "id": "c32b135c-339b-4a16-a7d3-3028db0d406c",
   "metadata": {},
   "outputs": [
    {
     "name": "stdout",
     "output_type": "stream",
     "text": [
      "[4, 'FIVE', 1, 2.0, 'three']\n"
     ]
    }
   ],
   "source": [
    "print(LLL)"
   ]
  },
  {
   "cell_type": "markdown",
   "id": "9f1c4b92-0125-4ae2-a277-44bea030eafb",
   "metadata": {},
   "source": [
    "One could repeat the list any number of times by using `*`."
   ]
  },
  {
   "cell_type": "code",
   "execution_count": 41,
   "id": "88cae092-84a1-47c7-ba87-e712dfc0b3e7",
   "metadata": {},
   "outputs": [
    {
     "data": {
      "text/plain": [
       "[4, 'FIVE', 4, 'FIVE', 4, 'FIVE']"
      ]
     },
     "execution_count": 41,
     "metadata": {},
     "output_type": "execute_result"
    }
   ],
   "source": [
    "3*L2  # the number that multiplies here must be an integer."
   ]
  },
  {
   "cell_type": "markdown",
   "id": "5785c4c4-75f6-4ab4-bfea-b2ceb3026854",
   "metadata": {},
   "source": [
    "### Removing entries from a list"
   ]
  },
  {
   "cell_type": "markdown",
   "id": "ef50da93-c30f-401d-b663-a99688e16688",
   "metadata": {},
   "source": [
    "If a specific value is to be removed from a list, we use a list's method `.remove()`.\n",
    "By default, it removes the first match."
   ]
  },
  {
   "cell_type": "code",
   "execution_count": 61,
   "id": "08c71891-e8d8-4e74-a3af-ebb33babb225",
   "metadata": {},
   "outputs": [
    {
     "name": "stdout",
     "output_type": "stream",
     "text": [
      "[1, 2.0, 'three', 2.0, 1]\n"
     ]
    }
   ],
   "source": [
    "L = [1, 2.0, \"three\", 2.0, 1]\n",
    "print(L)"
   ]
  },
  {
   "cell_type": "code",
   "execution_count": 62,
   "id": "c646dbfb-3d56-4de2-ae25-112e4dd227c1",
   "metadata": {},
   "outputs": [
    {
     "name": "stdout",
     "output_type": "stream",
     "text": [
      "[2.0, 'three', 2.0, 1]\n"
     ]
    }
   ],
   "source": [
    "L.remove(1)\n",
    "print(L)"
   ]
  },
  {
   "cell_type": "markdown",
   "id": "c6c34ee4-2aad-4414-823b-dafdc68c9f76",
   "metadata": {},
   "source": [
    "To remove an entry at a specific index, we may use `del` or to use a list's method `.pop()`."
   ]
  },
  {
   "cell_type": "code",
   "execution_count": 63,
   "id": "0ac85bbb-3504-4205-87f2-4a955840f08c",
   "metadata": {},
   "outputs": [
    {
     "name": "stdout",
     "output_type": "stream",
     "text": [
      "[2.0, 2.0, 1]\n"
     ]
    }
   ],
   "source": [
    "del L[1]\n",
    "print(L)"
   ]
  },
  {
   "cell_type": "code",
   "execution_count": 64,
   "id": "70e1691e-d240-4dbd-959e-8e3a8a40bc7b",
   "metadata": {},
   "outputs": [
    {
     "name": "stdout",
     "output_type": "stream",
     "text": [
      "[2.0, 2.0]\n"
     ]
    }
   ],
   "source": [
    "L.pop(-1)\n",
    "print(L)"
   ]
  },
  {
   "cell_type": "markdown",
   "id": "1aabd2d0-4ec7-4915-878b-543ffc33fecd",
   "metadata": {},
   "source": [
    "To remove all entries matching some conditions, we may use the following trick."
   ]
  },
  {
   "cell_type": "code",
   "execution_count": 65,
   "id": "b37717a5-8e0c-43af-a8a3-0c0e6754a4fe",
   "metadata": {},
   "outputs": [
    {
     "name": "stdout",
     "output_type": "stream",
     "text": [
      "[1, 2, 3, 2, 1]\n"
     ]
    }
   ],
   "source": [
    "L = [1, 2, 3, 2, 1]\n",
    "print(L)"
   ]
  },
  {
   "cell_type": "code",
   "execution_count": 66,
   "id": "fce3b938-a8b7-4907-82f5-0b1635093f36",
   "metadata": {},
   "outputs": [
    {
     "data": {
      "text/plain": [
       "[1, 3, 1]"
      ]
     },
     "execution_count": 66,
     "metadata": {},
     "output_type": "execute_result"
    }
   ],
   "source": [
    "[x for x in L if x != 2]"
   ]
  },
  {
   "cell_type": "markdown",
   "id": "1ef2c648-50d9-441d-91a2-cd34b98b67e1",
   "metadata": {},
   "source": [
    "## Slicing"
   ]
  },
  {
   "cell_type": "markdown",
   "id": "551616d5-748b-4406-93b8-ff30d05c4acb",
   "metadata": {},
   "source": [
    "Slicing refers to the extraction of some entries (usually multiple ones) from a list.\n",
    "The main tool to use is `:`."
   ]
  },
  {
   "cell_type": "markdown",
   "id": "90f1d2de-417a-4417-bc44-9647477fe039",
   "metadata": {},
   "source": [
    "### `i:j`\n",
    "\n",
    "From a list `L`, we use the slice `L[i:j]` to extract a list `[L[i], L[i+1], ..., L[j-1]]`.\n",
    "Note that `i:j` starts at `i` and ends at `j-1`, excluding the `j` index."
   ]
  },
  {
   "cell_type": "code",
   "execution_count": 77,
   "id": "db3b53b4-5307-4fb8-aebc-a04d10fec994",
   "metadata": {},
   "outputs": [
    {
     "data": {
      "text/plain": [
       "[3, 4, 3]"
      ]
     },
     "execution_count": 77,
     "metadata": {},
     "output_type": "execute_result"
    }
   ],
   "source": [
    "L = [1, 2, 3, 4, 3, 2, 1]\n",
    "print(L[2:5])"
   ]
  },
  {
   "cell_type": "markdown",
   "id": "065cb6cf-24d7-43e5-9442-9318a1cb2fb7",
   "metadata": {},
   "source": [
    "### `i:` and `:j`\n",
    "\n",
    "From a list `L`, the slice `L[i:]` generates the list `[L[i], L[i+1], ..., L[-1]]`.\n",
    "Likewise, the slice `L[:j]` generates the list `[L[0], L[1], ..., L[j-1]]`. "
   ]
  },
  {
   "cell_type": "code",
   "execution_count": 78,
   "id": "6973bcd2-4437-441d-b668-b7874b1fbf91",
   "metadata": {},
   "outputs": [
    {
     "name": "stdout",
     "output_type": "stream",
     "text": [
      "[3, 4, 3, 2, 1]\n",
      "[1, 2, 3, 4]\n"
     ]
    }
   ],
   "source": [
    "print(L[2:])\n",
    "print(L[:4])"
   ]
  },
  {
   "cell_type": "markdown",
   "id": "62da3b7d-4ba3-486f-a0b7-9b22207d1a97",
   "metadata": {},
   "source": [
    "-----"
   ]
  }
 ],
 "metadata": {
  "kernelspec": {
   "display_name": "Python 3 (ipykernel)",
   "language": "python",
   "name": "python3"
  },
  "language_info": {
   "codemirror_mode": {
    "name": "ipython",
    "version": 3
   },
   "file_extension": ".py",
   "mimetype": "text/x-python",
   "name": "python",
   "nbconvert_exporter": "python",
   "pygments_lexer": "ipython3",
   "version": "3.13.7"
  }
 },
 "nbformat": 4,
 "nbformat_minor": 5
}
