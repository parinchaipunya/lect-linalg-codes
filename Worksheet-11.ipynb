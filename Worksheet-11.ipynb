{
 "cells": [
  {
   "cell_type": "markdown",
   "id": "10ef3c9b-8463-4929-8e56-688fbad2ceca",
   "metadata": {},
   "source": [
    "# MTH202 Worksheet 11"
   ]
  },
  {
   "cell_type": "markdown",
   "id": "00652c83-cf7d-4fed-b5b2-ba9f934e8f17",
   "metadata": {},
   "source": [
    "## Problem 1\n",
    "\n",
    "Consider the functions\n",
    "$$\n",
    "f(x) = \\sin(2\\pi x) \\cos(\\pi x)\n",
    "$$\n",
    "and\n",
    "$$\n",
    "g(x) = \\frac{x + \\sin(x)}{x + \\cos(x)}\n",
    "$$\n",
    "over the interval $x \\in [-\\pi, \\pi]$."
   ]
  },
  {
   "cell_type": "markdown",
   "id": "7c9249c4-562f-4cc4-9158-998c92be3704",
   "metadata": {},
   "source": [
    "### Problem 1.1\n",
    "\n",
    "Plot the two functions on the same axis."
   ]
  },
  {
   "cell_type": "code",
   "execution_count": null,
   "id": "bb6265ba-655d-40c9-94ce-bb5ad231a3fc",
   "metadata": {},
   "outputs": [],
   "source": []
  },
  {
   "cell_type": "markdown",
   "id": "e1f95b44-2f45-4f15-8904-1dd49f5e02fc",
   "metadata": {},
   "source": [
    "### Problem 1.2\n",
    "\n",
    "Plot the two functions side-by-side in two subplots."
   ]
  },
  {
   "cell_type": "code",
   "execution_count": null,
   "id": "03ce53de-c299-4cb4-8e6d-e534a4506b0f",
   "metadata": {},
   "outputs": [],
   "source": []
  },
  {
   "cell_type": "markdown",
   "id": "31265eec-612c-402e-90db-bc405176c6e9",
   "metadata": {},
   "source": [
    "## Problem 2\n",
    "\n",
    "Plot the surface of the function\n",
    "$$\n",
    "F(x,y) = \\sin(x^{2} + 3y^{2})\n",
    "$$\n",
    "over $x,y \\in [-2\\pi,2\\pi]$."
   ]
  },
  {
   "cell_type": "code",
   "execution_count": null,
   "id": "08815a4b-17cb-4fc0-80f4-5b104854a8d1",
   "metadata": {},
   "outputs": [],
   "source": []
  }
 ],
 "metadata": {
  "kernelspec": {
   "display_name": "Python 3 (ipykernel)",
   "language": "python",
   "name": "python3"
  },
  "language_info": {
   "codemirror_mode": {
    "name": "ipython",
    "version": 3
   },
   "file_extension": ".py",
   "mimetype": "text/x-python",
   "name": "python",
   "nbconvert_exporter": "python",
   "pygments_lexer": "ipython3",
   "version": "3.13.7"
  }
 },
 "nbformat": 4,
 "nbformat_minor": 5
}
