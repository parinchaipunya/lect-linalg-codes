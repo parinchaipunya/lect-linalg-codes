{
 "cells": [
  {
   "cell_type": "markdown",
   "id": "4e101b24-15a9-46b1-83f4-bcfb64b0c881",
   "metadata": {},
   "source": [
    "# MTH202 Worksheet 9"
   ]
  },
  {
   "cell_type": "code",
   "execution_count": 1,
   "id": "4fcd4df8-fd48-4fb1-8672-d364b6c5b5f7",
   "metadata": {},
   "outputs": [],
   "source": [
    "import numpy as np"
   ]
  },
  {
   "cell_type": "code",
   "execution_count": 2,
   "id": "9965ee43-3f69-46cd-a528-8e254194aad9",
   "metadata": {},
   "outputs": [],
   "source": [
    "def proj(x,y):\n",
    "    p = (x.T@y)/(y.T@y) * y\n",
    "    return p\n",
    "\n",
    "def orthog(U):\n",
    "    \"\"\"\n",
    "    The input U is a matrix of shape (m,n), whose columns constitute a basis of a vector space.\n",
    "    \"\"\"\n",
    "    n = np.shape(U)[1]\n",
    "    Vp = np.zeros(np.shape(U))\n",
    "    for i in range(n):\n",
    "        u_i = U[:,i].copy()\n",
    "        Vp[:,i] = U[:,i]\n",
    "        for j in range(i):\n",
    "            p_j = proj(u_i,Vp[:,j])\n",
    "            Vp[:,i] -= p_j\n",
    "    return Vp"
   ]
  },
  {
   "cell_type": "markdown",
   "id": "514e9395-a139-41d6-a0cd-27754ff3e51e",
   "metadata": {},
   "source": [
    "## Problem 1"
   ]
  },
  {
   "cell_type": "markdown",
   "id": "5ffd03c7-4084-4b08-a3ac-bfda916d6a8d",
   "metadata": {},
   "source": [
    "### Problem 1.1\n",
    "\n",
    "Write a `python` function that *orthonormalize* a given basis."
   ]
  },
  {
   "cell_type": "code",
   "execution_count": 3,
   "id": "4dab8d99-2831-4521-a54d-ee261e88e0a6",
   "metadata": {},
   "outputs": [],
   "source": [
    "def orthonormalize(U):\n",
    "    U_orthog = orthog(U)\n",
    "    col_norms = np.linalg.norm(U_orthog, axis=0).reshape((1,-1))\n",
    "    U_orthonormalized = U_orthog/col_norms\n",
    "    return U_orthonormalized"
   ]
  },
  {
   "cell_type": "markdown",
   "id": "543416bf-9047-4488-b561-8a253e7595b9",
   "metadata": {},
   "source": [
    "### Problem 1.2\n",
    "Test your function with the following basis given in a matrix `U`."
   ]
  },
  {
   "cell_type": "code",
   "execution_count": 4,
   "id": "7f5f1f69-ccfa-40c4-abc8-4bc0239d7b38",
   "metadata": {},
   "outputs": [],
   "source": [
    "U = np.array([[1, 2, 3, 1],\n",
    "              [0, 1, 0, 1],\n",
    "              [1, 0, 0, 1],\n",
    "              [-1, 0, 1, 0]])"
   ]
  },
  {
   "cell_type": "code",
   "execution_count": 5,
   "id": "ccb472de-cc02-4418-becc-33321ec5ec0f",
   "metadata": {},
   "outputs": [
    {
     "name": "stdout",
     "output_type": "stream",
     "text": [
      "[[ 0.57735027  0.69631062  0.38533732 -0.18257419]\n",
      " [ 0.          0.52223297 -0.77067464  0.36514837]\n",
      " [ 0.57735027 -0.34815531  0.11009638  0.73029674]\n",
      " [-0.57735027  0.34815531  0.49543369  0.54772256]]\n"
     ]
    }
   ],
   "source": [
    "U_orthonormalized = orthonormalize(U)\n",
    "print(U_orthonormalized)"
   ]
  },
  {
   "cell_type": "code",
   "execution_count": 6,
   "id": "550d3f7a-7be0-449b-87a0-3ad6c09a51eb",
   "metadata": {},
   "outputs": [
    {
     "data": {
      "text/plain": [
       "array([[ True,  True,  True,  True],\n",
       "       [ True,  True,  True,  True],\n",
       "       [ True,  True,  True,  True],\n",
       "       [ True,  True,  True,  True]])"
      ]
     },
     "execution_count": 6,
     "metadata": {},
     "output_type": "execute_result"
    }
   ],
   "source": [
    "np.isclose(U_orthonormalized.T @ U_orthonormalized, np.eye(4,4))"
   ]
  },
  {
   "cell_type": "markdown",
   "id": "43a6d95c-1898-4c88-971e-6c479519c109",
   "metadata": {},
   "source": [
    "## Problem 2\n",
    "\n",
    "Consider a vector space $V = \\{ (x_{1},x_{2},x_{3} \\in \\mathbb{R}^{3} \\mid x_{1} - x_{2} + x_{3} = 0 \\}$.\n",
    "* Find a basis of $V$.\n",
    "* Use the function from Problem 1 to orthonormalize such basis."
   ]
  },
  {
   "cell_type": "code",
   "execution_count": 7,
   "id": "c3d094a0-a840-4e2a-ae1a-f4b1e687c739",
   "metadata": {},
   "outputs": [
    {
     "name": "stdout",
     "output_type": "stream",
     "text": [
      "[[ 0.70710678 -0.40824829]\n",
      " [ 0.70710678  0.40824829]\n",
      " [ 0.          0.81649658]]\n"
     ]
    }
   ],
   "source": [
    "B = np.array([[1, 1, 0], [-1, 0, 1]]).T\n",
    "B_orthonormalized = orthonormalize(B)\n",
    "print(B_orthonormalized)"
   ]
  },
  {
   "cell_type": "markdown",
   "id": "87b9e9b0-cc8b-45cc-9d41-668bc4bc0723",
   "metadata": {},
   "source": [
    "-----"
   ]
  }
 ],
 "metadata": {
  "kernelspec": {
   "display_name": "Python 3 (ipykernel)",
   "language": "python",
   "name": "python3"
  },
  "language_info": {
   "codemirror_mode": {
    "name": "ipython",
    "version": 3
   },
   "file_extension": ".py",
   "mimetype": "text/x-python",
   "name": "python",
   "nbconvert_exporter": "python",
   "pygments_lexer": "ipython3",
   "version": "3.13.7"
  }
 },
 "nbformat": 4,
 "nbformat_minor": 5
}
