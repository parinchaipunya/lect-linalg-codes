{
 "cells": [
  {
   "cell_type": "markdown",
   "id": "10a89607-b983-4051-bc47-5a1377fb1f9f",
   "metadata": {},
   "source": [
    "# Functions\n",
    "author: Parin Chaipunya\n",
    "affil: KMUTT"
   ]
  },
  {
   "cell_type": "markdown",
   "id": "7ae686ff-6fc4-4127-af5b-3a5148ded912",
   "metadata": {},
   "source": [
    "## Functions\n",
    "\n",
    "A function in `python` accepts a set of *inputs* (possibly empty) and uses them to produce *outputs* (again, possibly empty).\n",
    "A function is usually use when one wants to operate a similar process\n",
    "\n",
    "A function is created following the following structure.\n",
    "```python\n",
    "def function_name(input_1,...,input_n):\n",
    "    <tasks>\n",
    "    return output_1,...,output_m\n",
    "```\n",
    "\n",
    "If a funtion has no input, we leave the parenthesis after `function_name` empty.\n",
    "Likewise, if a function has no output, the line `return ...` is left out."
   ]
  },
  {
   "cell_type": "markdown",
   "id": "6741c99c-bc10-4232-badf-6c2fcbe25eb0",
   "metadata": {},
   "source": [
    "### Example\n",
    "\n",
    "Let us define a function that takes two inputs `x1` and `x2`, then output two outputs.\n",
    "The first output `y1` is the sum `x1 + x2`, and the second output `y2` is the difference `x1 - x2`."
   ]
  },
  {
   "cell_type": "code",
   "execution_count": 1,
   "id": "aa1eec9f-0412-4364-9d2a-030c2ce2fa05",
   "metadata": {},
   "outputs": [],
   "source": [
    "def sum_and_diff(x1, x2):\n",
    "    y1 = x1 + x2\n",
    "    y2 = x1 - x2\n",
    "    return y1, y2"
   ]
  },
  {
   "cell_type": "markdown",
   "id": "8f4dc4cb-1cd9-4a25-aae2-28e9d513aee9",
   "metadata": {},
   "source": [
    "Next, we show how a funtion could be called."
   ]
  },
  {
   "cell_type": "code",
   "execution_count": 2,
   "id": "e9ccfbbf-157a-4a0d-8293-374a5266c51b",
   "metadata": {},
   "outputs": [
    {
     "name": "stdout",
     "output_type": "stream",
     "text": [
      "sum = 7, diff = 3\n"
     ]
    }
   ],
   "source": [
    "Sum, Diff = sum_and_diff(5,2)\n",
    "print(f\"sum = {Sum}, diff = {Diff}\")"
   ]
  },
  {
   "cell_type": "markdown",
   "id": "a33509b6-b65e-4a3f-88e9-9dcffedf3095",
   "metadata": {},
   "source": [
    "### Example\n",
    "\n",
    "We now give an example of a function that requires no input."
   ]
  },
  {
   "cell_type": "code",
   "execution_count": 3,
   "id": "3f9c2e77-fdff-42b1-a90e-76a8f4f60270",
   "metadata": {},
   "outputs": [],
   "source": [
    "def split_line():\n",
    "    print(f\"{20*\"-\"}\")"
   ]
  },
  {
   "cell_type": "markdown",
   "id": "d1e41c41-7fd7-4d80-97aa-eb7d747eaee9",
   "metadata": {},
   "source": [
    "Now, when the above function `split_line` is called, even it takes no inputs, we still need the empty parentheses `()` at the end of the function.\n",
    "The following code block illustrates the calling of such a function."
   ]
  },
  {
   "cell_type": "code",
   "execution_count": 4,
   "id": "9a4f1d40-142a-4466-a358-efe4db6a469b",
   "metadata": {},
   "outputs": [
    {
     "name": "stdout",
     "output_type": "stream",
     "text": [
      "--------------------\n",
      "i = 0:  i^2 = 0\n",
      "--------------------\n",
      "i = 1:  i^2 = 1\n",
      "--------------------\n",
      "i = 2:  i^2 = 4\n",
      "--------------------\n",
      "i = 3:  i^2 = 9\n",
      "--------------------\n",
      "i = 4:  i^2 = 16\n",
      "--------------------\n",
      "i = 5:  i^2 = 25\n",
      "--------------------\n",
      "i = 6:  i^2 = 36\n",
      "--------------------\n",
      "i = 7:  i^2 = 49\n",
      "--------------------\n",
      "i = 8:  i^2 = 64\n",
      "--------------------\n",
      "i = 9:  i^2 = 81\n",
      "--------------------\n"
     ]
    }
   ],
   "source": [
    "for i in range(10):\n",
    "    split_line()\n",
    "    print(f\"i = {i}:  i^2 = {i**2}\")\n",
    "split_line()"
   ]
  },
  {
   "cell_type": "markdown",
   "id": "ed03c99c-9756-4e44-83ea-eaa031d050e3",
   "metadata": {},
   "source": [
    "### Example\n",
    "\n",
    "This example shows a function that has no output."
   ]
  },
  {
   "cell_type": "code",
   "execution_count": 5,
   "id": "62abc46f-c63b-4c92-b914-80228589e0b3",
   "metadata": {},
   "outputs": [],
   "source": [
    "def mult_table(a):\n",
    "    split_line()\n",
    "    for k in range(1,13):\n",
    "        print(f\"{a}*{k}\\t=\\t{a*k}\")\n",
    "    split_line()"
   ]
  },
  {
   "cell_type": "code",
   "execution_count": 9,
   "id": "10ba4b9f-94a1-4517-af93-0625b60a7ea5",
   "metadata": {},
   "outputs": [
    {
     "name": "stdout",
     "output_type": "stream",
     "text": [
      "--------------------\n",
      "7*1\t=\t7\n",
      "7*2\t=\t14\n",
      "7*3\t=\t21\n",
      "7*4\t=\t28\n",
      "7*5\t=\t35\n",
      "7*6\t=\t42\n",
      "7*7\t=\t49\n",
      "7*8\t=\t56\n",
      "7*9\t=\t63\n",
      "7*10\t=\t70\n",
      "7*11\t=\t77\n",
      "7*12\t=\t84\n",
      "--------------------\n"
     ]
    }
   ],
   "source": [
    "mult_table(7)"
   ]
  },
  {
   "cell_type": "markdown",
   "id": "fdb461a5-0832-4c2d-b308-33ef2aefc21d",
   "metadata": {},
   "source": [
    "### Example\n",
    "\n",
    "Let us consider a function that is more elaborated. \n",
    "\n",
    "We shall construct a function that verify whether the two matrices $A$ and $B$ can by multiplied.<br>\n",
    "If the product $AB$ is defined, the the function outputs the product.<br>\n",
    "Otherwise, outputs a `np.nan` (which means *not-a-number*)."
   ]
  },
  {
   "cell_type": "code",
   "execution_count": 10,
   "id": "44738ba0-335d-433f-838e-810a9d125d00",
   "metadata": {},
   "outputs": [],
   "source": [
    "import numpy as np"
   ]
  },
  {
   "cell_type": "code",
   "execution_count": 11,
   "id": "47ab3009-4796-4d12-b5db-5ffbf8721d54",
   "metadata": {},
   "outputs": [],
   "source": [
    "# In the following function, the input verb = \"\" means this input is default to \"\" (empty string).\n",
    "# If we do not explicitly input verb, then this value will be used.\n",
    "def mult_verif(A, B, verb = \"\"):\n",
    "    \"\"\"\n",
    "    verb is the verbose level.\n",
    "    verb = \"verbose\" indicates to print the output.\n",
    "    \"\"\"\n",
    "    col_A = A.shape[1]\n",
    "    row_B = B.shape[0]\n",
    "    if col_A == row_B:\n",
    "        if verb == \"verbose\":\n",
    "            print(f\"The product AB is defined. The output is the product.\")\n",
    "        return A @ B\n",
    "    else:\n",
    "        if verb == \"verbose\":\n",
    "            print(f\"The product AB is not defined. The output is `Not-a-Number`.\")\n",
    "        return np.nan"
   ]
  },
  {
   "cell_type": "code",
   "execution_count": 12,
   "id": "6fefefe1-99a0-47fe-8d3b-1584f724bd43",
   "metadata": {},
   "outputs": [],
   "source": [
    "A = np.random.randint(-10, 11, (3, 6))\n",
    "B = np.random.randint(-10, 11, (4, 5))\n",
    "C = np.random.randint(-10, 11, (6, 5))"
   ]
  },
  {
   "cell_type": "code",
   "execution_count": 13,
   "id": "c8ccb993-d092-4501-9b95-8ca504c6fcf2",
   "metadata": {},
   "outputs": [
    {
     "name": "stdout",
     "output_type": "stream",
     "text": [
      "nan\n"
     ]
    }
   ],
   "source": [
    "Z1 = mult_verif(A, B)\n",
    "print(Z1)"
   ]
  },
  {
   "cell_type": "code",
   "execution_count": 14,
   "id": "ec2e2eb3-be9a-4a94-90bc-5989de6ff695",
   "metadata": {},
   "outputs": [
    {
     "name": "stdout",
     "output_type": "stream",
     "text": [
      "The product AB is not defined. The output is `Not-a-Number`.\n"
     ]
    }
   ],
   "source": [
    "Z1 = mult_verif(A, B, verb = \"verbose\")"
   ]
  },
  {
   "cell_type": "code",
   "execution_count": 15,
   "id": "324e3a88-109b-43bd-9074-0b1f9db242e4",
   "metadata": {},
   "outputs": [
    {
     "name": "stdout",
     "output_type": "stream",
     "text": [
      "The product AB is defined. The output is the product.\n",
      "Z2 =\n",
      "[[  47   65   66   92  -75]\n",
      " [ -43 -202 -195  -60  -33]\n",
      " [  58   22   27   62  -99]]\n"
     ]
    }
   ],
   "source": [
    "Z2 = mult_verif(A, C, verb = \"verbose\")\n",
    "print(f\"Z2 =\\n{Z2}\")"
   ]
  },
  {
   "cell_type": "markdown",
   "id": "0b84757f-d5ff-422b-b591-4bf17fcf6d32",
   "metadata": {},
   "source": [
    "## Lambda\n",
    "\n",
    "There is an alternative way to quickly define a function in `python`, which is known as `lambda`.\n",
    "It is usually used for functions that are not complicate and could be completed within a line of code.\n",
    "\n",
    "It follows the structure below.\n",
    "```python\n",
    "function_name = lambda input_1,...,input_n: (output_1,...,output_m)\n",
    "```"
   ]
  },
  {
   "cell_type": "markdown",
   "id": "d2ab6f7a-a047-4062-a6b9-f1d732a76189",
   "metadata": {},
   "source": [
    "### Example\n",
    "\n",
    "Let's use `lambda` to define the sum of 4 numbers."
   ]
  },
  {
   "cell_type": "code",
   "execution_count": 16,
   "id": "39b80e67-d5f1-4ea1-8940-9dcd9dc42bb9",
   "metadata": {},
   "outputs": [
    {
     "data": {
      "text/plain": [
       "16"
      ]
     },
     "execution_count": 16,
     "metadata": {},
     "output_type": "execute_result"
    }
   ],
   "source": [
    "SUM = lambda x1, x2, x3, x4: x1 + x2 + x3 + x4\n",
    "SUM(1, 3, 5, 7)"
   ]
  },
  {
   "cell_type": "markdown",
   "id": "b8971342-5366-41a2-804f-1beb4460e536",
   "metadata": {},
   "source": [
    "### Example\n",
    "The `sum_and_diff` function above could be easily rewritten with `lambda`."
   ]
  },
  {
   "cell_type": "code",
   "execution_count": 17,
   "id": "9f330e9a-a353-4eaf-b523-11be14a7ea5f",
   "metadata": {},
   "outputs": [
    {
     "name": "stdout",
     "output_type": "stream",
     "text": [
      "Sum = 14, Diff = 6\n"
     ]
    }
   ],
   "source": [
    "SUM_AND_DIFF = lambda x, y: (x + y, x - y)\n",
    "Sum, Diff = SUM_AND_DIFF(10, 4)\n",
    "print(f\"Sum = {Sum}, Diff = {Diff}\")"
   ]
  },
  {
   "cell_type": "markdown",
   "id": "6eaea200-7217-4758-8b09-73e73d764e77",
   "metadata": {},
   "source": [
    "-----"
   ]
  }
 ],
 "metadata": {
  "kernelspec": {
   "display_name": "Python 3 (ipykernel)",
   "language": "python",
   "name": "python3"
  },
  "language_info": {
   "codemirror_mode": {
    "name": "ipython",
    "version": 3
   },
   "file_extension": ".py",
   "mimetype": "text/x-python",
   "name": "python",
   "nbconvert_exporter": "python",
   "pygments_lexer": "ipython3",
   "version": "3.13.7"
  }
 },
 "nbformat": 4,
 "nbformat_minor": 5
}
