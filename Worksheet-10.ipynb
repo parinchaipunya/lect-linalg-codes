{
 "cells": [
  {
   "cell_type": "markdown",
   "id": "a49418ed-68a2-4c57-9cad-7681affe2bc8",
   "metadata": {},
   "source": [
    "# MTH202 Worksheet 10"
   ]
  },
  {
   "cell_type": "markdown",
   "id": "6a27e451-2ab2-44fc-8e66-71da72399791",
   "metadata": {},
   "source": [
    "## Problem 1\n",
    "\n",
    "Find a least-squares solution of the following linear system\n",
    "$$\n",
    "\\begin{align*}\n",
    "2x_{1} + x_{2} + x_{5} &= 0 \\\\\n",
    "x_{3} + x_{4} + x_{5} &= 1 \\\\\n",
    "x_{1} + x_{2} - 3x_{4} &= 4 \\\\\n",
    "x_{2} + x_{5} &= 2 \\\\\n",
    "x_{4} - 4x_{5} &= -2 \\\\\n",
    "x_{1} + x_{2} + x_{3} &= 1 \\\\\n",
    "x_{1} - x_{4} + x_{5} &= 0\n",
    "\\end{align*}\n",
    "$$"
   ]
  },
  {
   "cell_type": "code",
   "execution_count": null,
   "id": "1089efc9-c0de-4b68-97a3-b03896d1515d",
   "metadata": {},
   "outputs": [],
   "source": []
  }
 ],
 "metadata": {
  "kernelspec": {
   "display_name": "Python 3 (ipykernel)",
   "language": "python",
   "name": "python3"
  },
  "language_info": {
   "codemirror_mode": {
    "name": "ipython",
    "version": 3
   },
   "file_extension": ".py",
   "mimetype": "text/x-python",
   "name": "python",
   "nbconvert_exporter": "python",
   "pygments_lexer": "ipython3",
   "version": "3.13.7"
  }
 },
 "nbformat": 4,
 "nbformat_minor": 5
}
