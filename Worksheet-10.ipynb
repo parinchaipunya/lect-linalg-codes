{
 "cells": [
  {
   "cell_type": "markdown",
   "id": "a49418ed-68a2-4c57-9cad-7681affe2bc8",
   "metadata": {},
   "source": [
    "# MTH202 Worksheet 10"
   ]
  },
  {
   "cell_type": "markdown",
   "id": "6a27e451-2ab2-44fc-8e66-71da72399791",
   "metadata": {},
   "source": [
    "## Problem 1\n",
    "\n",
    "Find a least-squares solution of the following linear system\n",
    "$$\n",
    "\\begin{align*}\n",
    "2x_{1} + x_{2} + x_{5} &= 0 \\\\\n",
    "x_{3} + x_{4} + x_{5} &= 1 \\\\\n",
    "x_{1} + x_{2} - 3x_{4} &= 4 \\\\\n",
    "x_{2} + x_{5} &= 2 \\\\\n",
    "x_{4} - 4x_{5} &= -2 \\\\\n",
    "x_{1} + x_{2} + x_{3} &= 1 \\\\\n",
    "x_{1} - x_{4} + x_{5} &= 0\n",
    "\\end{align*}\n",
    "$$"
   ]
  },
  {
   "cell_type": "code",
   "execution_count": 1,
   "id": "1089efc9-c0de-4b68-97a3-b03896d1515d",
   "metadata": {},
   "outputs": [],
   "source": [
    "import numpy as np"
   ]
  },
  {
   "cell_type": "code",
   "execution_count": 2,
   "id": "4be3f0bf-b0fb-4c92-a1be-9e16224e027c",
   "metadata": {},
   "outputs": [
    {
     "name": "stdout",
     "output_type": "stream",
     "text": [
      "The least-squares solution is x = [-1.10624779  1.66678433  1.09036357 -1.03000353  0.28873985]\n"
     ]
    }
   ],
   "source": [
    "A = np.array([[2, 1, 0, 0, 1],\n",
    "              [0, 0, 1, 1, 1],\n",
    "              [1, 1, 0,-3, 0],\n",
    "              [0, 1, 0, 0, 1],\n",
    "              [0, 0, 0, 1,-4],\n",
    "              [1, 1, 1, 0, 0],\n",
    "              [1, 0, 0,-1, 1]])\n",
    "b = np.array([0, 1, 4, 2, -2, 1, 0])\n",
    "x = np.linalg.lstsq(A,b)[0]\n",
    "print(f\"The least-squares solution is x = {x}\")"
   ]
  },
  {
   "cell_type": "markdown",
   "id": "5ee10dff-f9dd-4f95-9573-de7f562a25e6",
   "metadata": {},
   "source": [
    "----"
   ]
  }
 ],
 "metadata": {
  "kernelspec": {
   "display_name": "Python 3 (ipykernel)",
   "language": "python",
   "name": "python3"
  },
  "language_info": {
   "codemirror_mode": {
    "name": "ipython",
    "version": 3
   },
   "file_extension": ".py",
   "mimetype": "text/x-python",
   "name": "python",
   "nbconvert_exporter": "python",
   "pygments_lexer": "ipython3",
   "version": "3.13.7"
  }
 },
 "nbformat": 4,
 "nbformat_minor": 5
}
