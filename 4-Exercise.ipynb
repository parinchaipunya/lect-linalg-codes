{
 "cells": [
  {
   "cell_type": "markdown",
   "id": "81078418-9a6f-463c-9ff6-4264d0fa2b3f",
   "metadata": {},
   "source": [
    "### Exercise\n",
    "#### DT200 --- Loops and Conditioning\n",
    "Parin Chaipunya (KMUTT)"
   ]
  },
  {
   "cell_type": "markdown",
   "id": "d5298d9c-4936-4d33-b04d-d26952a2bd23",
   "metadata": {},
   "source": [
    "**Exercise 1**\n",
    "\n",
    "Use `for` and `while` loops to list all Fibonacci numbers not exceeding 100.\n",
    "\n",
    "Recall that a Fibonacci sequence ${f_{n}}$ is defined by \\\n",
    "$f_{0} = f_{1} = 1$ \\\n",
    "$f_{n+1} = f_{n} + f_{n-1} \\quad ("
   ]
  },
  {
   "cell_type": "code",
   "execution_count": 1,
   "id": "779cabbd-3308-4e8e-bcf9-8b05f41af8f2",
   "metadata": {},
   "outputs": [
    {
     "name": "stdout",
     "output_type": "stream",
     "text": [
      "f0 = 1\n",
      "f1 = 1\n",
      "f2 = 2\n",
      "f3 = 3\n",
      "f4 = 5\n",
      "f5 = 8\n",
      "f6 = 13\n",
      "f7 = 21\n",
      "f8 = 34\n",
      "f9 = 55\n",
      "f10 = 89\n"
     ]
    }
   ],
   "source": [
    "f0 = 1\n",
    "f1 = 1\n",
    "print('f0 = 1')\n",
    "i = 1\n",
    "while f1 <= 100:\n",
    "    print(f'f{i} = {f1}')\n",
    "    f_temp = f0 + f1\n",
    "    f0 = f1\n",
    "    f1 = f_temp\n",
    "    i += 1"
   ]
  },
  {
   "cell_type": "markdown",
   "id": "3fbdd935-83a1-4a87-962f-8797a26db758",
   "metadata": {},
   "source": [
    "-----"
   ]
  },
  {
   "cell_type": "markdown",
   "id": "7c7b8d23-e6d1-43dc-babd-d26c486485a3",
   "metadata": {},
   "source": [
    "**Exercise 2**\n",
    "\n",
    "Find the first Fibonacci number that is larger than 1000."
   ]
  },
  {
   "cell_type": "code",
   "execution_count": 2,
   "id": "0b90507c-ab97-4d68-a69a-1957c2aaefae",
   "metadata": {},
   "outputs": [
    {
     "name": "stdout",
     "output_type": "stream",
     "text": [
      "The first Fibonacci number that is larger than 1000 is 1597.\n"
     ]
    }
   ],
   "source": [
    "f0 = 1\n",
    "f1 = 1\n",
    "i = 2\n",
    "while f1 <= 1000:\n",
    "    f_temp = f0 + f1\n",
    "    f0 = f1\n",
    "    f1 = f_temp\n",
    "print(f'The first Fibonacci number that is larger than 1000 is {f1}.')"
   ]
  },
  {
   "cell_type": "markdown",
   "id": "381a83ab-1a28-418e-a5e1-8e8bde1ca473",
   "metadata": {},
   "source": [
    "-----"
   ]
  },
  {
   "cell_type": "markdown",
   "id": "8deef85c-083f-48e1-a8ab-277bd4f7610f",
   "metadata": {},
   "source": [
    "**Exercise 3**\n",
    "\n",
    "Use `for` and `while` loops to list the first 100 prime numbers."
   ]
  },
  {
   "cell_type": "code",
   "execution_count": 3,
   "id": "fdc6aba5-edda-4e95-a114-505f5127aa5a",
   "metadata": {},
   "outputs": [
    {
     "name": "stdout",
     "output_type": "stream",
     "text": [
      "The prime#1 is 2\n",
      "The prime#2 is 3\n",
      "The prime#3 is 5\n",
      "The prime#4 is 7\n",
      "The prime#5 is 11\n",
      "The prime#6 is 13\n",
      "The prime#7 is 17\n",
      "The prime#8 is 19\n",
      "The prime#9 is 23\n",
      "The prime#10 is 29\n",
      "The prime#11 is 31\n",
      "The prime#12 is 37\n",
      "The prime#13 is 41\n",
      "The prime#14 is 43\n",
      "The prime#15 is 47\n",
      "The prime#16 is 53\n",
      "The prime#17 is 59\n",
      "The prime#18 is 61\n",
      "The prime#19 is 67\n",
      "The prime#20 is 71\n",
      "The prime#21 is 73\n",
      "The prime#22 is 79\n",
      "The prime#23 is 83\n",
      "The prime#24 is 89\n",
      "The prime#25 is 97\n",
      "The prime#26 is 101\n",
      "The prime#27 is 103\n",
      "The prime#28 is 107\n",
      "The prime#29 is 109\n",
      "The prime#30 is 113\n",
      "The prime#31 is 127\n",
      "The prime#32 is 131\n",
      "The prime#33 is 137\n",
      "The prime#34 is 139\n",
      "The prime#35 is 149\n",
      "The prime#36 is 151\n",
      "The prime#37 is 157\n",
      "The prime#38 is 163\n",
      "The prime#39 is 167\n",
      "The prime#40 is 173\n",
      "The prime#41 is 179\n",
      "The prime#42 is 181\n",
      "The prime#43 is 191\n",
      "The prime#44 is 193\n",
      "The prime#45 is 197\n",
      "The prime#46 is 199\n",
      "The prime#47 is 211\n",
      "The prime#48 is 223\n",
      "The prime#49 is 227\n",
      "The prime#50 is 229\n",
      "The prime#51 is 233\n",
      "The prime#52 is 239\n",
      "The prime#53 is 241\n",
      "The prime#54 is 251\n",
      "The prime#55 is 257\n",
      "The prime#56 is 263\n",
      "The prime#57 is 269\n",
      "The prime#58 is 271\n",
      "The prime#59 is 277\n",
      "The prime#60 is 281\n",
      "The prime#61 is 283\n",
      "The prime#62 is 293\n",
      "The prime#63 is 307\n",
      "The prime#64 is 311\n",
      "The prime#65 is 313\n",
      "The prime#66 is 317\n",
      "The prime#67 is 331\n",
      "The prime#68 is 337\n",
      "The prime#69 is 347\n",
      "The prime#70 is 349\n",
      "The prime#71 is 353\n",
      "The prime#72 is 359\n",
      "The prime#73 is 367\n",
      "The prime#74 is 373\n",
      "The prime#75 is 379\n",
      "The prime#76 is 383\n",
      "The prime#77 is 389\n",
      "The prime#78 is 397\n",
      "The prime#79 is 401\n",
      "The prime#80 is 409\n",
      "The prime#81 is 419\n",
      "The prime#82 is 421\n",
      "The prime#83 is 431\n",
      "The prime#84 is 433\n",
      "The prime#85 is 439\n",
      "The prime#86 is 443\n",
      "The prime#87 is 449\n",
      "The prime#88 is 457\n",
      "The prime#89 is 461\n",
      "The prime#90 is 463\n",
      "The prime#91 is 467\n",
      "The prime#92 is 479\n",
      "The prime#93 is 487\n",
      "The prime#94 is 491\n",
      "The prime#95 is 499\n",
      "The prime#96 is 503\n",
      "The prime#97 is 509\n",
      "The prime#98 is 521\n",
      "The prime#99 is 523\n",
      "The prime#100 is 541\n"
     ]
    }
   ],
   "source": [
    "counter = 0\n",
    "p = 2\n",
    "while counter < 100:\n",
    "    # Check whether p is prime or not.\n",
    "    for n in range(1,p):\n",
    "        if n > 1 and p%n == 0:\n",
    "            break\n",
    "        elif n == p-1:\n",
    "            counter += 1\n",
    "            print(f'The prime#{counter} is {p}')\n",
    "    p += 1"
   ]
  },
  {
   "cell_type": "markdown",
   "id": "11ac1b66-6f8d-4eb3-9c0d-05ee3bc89488",
   "metadata": {},
   "source": [
    "-----"
   ]
  }
 ],
 "metadata": {
  "kernelspec": {
   "display_name": "Python 3 (ipykernel)",
   "language": "python",
   "name": "python3"
  },
  "language_info": {
   "codemirror_mode": {
    "name": "ipython",
    "version": 3
   },
   "file_extension": ".py",
   "mimetype": "text/x-python",
   "name": "python",
   "nbconvert_exporter": "python",
   "pygments_lexer": "ipython3",
   "version": "3.12.6"
  }
 },
 "nbformat": 4,
 "nbformat_minor": 5
}
