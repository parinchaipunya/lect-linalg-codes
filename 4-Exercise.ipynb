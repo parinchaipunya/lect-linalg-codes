{
 "cells": [
  {
   "cell_type": "markdown",
   "id": "81078418-9a6f-463c-9ff6-4264d0fa2b3f",
   "metadata": {},
   "source": [
    "### Exercise\n",
    "#### DT200 --- Loops and Conditioning\n",
    "Parin Chaipunya (KMUTT)"
   ]
  },
  {
   "cell_type": "markdown",
   "id": "d5298d9c-4936-4d33-b04d-d26952a2bd23",
   "metadata": {},
   "source": [
    "**Exercise 1**\n",
    "\n",
    "Use `for` and `while` loops to list all Fibonacci numbers not exceeding 100."
   ]
  },
  {
   "cell_type": "code",
   "execution_count": null,
   "id": "779cabbd-3308-4e8e-bcf9-8b05f41af8f2",
   "metadata": {},
   "outputs": [],
   "source": []
  },
  {
   "cell_type": "markdown",
   "id": "3fbdd935-83a1-4a87-962f-8797a26db758",
   "metadata": {},
   "source": [
    "-----"
   ]
  },
  {
   "cell_type": "markdown",
   "id": "8deef85c-083f-48e1-a8ab-277bd4f7610f",
   "metadata": {},
   "source": [
    "**Exercise 2**\n",
    "\n",
    "Use `for` and `while` loops to find the first Fibonacci number that is larger than 1000."
   ]
  },
  {
   "cell_type": "code",
   "execution_count": null,
   "id": "fdc6aba5-edda-4e95-a114-505f5127aa5a",
   "metadata": {},
   "outputs": [],
   "source": []
  },
  {
   "cell_type": "markdown",
   "id": "381a83ab-1a28-418e-a5e1-8e8bde1ca473",
   "metadata": {},
   "source": [
    "-----"
   ]
  },
  {
   "cell_type": "markdown",
   "id": "7c7b8d23-e6d1-43dc-babd-d26c486485a3",
   "metadata": {},
   "source": [
    "**Exercise 3**\n",
    "\n",
    "Use `for` and `while` loops to list the first 100 prime numbers."
   ]
  },
  {
   "cell_type": "code",
   "execution_count": null,
   "id": "c1214477-b5f7-46eb-87cc-1f9a671cf0b5",
   "metadata": {},
   "outputs": [],
   "source": []
  },
  {
   "cell_type": "markdown",
   "id": "a38f6c35-9221-4d67-a7bd-070f2d6e5b9d",
   "metadata": {},
   "source": [
    "----"
   ]
  }
 ],
 "metadata": {
  "kernelspec": {
   "display_name": "Python 3 (ipykernel)",
   "language": "python",
   "name": "python3"
  },
  "language_info": {
   "codemirror_mode": {
    "name": "ipython",
    "version": 3
   },
   "file_extension": ".py",
   "mimetype": "text/x-python",
   "name": "python",
   "nbconvert_exporter": "python",
   "pygments_lexer": "ipython3",
   "version": "3.12.6"
  }
 },
 "nbformat": 4,
 "nbformat_minor": 5
}
