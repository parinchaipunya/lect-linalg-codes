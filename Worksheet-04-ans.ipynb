{
 "cells": [
  {
   "cell_type": "markdown",
   "id": "fad5f425-e167-425b-a4cf-b701c3025d17",
   "metadata": {},
   "source": [
    "# MTH202 Worksheet 4"
   ]
  },
  {
   "cell_type": "code",
   "execution_count": 1,
   "id": "5bc8acba-2e1c-49ec-b54f-ece61c793436",
   "metadata": {},
   "outputs": [],
   "source": [
    "import numpy as np"
   ]
  },
  {
   "cell_type": "markdown",
   "id": "efd94ee3-e880-4a45-8f93-ea7459ca5ece",
   "metadata": {},
   "source": [
    "## Problem 1\n",
    "\n",
    "You are organizing a French cuisine party.\n",
    "You need to cook one starter, one main dish, and one dessert.\n",
    "You are uncertain of what to make among the following lists:\n",
    "\n",
    "**Starter**\n",
    "- Vegetarian salad\n",
    "- Mushroom soup\n",
    "- Grilled scallop\n",
    "\n",
    "**Main dish**\n",
    "- Beef steak\n",
    "- German sausages\n",
    "- Roasted duck\n",
    "- Grilled sea bass\n",
    "\n",
    "**Dessert**\n",
    "- Strawberry sorbet\n",
    "- Custart tart\n",
    "\n",
    "Use `for` loops to list all possible course combinations."
   ]
  },
  {
   "cell_type": "code",
   "execution_count": 2,
   "id": "b2ab0dfe-4aba-49ce-af6e-90d01dcb5aa7",
   "metadata": {},
   "outputs": [
    {
     "name": "stdout",
     "output_type": "stream",
     "text": [
      "(Starter: Vegetarian salad, Main dish: Beef steak, Dessert: Strawberry sorbet)\n",
      "(Starter: Vegetarian salad, Main dish: Beef steak, Dessert: Custart tart)\n",
      "(Starter: Vegetarian salad, Main dish: German sausages, Dessert: Strawberry sorbet)\n",
      "(Starter: Vegetarian salad, Main dish: German sausages, Dessert: Custart tart)\n",
      "(Starter: Vegetarian salad, Main dish: Roasted duck, Dessert: Strawberry sorbet)\n",
      "(Starter: Vegetarian salad, Main dish: Roasted duck, Dessert: Custart tart)\n",
      "(Starter: Vegetarian salad, Main dish: Grilled sea bass, Dessert: Strawberry sorbet)\n",
      "(Starter: Vegetarian salad, Main dish: Grilled sea bass, Dessert: Custart tart)\n",
      "(Starter: Mushroom soup, Main dish: Beef steak, Dessert: Strawberry sorbet)\n",
      "(Starter: Mushroom soup, Main dish: Beef steak, Dessert: Custart tart)\n",
      "(Starter: Mushroom soup, Main dish: German sausages, Dessert: Strawberry sorbet)\n",
      "(Starter: Mushroom soup, Main dish: German sausages, Dessert: Custart tart)\n",
      "(Starter: Mushroom soup, Main dish: Roasted duck, Dessert: Strawberry sorbet)\n",
      "(Starter: Mushroom soup, Main dish: Roasted duck, Dessert: Custart tart)\n",
      "(Starter: Mushroom soup, Main dish: Grilled sea bass, Dessert: Strawberry sorbet)\n",
      "(Starter: Mushroom soup, Main dish: Grilled sea bass, Dessert: Custart tart)\n",
      "(Starter: Grilled scallop, Main dish: Beef steak, Dessert: Strawberry sorbet)\n",
      "(Starter: Grilled scallop, Main dish: Beef steak, Dessert: Custart tart)\n",
      "(Starter: Grilled scallop, Main dish: German sausages, Dessert: Strawberry sorbet)\n",
      "(Starter: Grilled scallop, Main dish: German sausages, Dessert: Custart tart)\n",
      "(Starter: Grilled scallop, Main dish: Roasted duck, Dessert: Strawberry sorbet)\n",
      "(Starter: Grilled scallop, Main dish: Roasted duck, Dessert: Custart tart)\n",
      "(Starter: Grilled scallop, Main dish: Grilled sea bass, Dessert: Strawberry sorbet)\n",
      "(Starter: Grilled scallop, Main dish: Grilled sea bass, Dessert: Custart tart)\n"
     ]
    }
   ],
   "source": [
    "Starters = [\"Vegetarian salad\", \"Mushroom soup\", \"Grilled scallop\"]\n",
    "Mains = [\"Beef steak\", \"German sausages\", \"Roasted duck\", \"Grilled sea bass\"]\n",
    "Desserts = [\"Strawberry sorbet\", \"Custart tart\"]\n",
    "\n",
    "for starter in Starters:\n",
    "    for main in Mains:\n",
    "        for dessert in Desserts:\n",
    "            print(f\"(Starter: {starter}, Main dish: {main}, Dessert: {dessert})\")"
   ]
  },
  {
   "cell_type": "markdown",
   "id": "cb14910c-ae12-4f11-9c18-9a154e9ee592",
   "metadata": {},
   "source": [
    "## Problem 2\n",
    "\n",
    "Use `while` loop to find the smallest positive integer $x$ in which $\\dfrac{x^{2} + x\\sin(x)}{2 + x} \\geq 100$.\n",
    "\n",
    "(Note: Use `np.sin(x)` for $sin(x)$)"
   ]
  },
  {
   "cell_type": "code",
   "execution_count": 3,
   "id": "75d530a6-1d3d-4ef1-968b-1d91a6c123f9",
   "metadata": {},
   "outputs": [
    {
     "name": "stdout",
     "output_type": "stream",
     "text": [
      "x = 102, (x^2 + x sin(x))/(2+x) = 101.01415704537074\n"
     ]
    }
   ],
   "source": [
    "x = 0\n",
    "\n",
    "while (x**2 + x*np.sin(x))/(2+x) < 100:\n",
    "    x += 1\n",
    "    \n",
    "print(f\"x = {x}, (x^2 + x sin(x))/(2+x) = {(x**2 + x*np.sin(x))/(2+x)}\")"
   ]
  },
  {
   "cell_type": "markdown",
   "id": "38d832ad-d4d5-4338-b938-4720eb92c352",
   "metadata": {},
   "source": [
    "## Problem 3\n",
    "\n",
    "Suppose that $A = [a_{ij}]$ is an $m \\times n$ matrix and $B = [b_{ij}]$ is an $n \\times r$ matrix.\n",
    "The product $AB = [c_{ij}]$ is an $m \\times r$ matrix whose entry $c_{ij}$ is defined by\n",
    "$$\n",
    "c_{ij} = a_{i1}b_{1j} + a_{i2}b_{2j} + \\dots + a_{in}b_{nj}.\n",
    "$$\n",
    "\n",
    "Write, using `for` loops, computing all entries of $AB$.\n",
    "\n",
    "(Note: Check the correctness with `A @ B`.)"
   ]
  },
  {
   "cell_type": "code",
   "execution_count": 4,
   "id": "901613e1-dfd4-4643-88f8-1970284a6929",
   "metadata": {},
   "outputs": [],
   "source": [
    "A = np.array([\n",
    "    [1, 0, 0, -1, 3, 5],\n",
    "    [2, 1, 5, 2, 0, -2],\n",
    "    [3, 5, 0, 4, -3, 1]])\n",
    "\n",
    "B = np.array([\n",
    "    [1, 11],\n",
    "    [2, -2],\n",
    "    [5, 0],\n",
    "    [0, -1],\n",
    "    [1, 0],\n",
    "    [0, 6]])"
   ]
  },
  {
   "cell_type": "markdown",
   "id": "c898f1fe-a2e8-4137-8016-490c90bebe2c",
   "metadata": {},
   "source": [
    "#### Method 1"
   ]
  },
  {
   "cell_type": "code",
   "execution_count": 5,
   "id": "3f06cc03-46d8-4568-843d-ca8e3acd24a0",
   "metadata": {},
   "outputs": [
    {
     "name": "stdout",
     "output_type": "stream",
     "text": [
      "AB =\n",
      "[[ 4. 42.]\n",
      " [29.  6.]\n",
      " [10. 25.]]\n"
     ]
    }
   ],
   "source": [
    "assert A.shape[1] == B.shape[0]  # Check if AB can be defined.\n",
    "m = A.shape[1]\n",
    "C_rows, C_cols = (A.shape[0], B.shape[1])\n",
    "C = np.zeros((C_rows, C_cols))\n",
    "\n",
    "for i in range(C_rows):\n",
    "    for j in range(C_cols):\n",
    "        for k in range(m):\n",
    "            C[i,j] += A[i,k]*B[k,j]\n",
    "            \n",
    "print(f\"AB =\\n{C}\")"
   ]
  },
  {
   "cell_type": "markdown",
   "id": "2d276f87-eb9c-4b8a-8a76-40129934e67d",
   "metadata": {},
   "source": [
    "#### Method 2"
   ]
  },
  {
   "cell_type": "code",
   "execution_count": 6,
   "id": "3a3108e4-9624-4051-ac28-39a975127604",
   "metadata": {},
   "outputs": [
    {
     "name": "stdout",
     "output_type": "stream",
     "text": [
      "AB =\n",
      "[[ 4. 42.]\n",
      " [29.  6.]\n",
      " [10. 25.]]\n"
     ]
    }
   ],
   "source": [
    "assert A.shape[1] == B.shape[0]  # Check if AB can be defined.\n",
    "m = A.shape[1]\n",
    "C_rows, C_cols = (A.shape[0], B.shape[1])\n",
    "C = np.zeros((C_rows, C_cols))\n",
    "\n",
    "for i in range(C_rows):\n",
    "    for j in range(C_cols):\n",
    "        C[i,j] = np.dot(A[i,:], B[:,j])\n",
    "            \n",
    "print(f\"AB =\\n{C}\")"
   ]
  }
 ],
 "metadata": {
  "kernelspec": {
   "display_name": "Python 3 (ipykernel)",
   "language": "python",
   "name": "python3"
  },
  "language_info": {
   "codemirror_mode": {
    "name": "ipython",
    "version": 3
   },
   "file_extension": ".py",
   "mimetype": "text/x-python",
   "name": "python",
   "nbconvert_exporter": "python",
   "pygments_lexer": "ipython3",
   "version": "3.13.7"
  }
 },
 "nbformat": 4,
 "nbformat_minor": 5
}
