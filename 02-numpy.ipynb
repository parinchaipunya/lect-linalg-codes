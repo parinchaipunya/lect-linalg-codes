{
 "cells": [
  {
   "cell_type": "markdown",
   "id": "8f17d67d-ab69-40d9-9bfc-150d9253c4f5",
   "metadata": {},
   "source": [
    "# The `numpy` package"
   ]
  },
  {
   "cell_type": "markdown",
   "id": "d55e2673-55ed-439e-9866-b17ba752f4bd",
   "metadata": {},
   "source": [
    "## What is the `numpy` package ?\n",
    "\n",
    "`numpy` is a python package designed for numerical computations.\n",
    "It provdes the main object called `ndarray`, which stands for $n$-dimensional arrays.\n",
    "This `ndarray`s play the role of matrices in linear algebra."
   ]
  },
  {
   "cell_type": "markdown",
   "id": "a018dd9d-96fc-48cd-b87b-67082a7894cd",
   "metadata": {},
   "source": [
    "### Importing the package\n",
    "To use `numpy`, we must import it into the kernel.\n",
    "It is common to give it a nicknake `np`."
   ]
  },
  {
   "cell_type": "code",
   "execution_count": 1,
   "id": "d0dd98b2-6a54-4191-baef-ef5f2d686fb3",
   "metadata": {},
   "outputs": [],
   "source": [
    "# Import numpy into the current kernel and nickname it as np.\n",
    "import numpy as np"
   ]
  },
  {
   "cell_type": "markdown",
   "id": "317a275b-4dbf-479a-af0c-b097f4183491",
   "metadata": {},
   "source": [
    "### Creating an array\n",
    "\n",
    "In `python`, if you want to use a function `func` from a package `pack`, we call it by `pack.func`.\n",
    "Similarly, to call the function `array` from `numpy` (now nicknamed `np`), we call it with `np.array`.\n",
    "This function `np.array` changes a `list` with appropriate structure into an `ndarray`."
   ]
  },
  {
   "cell_type": "code",
   "execution_count": 2,
   "id": "82bfa5ff-47a7-43cb-a1fd-4efc38945129",
   "metadata": {},
   "outputs": [
    {
     "name": "stdout",
     "output_type": "stream",
     "text": [
      "[1, 2, 3, 4]\n",
      "<class 'list'>\n"
     ]
    }
   ],
   "source": [
    "l = [1, 2, 3, 4]\n",
    "print(l)\n",
    "print(type(l))"
   ]
  },
  {
   "cell_type": "code",
   "execution_count": 3,
   "id": "2cde992a-cfe4-47f6-8a80-5c5f2da3bddb",
   "metadata": {},
   "outputs": [
    {
     "name": "stdout",
     "output_type": "stream",
     "text": [
      "[1 2 3 4]\n",
      "<class 'numpy.ndarray'>\n"
     ]
    }
   ],
   "source": [
    "a = np.array(l)\n",
    "print(a)\n",
    "print(type(a))"
   ]
  },
  {
   "cell_type": "code",
   "execution_count": 4,
   "id": "c01acb95-59d9-43ab-b0b1-5e712d5ec00f",
   "metadata": {},
   "outputs": [
    {
     "name": "stdout",
     "output_type": "stream",
     "text": [
      "[[1 2 3 4]\n",
      " [5 6 7 8]]\n",
      "<class 'numpy.ndarray'>\n"
     ]
    }
   ],
   "source": [
    "A = np.array([[1, 2, 3, 4], [5, 6, 7, 8]])\n",
    "print(A)\n",
    "print(type(A))"
   ]
  },
  {
   "cell_type": "markdown",
   "id": "76e8e793-e2ea-4785-8151-b04e99307498",
   "metadata": {},
   "source": [
    "### Array shape\n",
    "\n",
    "The shape of a `ndarray` is a tuple in which each element is the length of the corresponding dimension.\n",
    "To check the shape of an array `a`, we can use either `np.shape(a)` or an array's method `a.shape`."
   ]
  },
  {
   "cell_type": "markdown",
   "id": "5a3928cf-399d-498e-a3f1-ec643527fe3e",
   "metadata": {},
   "source": [
    "In the next blocks, we check the dimension of the arrays `a` and `A`.\n",
    "\n",
    "The first `np.shape(a)` should return `(4,)`, which means that `a` is a one-dimensional array (only one number output) and there are 4 items in this dimension.\n",
    "\n",
    "The second `np.shape(A)` should return `(2,4)`.\n",
    "This means that `A` is a two-dimensional array (two numbers are returned), where there are 2 rows and 4 columns."
   ]
  },
  {
   "cell_type": "code",
   "execution_count": 5,
   "id": "4217986e-4271-4b5e-a588-f18d30ce6746",
   "metadata": {},
   "outputs": [
    {
     "data": {
      "text/plain": [
       "(4,)"
      ]
     },
     "execution_count": 5,
     "metadata": {},
     "output_type": "execute_result"
    }
   ],
   "source": [
    "np.shape(a)"
   ]
  },
  {
   "cell_type": "code",
   "execution_count": 6,
   "id": "6a923bae-29ee-48a4-b876-a92a88b124d4",
   "metadata": {},
   "outputs": [
    {
     "data": {
      "text/plain": [
       "(2, 4)"
      ]
     },
     "execution_count": 6,
     "metadata": {},
     "output_type": "execute_result"
    }
   ],
   "source": [
    "A.shape"
   ]
  },
  {
   "cell_type": "markdown",
   "id": "2a46759c-55e6-4682-b080-3dae0809c7ac",
   "metadata": {},
   "source": [
    "One may also create a higher-dimensional array, but this would be out of our scopes."
   ]
  },
  {
   "cell_type": "markdown",
   "id": "e4314d17-c7f8-476e-bc50-719f90d6e1a8",
   "metadata": {},
   "source": [
    "#### A caution with the shapes `(n,)`, `(1,n)` and `(n,1)`\n",
    "\n",
    "In mathematics, we do not distinguish between vectors in $\\mathbb{R}^{n}$ and a matrices in $\\mathbb{R}^{n \\times 1}$.\n",
    "However, in `python`'s context, an array of shapes `(n,)`, `(1,n)` and `(n,1)` are considered different due to the memory usage.\n",
    "\n",
    "In particular, a `(n,)` array is the cheapest in terms of memory.\n",
    "A `(1,n)` array is considered as a matrix of 1 row and n columns, and a `(n,1)` array is considered as a matrix of n rows and 1 column.\n",
    "\n",
    "The differences of these arrays will become clearer when we later do computation with them."
   ]
  },
  {
   "cell_type": "code",
   "execution_count": 7,
   "id": "1ec63e8e-53ae-4564-81cb-d53ae86ecd4e",
   "metadata": {},
   "outputs": [],
   "source": [
    "a = np.array([1, 2, 3, 4])\n",
    "a_row = np.array([[1, 2, 3, 4]])\n",
    "a_col = np.array([[1], [2], [3], [4]])"
   ]
  },
  {
   "cell_type": "code",
   "execution_count": 8,
   "id": "011fc193-e33f-4f0f-96f1-e49dba7e57a1",
   "metadata": {},
   "outputs": [
    {
     "name": "stdout",
     "output_type": "stream",
     "text": [
      "[1 2 3 4]\n"
     ]
    },
    {
     "data": {
      "text/plain": [
       "(4,)"
      ]
     },
     "execution_count": 8,
     "metadata": {},
     "output_type": "execute_result"
    }
   ],
   "source": [
    "print(a)\n",
    "np.shape(a)"
   ]
  },
  {
   "cell_type": "code",
   "execution_count": 9,
   "id": "7e0c60e4-86f0-4e32-a282-14b641e9989c",
   "metadata": {},
   "outputs": [
    {
     "name": "stdout",
     "output_type": "stream",
     "text": [
      "[[1 2 3 4]]\n"
     ]
    },
    {
     "data": {
      "text/plain": [
       "(1, 4)"
      ]
     },
     "execution_count": 9,
     "metadata": {},
     "output_type": "execute_result"
    }
   ],
   "source": [
    "print(a_row)\n",
    "np.shape(a_row)"
   ]
  },
  {
   "cell_type": "code",
   "execution_count": 10,
   "id": "ff559438-d216-4b55-8527-281de5d914d1",
   "metadata": {},
   "outputs": [
    {
     "name": "stdout",
     "output_type": "stream",
     "text": [
      "[[1]\n",
      " [2]\n",
      " [3]\n",
      " [4]]\n"
     ]
    },
    {
     "data": {
      "text/plain": [
       "(4, 1)"
      ]
     },
     "execution_count": 10,
     "metadata": {},
     "output_type": "execute_result"
    }
   ],
   "source": [
    "print(a_col)\n",
    "np.shape(a_col)"
   ]
  },
  {
   "cell_type": "markdown",
   "id": "5fab93a9-b1b0-47cb-806d-d4645d3aec14",
   "metadata": {},
   "source": [
    "## Accessing entries\n",
    "\n",
    "We access entries of a `ndarray` in a similar way we would do with a `list`.\n"
   ]
  },
  {
   "cell_type": "code",
   "execution_count": 11,
   "id": "4df4213e-1b34-41ab-96e9-03d1eafb9431",
   "metadata": {},
   "outputs": [
    {
     "name": "stdout",
     "output_type": "stream",
     "text": [
      "[[ 1  2  3  4]\n",
      " [ 5  6  7  8]\n",
      " [ 9 10 11 12]]\n"
     ]
    }
   ],
   "source": [
    "A = np.array([[1, 2, 3, 4], [5, 6, 7, 8], [9, 10, 11, 12]])\n",
    "print(A)"
   ]
  },
  {
   "cell_type": "code",
   "execution_count": 12,
   "id": "bfdcec2a-2cab-47df-aff1-5dcdf58ff97e",
   "metadata": {},
   "outputs": [
    {
     "data": {
      "text/plain": [
       "array([5, 6, 7, 8])"
      ]
     },
     "execution_count": 12,
     "metadata": {},
     "output_type": "execute_result"
    }
   ],
   "source": [
    "A[1]"
   ]
  },
  {
   "cell_type": "markdown",
   "id": "3cea8296-dfc8-4502-b41e-409cff2193ae",
   "metadata": {},
   "source": [
    "We can use all the slicing methods we learned with a `list` with a `ndarray`."
   ]
  },
  {
   "cell_type": "code",
   "execution_count": 13,
   "id": "0057938f-db8a-4bed-a975-8c648ffad6fb",
   "metadata": {},
   "outputs": [
    {
     "data": {
      "text/plain": [
       "array([[1, 2, 3, 4],\n",
       "       [5, 6, 7, 8]])"
      ]
     },
     "execution_count": 13,
     "metadata": {},
     "output_type": "execute_result"
    }
   ],
   "source": [
    "A[0:2]  # This calls A[0] and A[1]."
   ]
  },
  {
   "cell_type": "markdown",
   "id": "59ed5656-986f-4fe8-826a-624ac2924a73",
   "metadata": {},
   "source": [
    "We access entries of a higher-dimensional array using a tuple of indices.\n",
    "Slicing in each dimension is also possible."
   ]
  },
  {
   "cell_type": "code",
   "execution_count": 14,
   "id": "2284d91c-f596-404f-a53d-3def04a2440e",
   "metadata": {},
   "outputs": [
    {
     "data": {
      "text/plain": [
       "np.int64(4)"
      ]
     },
     "execution_count": 14,
     "metadata": {},
     "output_type": "execute_result"
    }
   ],
   "source": [
    "A[0, 3]"
   ]
  },
  {
   "cell_type": "code",
   "execution_count": 15,
   "id": "9f93b733-69cb-48f6-8890-8143b14fdcad",
   "metadata": {},
   "outputs": [
    {
     "data": {
      "text/plain": [
       "array([[ 5,  6],\n",
       "       [ 9, 10]])"
      ]
     },
     "execution_count": 15,
     "metadata": {},
     "output_type": "execute_result"
    }
   ],
   "source": [
    "# Take rows 2--3 and columns 1--2.\n",
    "A[1:3, :2]"
   ]
  },
  {
   "cell_type": "code",
   "execution_count": 16,
   "id": "7022c335-8bef-4f93-9cc2-37a3933fbafb",
   "metadata": {},
   "outputs": [
    {
     "data": {
      "text/plain": [
       "array([[ 2,  3],\n",
       "       [ 6,  7],\n",
       "       [10, 11]])"
      ]
     },
     "execution_count": 16,
     "metadata": {},
     "output_type": "execute_result"
    }
   ],
   "source": [
    "# Take all rows of columns 2--3.\n",
    "A[:, 1:3]"
   ]
  },
  {
   "cell_type": "markdown",
   "id": "8890d13a-75ba-4038-8db8-4c213cbc5fc5",
   "metadata": {},
   "source": [
    "One selective method that works with a `ndarray` but not a `list` is to explicitly pick the items along a list of indices."
   ]
  },
  {
   "cell_type": "code",
   "execution_count": 17,
   "id": "aaa247d3-438f-4ca6-9e63-ebe42fa95027",
   "metadata": {},
   "outputs": [
    {
     "data": {
      "text/plain": [
       "array([[ 1,  2,  3,  4],\n",
       "       [ 9, 10, 11, 12]])"
      ]
     },
     "execution_count": 17,
     "metadata": {},
     "output_type": "execute_result"
    }
   ],
   "source": [
    "# Take every columns of rows 1 and 3.\n",
    "A[[0, 2], :]"
   ]
  },
  {
   "cell_type": "markdown",
   "id": "521b8e42-660a-4043-a943-fddea398633b",
   "metadata": {},
   "source": [
    "### Transposition\n",
    "\n",
    "We may use the method `T` of an array `A` to transpose itself, that is `A.T`.\n",
    "\n",
    "If one prefers a clearer procedure, `np.transpose` can also be used."
   ]
  },
  {
   "cell_type": "code",
   "execution_count": 18,
   "id": "0a912098-306b-406c-86b8-2c6bebc59b24",
   "metadata": {},
   "outputs": [
    {
     "name": "stdout",
     "output_type": "stream",
     "text": [
      "A =\n",
      "[[1 2 3]\n",
      " [4 5 6]]\n",
      "A_t =\n",
      "[[1 4]\n",
      " [2 5]\n",
      " [3 6]]\n"
     ]
    }
   ],
   "source": [
    "A = np.array([[1, 2, 3], [4, 5, 6]])\n",
    "A_t = A.T\n",
    "print(f\"A =\\n{A}\")\n",
    "print(f\"A_t =\\n{A_t}\")"
   ]
  },
  {
   "cell_type": "code",
   "execution_count": 19,
   "id": "3dcaddad-1bce-4f7f-8387-66a643ccf38e",
   "metadata": {},
   "outputs": [
    {
     "name": "stdout",
     "output_type": "stream",
     "text": [
      "B =\n",
      "[[1 1]\n",
      " [2 2]\n",
      " [3 3]]\n",
      "B_t =\n",
      "[[1 2 3]\n",
      " [1 2 3]]\n"
     ]
    }
   ],
   "source": [
    "B = np.array([[1, 1], [2, 2], [3, 3]])\n",
    "B_t = np.transpose(B)\n",
    "print(f\"B =\\n{B}\")\n",
    "print(f\"B_t =\\n{B_t}\")"
   ]
  },
  {
   "cell_type": "markdown",
   "id": "9b9a2d28-409e-4bc5-baf7-00172bdc1351",
   "metadata": {},
   "source": [
    "## Addition and subtraction of arrays\n",
    "\n",
    "Unlike a `list`, the objects of type `ndarray` allow us to do the real computation.\n",
    "The operators `+` and `-` are used for adding and subtracting two arrays."
   ]
  },
  {
   "cell_type": "markdown",
   "id": "7419ffb9-2342-499b-ab08-f3556ffe4509",
   "metadata": {},
   "source": [
    "### Arrays with the same shapes\n",
    "\n",
    "As one have always do in mathematics, addition and subtraction requires both matrices to have the same dimension."
   ]
  },
  {
   "cell_type": "code",
   "execution_count": 20,
   "id": "c56f7a7d-a011-4924-b7d1-6baf5db0dfa5",
   "metadata": {},
   "outputs": [],
   "source": [
    "A = np.array([[1, 2, 1], [3, 1, 4]])\n",
    "B = np.array([[0, 1, 2], [-1, 3, 1]])"
   ]
  },
  {
   "cell_type": "code",
   "execution_count": 21,
   "id": "0b57f063-91c4-4dc2-b385-527b8385bbaf",
   "metadata": {},
   "outputs": [
    {
     "data": {
      "text/plain": [
       "array([[1, 3, 3],\n",
       "       [2, 4, 5]])"
      ]
     },
     "execution_count": 21,
     "metadata": {},
     "output_type": "execute_result"
    }
   ],
   "source": [
    "A + B"
   ]
  },
  {
   "cell_type": "code",
   "execution_count": 22,
   "id": "f04272b1-14a6-4ca4-8db1-60f1a930b7a1",
   "metadata": {},
   "outputs": [
    {
     "data": {
      "text/plain": [
       "array([[ 1,  1, -1],\n",
       "       [ 4, -2,  3]])"
      ]
     },
     "execution_count": 22,
     "metadata": {},
     "output_type": "execute_result"
    }
   ],
   "source": [
    "A - B"
   ]
  },
  {
   "cell_type": "markdown",
   "id": "bba8d94c-19d2-4a52-8158-0a0d4a6f9fec",
   "metadata": {},
   "source": [
    "### Broadcasting of arrays with different shapes\n",
    "\n",
    "**Broadcasting** is a coding mechanism that allows operations to be performed on arrays with different shapes.\n",
    "The broadcasting is usually *not mathematically correct*, but it is a programming trick designed to simplify the code and is actually a key to achieve a clean and fast code."
   ]
  },
  {
   "cell_type": "markdown",
   "id": "846f289c-8155-477e-bd32-fa7aa389fdc7",
   "metadata": {},
   "source": [
    "#### Requirements\n",
    "\n",
    "To add or subtract two arrays of different shapes, `a + A` or `a - A`, the two arrays must satisfy one of the following cases:\n",
    "- The shapes of `a` is `(m,)` and of `A` is `(n,m)`: `a+A` adds `a` to every rows of `A`.\n",
    "- The shapes of `a` is `(1,m)` and of `A` is `(n,m)`: `a+A` adds `a` to every rows of `A`.\n",
    "- The shapes of `a` is `(n,1)` and of `A` is `(n,m)`: `a+A` adds `a` to every columns of `A`."
   ]
  },
  {
   "cell_type": "code",
   "execution_count": 23,
   "id": "0d30ca9e-217a-4696-bb87-619a4994140f",
   "metadata": {},
   "outputs": [],
   "source": [
    "A = np.array([[1, 2, 1], [3, 1, 4]])\n",
    "a = np.array([2, 1, 1])\n",
    "a_row = np.array([[2, 1, 1]])\n",
    "a_col = np.array([[3], [1]])"
   ]
  },
  {
   "cell_type": "code",
   "execution_count": 24,
   "id": "81d14af3-f692-4477-9d35-9f2c343fec25",
   "metadata": {},
   "outputs": [
    {
     "data": {
      "text/plain": [
       "array([[3, 3, 2],\n",
       "       [5, 2, 5]])"
      ]
     },
     "execution_count": 24,
     "metadata": {},
     "output_type": "execute_result"
    }
   ],
   "source": [
    "a + A"
   ]
  },
  {
   "cell_type": "code",
   "execution_count": 25,
   "id": "07764075-3697-479b-9c8d-fc1143c5e796",
   "metadata": {},
   "outputs": [
    {
     "data": {
      "text/plain": [
       "array([[3, 3, 2],\n",
       "       [5, 2, 5]])"
      ]
     },
     "execution_count": 25,
     "metadata": {},
     "output_type": "execute_result"
    }
   ],
   "source": [
    "a_row + A"
   ]
  },
  {
   "cell_type": "code",
   "execution_count": 26,
   "id": "05de3e82-7ace-48c3-99fb-ff34b599cab6",
   "metadata": {},
   "outputs": [
    {
     "data": {
      "text/plain": [
       "array([[4, 5, 4],\n",
       "       [4, 2, 5]])"
      ]
     },
     "execution_count": 26,
     "metadata": {},
     "output_type": "execute_result"
    }
   ],
   "source": [
    "a_col + A"
   ]
  },
  {
   "cell_type": "markdown",
   "id": "87910a3d-1baa-4117-b41b-efe08b057280",
   "metadata": {},
   "source": [
    "## Componentwise multiplication"
   ]
  },
  {
   "cell_type": "markdown",
   "id": "749a220e-1a83-4cef-9e26-d8787f32d4db",
   "metadata": {},
   "source": [
    "The operator `*` is used when one wants to multiply a scalar (a number) to a `ndarray`.\n",
    "Note that this is not matrix multiplication."
   ]
  },
  {
   "cell_type": "code",
   "execution_count": 27,
   "id": "32eb307f-c740-42d0-aca8-f77faf76c521",
   "metadata": {},
   "outputs": [],
   "source": [
    "c = 3\n",
    "A = np.array([[1, 0, -2], [1, 4, 3]])"
   ]
  },
  {
   "cell_type": "code",
   "execution_count": 28,
   "id": "3f8ec668-c33e-4370-8af4-9a360b4b6e95",
   "metadata": {},
   "outputs": [
    {
     "data": {
      "text/plain": [
       "array([[ 3,  0, -6],\n",
       "       [ 3, 12,  9]])"
      ]
     },
     "execution_count": 28,
     "metadata": {},
     "output_type": "execute_result"
    }
   ],
   "source": [
    "c * A"
   ]
  },
  {
   "cell_type": "markdown",
   "id": "aa8ed8da-e26d-49d1-b317-56f75a8d609b",
   "metadata": {},
   "source": [
    "### Broadcasting with `*`\n",
    "\n",
    "The operator `*` could also be used on arrays of different shapes in the same way with `+` and `-`.\n",
    "Let us demonstrate below."
   ]
  },
  {
   "cell_type": "code",
   "execution_count": 29,
   "id": "78eb475b-6814-4b20-960e-a99c8f95d390",
   "metadata": {},
   "outputs": [
    {
     "data": {
      "text/plain": [
       "array([[ 2,  0, -2],\n",
       "       [ 2,  4,  3]])"
      ]
     },
     "execution_count": 29,
     "metadata": {},
     "output_type": "execute_result"
    }
   ],
   "source": [
    "a * A"
   ]
  },
  {
   "cell_type": "code",
   "execution_count": 30,
   "id": "41a4b383-e4a9-402e-b63b-9e08b41dc236",
   "metadata": {},
   "outputs": [
    {
     "data": {
      "text/plain": [
       "array([[ 2,  0, -2],\n",
       "       [ 2,  4,  3]])"
      ]
     },
     "execution_count": 30,
     "metadata": {},
     "output_type": "execute_result"
    }
   ],
   "source": [
    "a_row * A"
   ]
  },
  {
   "cell_type": "code",
   "execution_count": 31,
   "id": "7f91dbe9-249a-402e-97f0-0a65a6ffed2c",
   "metadata": {},
   "outputs": [
    {
     "data": {
      "text/plain": [
       "array([[ 3,  0, -6],\n",
       "       [ 1,  4,  3]])"
      ]
     },
     "execution_count": 31,
     "metadata": {},
     "output_type": "execute_result"
    }
   ],
   "source": [
    "a_col * A"
   ]
  },
  {
   "cell_type": "markdown",
   "id": "2c30a592-5da5-4e92-92a0-7a1cb4c67305",
   "metadata": {},
   "source": [
    "## Matrix multiplication"
   ]
  },
  {
   "cell_type": "markdown",
   "id": "7f5ab9bc-21a9-4da4-a493-9ce36829e401",
   "metadata": {},
   "source": [
    "Here, we are talking about the conventional matrix multiplication.\n",
    "The operator to use is `@`."
   ]
  },
  {
   "cell_type": "code",
   "execution_count": 32,
   "id": "3cbbe861-08fc-4627-af1a-20d9d6ee54da",
   "metadata": {},
   "outputs": [],
   "source": [
    "A = np.array([[2, 2, 3, 0], [1, 0, 1, 2]])\n",
    "B = np.array([[1, 1], [2, 2], [3, 0], [-2, 1]])"
   ]
  },
  {
   "cell_type": "code",
   "execution_count": 33,
   "id": "a5a463ee-a57d-4d2e-8e45-dc1242597be2",
   "metadata": {},
   "outputs": [
    {
     "data": {
      "text/plain": [
       "array([[15,  6],\n",
       "       [ 0,  3]])"
      ]
     },
     "execution_count": 33,
     "metadata": {},
     "output_type": "execute_result"
    }
   ],
   "source": [
    "A @ B"
   ]
  },
  {
   "cell_type": "markdown",
   "id": "dd632f25-470a-49f8-9768-b965f7cd31ec",
   "metadata": {},
   "source": [
    "There are also functions like `np.matmul` and `np.dot` that also do the job of matrix multiplication.\n",
    "Nevertheless, it is not recommended to use `np.dot` to do matrix multiplication.\n",
    "On the other hand, `np.matmul` implements the semantic of `@` and also does complicate broadcasting.\n",
    "These aspects are, however, outside of the scopes of this introductory course."
   ]
  },
  {
   "cell_type": "markdown",
   "id": "2173b1d8-5228-4b0e-bd58-2e36f75d05b3",
   "metadata": {},
   "source": [
    "----"
   ]
  }
 ],
 "metadata": {
  "kernelspec": {
   "display_name": "Python 3 (ipykernel)",
   "language": "python",
   "name": "python3"
  },
  "language_info": {
   "codemirror_mode": {
    "name": "ipython",
    "version": 3
   },
   "file_extension": ".py",
   "mimetype": "text/x-python",
   "name": "python",
   "nbconvert_exporter": "python",
   "pygments_lexer": "ipython3",
   "version": "3.13.7"
  }
 },
 "nbformat": 4,
 "nbformat_minor": 5
}
