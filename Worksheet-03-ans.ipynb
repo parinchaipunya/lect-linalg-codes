{
 "cells": [
  {
   "cell_type": "markdown",
   "id": "38c1db46-7483-4e0b-b447-2cfd3c5134c8",
   "metadata": {},
   "source": [
    "# MTH202 Worksheet 3"
   ]
  },
  {
   "cell_type": "markdown",
   "id": "3299c997-6136-4b89-bc45-3fc7fc2361d0",
   "metadata": {},
   "source": [
    "## Problem 1\n",
    "\n",
    "Find a REF of the matrix\n",
    "$$\n",
    "A = \n",
    "\\left[\n",
    "\\begin{array}{rrrr}\n",
    "-2 & 3 & 1 & 4 \\\\\n",
    "0 & 1 & -2 & -1 \\\\\n",
    "0 & 0 & 1 & 0 \\\\\n",
    "2 & 1 & 2 & -2 \\\\\n",
    "-2 & 2 & 0 & -3\n",
    "\\end{array}\n",
    "\\right]\n",
    "$$"
   ]
  },
  {
   "cell_type": "code",
   "execution_count": 1,
   "id": "8ac8b83e-007a-4a8e-950f-47e95a24d316",
   "metadata": {},
   "outputs": [],
   "source": [
    "import numpy as np"
   ]
  },
  {
   "cell_type": "code",
   "execution_count": 2,
   "id": "fbc20cfb-b82e-4739-9628-aaeac29ad3a7",
   "metadata": {},
   "outputs": [],
   "source": [
    "A = np.array([[-2, 3, 1, 4],\n",
    "              [0, 1, -2, -1],\n",
    "              [0, 0, 1, 0],\n",
    "              [2, 1, 2, -2],\n",
    "              [-2, 2, 0, -3]])"
   ]
  },
  {
   "cell_type": "code",
   "execution_count": 3,
   "id": "4c002eb9-4699-4272-8ca0-cafe8e6a3802",
   "metadata": {},
   "outputs": [
    {
     "data": {
      "text/plain": [
       "array([[-2,  3,  1,  4],\n",
       "       [ 0,  1, -2, -1],\n",
       "       [ 0,  0,  1,  0],\n",
       "       [ 0,  4,  3,  2],\n",
       "       [ 0, -1, -1, -7]])"
      ]
     },
     "execution_count": 3,
     "metadata": {},
     "output_type": "execute_result"
    }
   ],
   "source": [
    "A[3,:] += A[0,:]\n",
    "A[4,:] -= A[0,:]\n",
    "A"
   ]
  },
  {
   "cell_type": "code",
   "execution_count": 4,
   "id": "08ddfad9-fa28-45a2-a589-225186e6c844",
   "metadata": {},
   "outputs": [
    {
     "data": {
      "text/plain": [
       "array([[-2,  3,  1,  4],\n",
       "       [ 0,  1, -2, -1],\n",
       "       [ 0,  0,  1,  0],\n",
       "       [ 0,  0, 11,  6],\n",
       "       [ 0,  0, -3, -8]])"
      ]
     },
     "execution_count": 4,
     "metadata": {},
     "output_type": "execute_result"
    }
   ],
   "source": [
    "A[3,:] -= 4*A[1,:]\n",
    "A[4,:] += A[1,:]\n",
    "A"
   ]
  },
  {
   "cell_type": "code",
   "execution_count": 5,
   "id": "d76f26b5-113c-4dfd-ac43-87af770d4669",
   "metadata": {},
   "outputs": [
    {
     "data": {
      "text/plain": [
       "array([[-2,  3,  1,  4],\n",
       "       [ 0,  1, -2, -1],\n",
       "       [ 0,  0,  1,  0],\n",
       "       [ 0,  0,  0,  6],\n",
       "       [ 0,  0,  0, -8]])"
      ]
     },
     "execution_count": 5,
     "metadata": {},
     "output_type": "execute_result"
    }
   ],
   "source": [
    "A[3,:] -= 11*A[2,:]\n",
    "A[4,:] += 3*A[2,:]\n",
    "A"
   ]
  },
  {
   "cell_type": "code",
   "execution_count": 6,
   "id": "7ff87c68-2c5f-4959-9d93-ca3635d52501",
   "metadata": {},
   "outputs": [
    {
     "data": {
      "text/plain": [
       "array([[-2,  3,  1,  4],\n",
       "       [ 0,  1, -2, -1],\n",
       "       [ 0,  0,  1,  0],\n",
       "       [ 0,  0,  0,  6],\n",
       "       [ 0,  0,  0,  0]])"
      ]
     },
     "execution_count": 6,
     "metadata": {},
     "output_type": "execute_result"
    }
   ],
   "source": [
    "A[4,:] = A[4,:] + (8/6)*A[3,:]  # This full code fixes the datatype conflict.\n",
    "A   # <-- REF"
   ]
  },
  {
   "cell_type": "markdown",
   "id": "6849ca3e-56f0-41d1-9a31-9216be8fc3f9",
   "metadata": {},
   "source": [
    "## Problem 2\n",
    "\n",
    "Find the RREF matrix of\n",
    "$$\n",
    "B = \n",
    "\\left[\n",
    "\\begin{array}{rrrr}\n",
    "11 & 2 & 0 & -3 \\\\\n",
    "8 & -6 & 0 & -5 \\\\\n",
    "2 & 0 & 1 & 0\n",
    "\\end{array}\n",
    "\\right]\n",
    "$$"
   ]
  },
  {
   "cell_type": "code",
   "execution_count": 7,
   "id": "16afcb72-463a-4cfb-8b8f-9dfe7bdc6669",
   "metadata": {},
   "outputs": [],
   "source": [
    "B = np.array([[11, 2, 0, -3],\n",
    "              [8, -6, 0, -5],\n",
    "              [2, 0, 1, 0.]])   # Use 0. to force the datatype to be \"float\"."
   ]
  },
  {
   "cell_type": "code",
   "execution_count": 8,
   "id": "60c1eab5-c38d-4f76-a174-b5912a8bb844",
   "metadata": {},
   "outputs": [
    {
     "data": {
      "text/plain": [
       "array([[ 1.        ,  0.18181818,  0.        , -0.27272727],\n",
       "       [ 8.        , -6.        ,  0.        , -5.        ],\n",
       "       [ 2.        ,  0.        ,  1.        ,  0.        ]])"
      ]
     },
     "execution_count": 8,
     "metadata": {},
     "output_type": "execute_result"
    }
   ],
   "source": [
    "B[0,:] /= 11\n",
    "B"
   ]
  },
  {
   "cell_type": "code",
   "execution_count": 9,
   "id": "28c4187b-ce68-4f51-bc66-a42119679a3e",
   "metadata": {},
   "outputs": [
    {
     "data": {
      "text/plain": [
       "array([[ 1.        ,  0.18181818,  0.        , -0.27272727],\n",
       "       [ 0.        , -7.45454545,  0.        , -2.81818182],\n",
       "       [ 0.        , -0.36363636,  1.        ,  0.54545455]])"
      ]
     },
     "execution_count": 9,
     "metadata": {},
     "output_type": "execute_result"
    }
   ],
   "source": [
    "B[1,:] -= 8*B[0,:]\n",
    "B[2,:] -= 2*B[0,:]\n",
    "B"
   ]
  },
  {
   "cell_type": "code",
   "execution_count": 10,
   "id": "3949b5d0-f68d-4c27-8989-190348158ca2",
   "metadata": {},
   "outputs": [
    {
     "data": {
      "text/plain": [
       "array([[ 1.        ,  0.18181818,  0.        , -0.27272727],\n",
       "       [-0.        ,  1.        , -0.        ,  0.37804878],\n",
       "       [ 0.        , -0.36363636,  1.        ,  0.54545455]])"
      ]
     },
     "execution_count": 10,
     "metadata": {},
     "output_type": "execute_result"
    }
   ],
   "source": [
    "B[1,:] /= B[1,1]\n",
    "B"
   ]
  },
  {
   "cell_type": "code",
   "execution_count": 11,
   "id": "4ee7f054-14de-4295-8c86-f922ec34d583",
   "metadata": {},
   "outputs": [
    {
     "data": {
      "text/plain": [
       "array([[ 1.        ,  0.        ,  0.        , -0.34146341],\n",
       "       [-0.        ,  1.        , -0.        ,  0.37804878],\n",
       "       [ 0.        ,  0.        ,  1.        ,  0.68292683]])"
      ]
     },
     "execution_count": 11,
     "metadata": {},
     "output_type": "execute_result"
    }
   ],
   "source": [
    "B[0,:] -= B[0,1]*B[1,:]\n",
    "B[2,:] -= B[2,1]*B[1,:]\n",
    "B  # <-- RREF"
   ]
  }
 ],
 "metadata": {
  "kernelspec": {
   "display_name": "Python 3 (ipykernel)",
   "language": "python",
   "name": "python3"
  },
  "language_info": {
   "codemirror_mode": {
    "name": "ipython",
    "version": 3
   },
   "file_extension": ".py",
   "mimetype": "text/x-python",
   "name": "python",
   "nbconvert_exporter": "python",
   "pygments_lexer": "ipython3",
   "version": "3.13.7"
  }
 },
 "nbformat": 4,
 "nbformat_minor": 5
}
