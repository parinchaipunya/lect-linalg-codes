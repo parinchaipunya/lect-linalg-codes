{
 "cells": [
  {
   "cell_type": "markdown",
   "id": "721051db-082d-4a7b-a955-ee427a61bb76",
   "metadata": {},
   "source": [
    "## Loop Clauses\n",
    "\n",
    "#### DT200 Lab Session\n",
    "\n",
    "Parin Chaipunya (KMUTT)\n",
    "\n",
    "-----"
   ]
  },
  {
   "cell_type": "markdown",
   "id": "c0e17710-5405-4780-b132-64bafd7677b3",
   "metadata": {},
   "source": [
    "**Ex.** Print values of `i` from 0 to 3."
   ]
  },
  {
   "cell_type": "code",
   "execution_count": 1,
   "id": "3176ac4b-6403-444f-b17f-b40027c53b4c",
   "metadata": {},
   "outputs": [
    {
     "name": "stdout",
     "output_type": "stream",
     "text": [
      "i = 0\n",
      "i = 1\n",
      "i = 2\n",
      "i = 3\n"
     ]
    }
   ],
   "source": [
    "for i in range(4):\n",
    "    print(f'i = {i}')"
   ]
  },
  {
   "cell_type": "markdown",
   "id": "2997a272-914f-45f9-9b7f-526a091f89fc",
   "metadata": {},
   "source": [
    "-----\n",
    "**Ex.** Print values of `i` from 4 to 10."
   ]
  },
  {
   "cell_type": "code",
   "execution_count": 2,
   "id": "11169f73-9df1-4de5-8f06-bb3c63d1ed33",
   "metadata": {},
   "outputs": [
    {
     "name": "stdout",
     "output_type": "stream",
     "text": [
      "i equals to 4\n",
      "i equals to 5\n",
      "i equals to 6\n",
      "i equals to 7\n",
      "i equals to 8\n",
      "i equals to 9\n",
      "i equals to 10\n"
     ]
    }
   ],
   "source": [
    "for i in range(4,11):\n",
    "    print(f'i equals to {i}')"
   ]
  },
  {
   "cell_type": "markdown",
   "id": "b4bbb9dc-0ff5-49b0-8944-4433dd70deab",
   "metadata": {},
   "source": [
    "-----\n",
    "**Ex.** Print values of `i` starting from 2, not exceeding 20, and increasing by 3 at a time.\n",
    "Also print *your name* after the loop is finished."
   ]
  },
  {
   "cell_type": "code",
   "execution_count": 3,
   "id": "f54ff06d-f536-4e01-9035-45f70c0e4307",
   "metadata": {},
   "outputs": [
    {
     "name": "stdout",
     "output_type": "stream",
     "text": [
      "I am 2\n",
      "I am 5\n",
      "I am 8\n",
      "I am 11\n",
      "I am 14\n",
      "I am 17\n",
      "Parin Chaipunya\n"
     ]
    }
   ],
   "source": [
    "for i in range(2,20,3):\n",
    "    print(f'I am {i}')\n",
    "print('Parin Chaipunya')"
   ]
  },
  {
   "cell_type": "markdown",
   "id": "54c8760c-2628-4c9a-98f6-859d55615e14",
   "metadata": {},
   "source": [
    "-----\n",
    "**Ex.** Let's find the value of $1 + 3 + 5 + \\dots + 179$."
   ]
  },
  {
   "cell_type": "code",
   "execution_count": 4,
   "id": "da2fa2cb-342e-4fba-88b9-94d1613b033d",
   "metadata": {},
   "outputs": [
    {
     "name": "stdout",
     "output_type": "stream",
     "text": [
      "1+3+5+...+179 = 8100\n"
     ]
    }
   ],
   "source": [
    "sum = 0\n",
    "for i in range(1,180,2):\n",
    "    sum += i\n",
    "print(f'1+3+5+...+179 = {sum}')"
   ]
  },
  {
   "cell_type": "markdown",
   "id": "8ffba5c5-e263-483b-8540-c40898c7d3fb",
   "metadata": {},
   "source": [
    "-----\n",
    "**Ex.** We can also use for with a list."
   ]
  },
  {
   "cell_type": "code",
   "execution_count": 5,
   "id": "0f781523-9bb6-4628-b8d2-975d32a0c194",
   "metadata": {},
   "outputs": [
    {
     "name": "stdout",
     "output_type": "stream",
     "text": [
      "1\n",
      "two\n",
      "3.0\n"
     ]
    }
   ],
   "source": [
    "L = [1, 'two', 3.0]\n",
    "for l in L:\n",
    "    print(l)"
   ]
  },
  {
   "cell_type": "markdown",
   "id": "837e8953-fdd7-49a0-a3d7-1767c0563bd8",
   "metadata": {},
   "source": [
    "-----\n",
    "**Ex.** Let us print a pair using `zip` of two iterables."
   ]
  },
  {
   "cell_type": "code",
   "execution_count": 6,
   "id": "369be10c-21ae-46e1-a533-66e5b9b56a00",
   "metadata": {},
   "outputs": [],
   "source": [
    "X = [0, 1, 2, 3, 4, 5]\n",
    "Y = [0, 2, 4, 6, 8, 10]"
   ]
  },
  {
   "cell_type": "code",
   "execution_count": 7,
   "id": "c7d9b346-0c18-46d8-a8b3-ae3ccb2f2ed1",
   "metadata": {},
   "outputs": [
    {
     "name": "stdout",
     "output_type": "stream",
     "text": [
      "(x,y) = (0,0)\n",
      "(x,y) = (1,2)\n",
      "(x,y) = (2,4)\n",
      "(x,y) = (3,6)\n",
      "(x,y) = (4,8)\n",
      "(x,y) = (5,10)\n"
     ]
    }
   ],
   "source": [
    "for (x,y) in zip(X,Y):\n",
    "    print(f'(x,y) = ({x},{y})')"
   ]
  },
  {
   "cell_type": "markdown",
   "id": "3f09c519-8cca-428f-aaae-e392d4196881",
   "metadata": {},
   "source": [
    "-----\n",
    "**Ex.** We now list all possible pairs from the two iterables."
   ]
  },
  {
   "cell_type": "code",
   "execution_count": 8,
   "id": "1781f386-71dd-42b9-ad0b-159cd9202d09",
   "metadata": {},
   "outputs": [
    {
     "name": "stdout",
     "output_type": "stream",
     "text": [
      "(x,y) = (0,0)\n",
      "(x,y) = (0,2)\n",
      "(x,y) = (0,4)\n",
      "(x,y) = (0,6)\n",
      "(x,y) = (0,8)\n",
      "(x,y) = (0,10)\n",
      "(x,y) = (1,0)\n",
      "(x,y) = (1,2)\n",
      "(x,y) = (1,4)\n",
      "(x,y) = (1,6)\n",
      "(x,y) = (1,8)\n",
      "(x,y) = (1,10)\n",
      "(x,y) = (2,0)\n",
      "(x,y) = (2,2)\n",
      "(x,y) = (2,4)\n",
      "(x,y) = (2,6)\n",
      "(x,y) = (2,8)\n",
      "(x,y) = (2,10)\n",
      "(x,y) = (3,0)\n",
      "(x,y) = (3,2)\n",
      "(x,y) = (3,4)\n",
      "(x,y) = (3,6)\n",
      "(x,y) = (3,8)\n",
      "(x,y) = (3,10)\n",
      "(x,y) = (4,0)\n",
      "(x,y) = (4,2)\n",
      "(x,y) = (4,4)\n",
      "(x,y) = (4,6)\n",
      "(x,y) = (4,8)\n",
      "(x,y) = (4,10)\n",
      "(x,y) = (5,0)\n",
      "(x,y) = (5,2)\n",
      "(x,y) = (5,4)\n",
      "(x,y) = (5,6)\n",
      "(x,y) = (5,8)\n",
      "(x,y) = (5,10)\n"
     ]
    }
   ],
   "source": [
    "for x in X:\n",
    "    for y in Y:\n",
    "        print(f'(x,y) = ({x},{y})')"
   ]
  },
  {
   "cell_type": "markdown",
   "id": "1bc5a524-6aef-409e-8580-773319a3df3f",
   "metadata": {},
   "source": [
    "-------\n",
    "**Ex.** Let's now do `while` loop. Let's print non-negative integers whose squares not exceeding 4."
   ]
  },
  {
   "cell_type": "code",
   "execution_count": 9,
   "id": "dbcc8721-22bc-490f-ae9b-7f805d87c528",
   "metadata": {},
   "outputs": [
    {
     "name": "stdout",
     "output_type": "stream",
     "text": [
      "0\n",
      "1\n",
      "2\n"
     ]
    }
   ],
   "source": [
    "i = 0;\n",
    "while i**2 <= 4:\n",
    "    print(i)\n",
    "    i += 1"
   ]
  },
  {
   "cell_type": "markdown",
   "id": "16902258-2839-41a0-9c09-c939d63670cf",
   "metadata": {},
   "source": [
    "-----\n",
    "**Ex.** Let's do another *sane* problem using `while` loop.\n",
    "\n",
    "Consider the summation $S_{n} = \\sum_{i=1}^{n} \\frac{1}{n} = 1 + \\frac{1}{2} + \\frac{1}{3} + \\dots + \\frac{1}{n}$.\n",
    "\n",
    "Find the smallest integer $m$ in which $S_{m} > 10$."
   ]
  },
  {
   "cell_type": "code",
   "execution_count": 10,
   "id": "c2b69472-7a8d-4fc0-948f-63c1bc6b009d",
   "metadata": {},
   "outputs": [
    {
     "name": "stdout",
     "output_type": "stream",
     "text": [
      "m = 12367 and the sum S_m = 10.000043008275778\n"
     ]
    }
   ],
   "source": [
    "sum = 0\n",
    "i = 0\n",
    "while sum <= 10:\n",
    "    i += 1\n",
    "    sum += (1/i)\n",
    "print(f'm = {i} and the sum S_m = {sum}')"
   ]
  },
  {
   "cell_type": "markdown",
   "id": "1c9fc5e9-99cc-445d-bba8-e0f9980794a2",
   "metadata": {},
   "source": [
    "-----\n",
    "**Ex.** By definition, $e = \\lim_{n \\to \\infty} (1 + \\frac{1}{n})^{n}$.\n",
    "\n",
    "How far do we need to go (in term of $n$) to reach the accuracy of $30$ decimal places $e \\approx 2.718281828459045$ ?"
   ]
  },
  {
   "cell_type": "code",
   "execution_count": 11,
   "id": "a119f27f-68ea-4262-9977-3d2efa522f32",
   "metadata": {},
   "outputs": [
    {
     "name": "stdout",
     "output_type": "stream",
     "text": [
      "n = 5000000; lim = 2.718281555200129\n",
      "n = 10000000; lim = 2.7182816941320818\n",
      "n = 15000000; lim = 2.718281736418873\n",
      "n = 20000000; lim = 2.7182817560533206\n",
      "n = 25000000; lim = 2.7182817726626274\n",
      "n = 30000000; lim = 2.718281790777263\n",
      "n = 35000000; lim = 2.7182817881956653\n",
      "n = 40000000; lim = 2.7182818021034367\n",
      "n = 45000000; lim = 2.718281805878828\n",
      "n = 50000000; lim = 2.718281814934939\n",
      "n = 55000000; lim = 2.7182818174061043\n",
      "n = 60000000; lim = 2.7182818134296105\n",
      "n = 65000000; lim = 2.7182818031005027\n",
      "n = 70000000; lim = 2.7182818287372563\n",
      "n = 75000000; lim = 2.718281808906383\n",
      "n = 80000000; lim = 2.7182817949495055\n",
      "n = 85000000; lim = 2.7182818110383686\n",
      "n = 90000000; lim = 2.718281820980393\n",
      "n = 95000000; lim = 2.7182818217752125\n",
      "n = 100000000; lim = 2.7182817983473577\n",
      "n = 105000000; lim = 2.7182818140840626\n",
      "n = 110000000; lim = 2.7182818297619304\n",
      "n = 115000000; lim = 2.718281824263342\n",
      "n = 120000000; lim = 2.7182818247557847\n",
      "n = 125000000; lim = 2.7182818161551343\n",
      "n = 130000000; lim = 2.7182818135554325\n",
      "n = 135000000; lim = 2.718281798853157\n",
      "n = 140000000; lim = 2.7182818384454057\n",
      "n = 145000000; lim = 2.7182818387801695\n",
      "n = 150000000; lim = 2.7182818632358083\n",
      "n = 155000000; lim = 2.7182817760090243\n",
      "n = 160000000; lim = 2.718281851730521\n",
      "n = 165000000; lim = 2.7182818006836498\n",
      "n = 170000000; lim = 2.7182818703375995\n",
      "n = 175000000; lim = 2.718281819261742\n",
      "n = 180000000; lim = 2.718281828531176\n",
      "n = 185000000; lim = 2.7182818468426455\n",
      "n = 190000000; lim = 2.7182818289285855\n",
      "n = 195000000; lim = 2.718281856273097\n",
      "n = 200000000; lim = 2.718281805143062\n",
      "n = 205000000; lim = 2.718281862648893\n",
      "n = 210000000; lim = 2.718281883932043\n",
      "n = 215000000; lim = 2.718281820706676\n",
      "n = 220000000; lim = 2.7182817695460653\n",
      "** n = 220825296 with lim = 2.718281828459045 **\n"
     ]
    }
   ],
   "source": [
    "e_approx = 2.718281828459045\n",
    "n = 1\n",
    "lim = (1 + 1/n)**n\n",
    "Err = abs(e_approx - lim)\n",
    "while Err >= 1E-16:\n",
    "    n += 1\n",
    "    lim = (1 + 1/n)**n\n",
    "    Err = abs(e_approx - lim)\n",
    "    if n % 5E6 == 0:\n",
    "        print(f'n = {n}; lim = {lim}')\n",
    "print(f'** n = {n} with lim = {lim} **')"
   ]
  },
  {
   "cell_type": "markdown",
   "id": "a1db2961-ca7e-46f5-8f13-1e02d0f3129f",
   "metadata": {},
   "source": [
    "-----"
   ]
  }
 ],
 "metadata": {
  "kernelspec": {
   "display_name": "Python 3 (ipykernel)",
   "language": "python",
   "name": "python3"
  },
  "language_info": {
   "codemirror_mode": {
    "name": "ipython",
    "version": 3
   },
   "file_extension": ".py",
   "mimetype": "text/x-python",
   "name": "python",
   "nbconvert_exporter": "python",
   "pygments_lexer": "ipython3",
   "version": "3.12.6"
  }
 },
 "nbformat": 4,
 "nbformat_minor": 5
}
