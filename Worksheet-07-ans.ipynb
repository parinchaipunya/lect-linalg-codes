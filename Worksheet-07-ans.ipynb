{
 "cells": [
  {
   "cell_type": "markdown",
   "id": "a07b5b1e-f19f-4a8b-96e7-d81ca156dd0d",
   "metadata": {},
   "source": [
    "# MTH202 Worksheet 7"
   ]
  },
  {
   "cell_type": "code",
   "execution_count": 1,
   "id": "ab01ae1b-72eb-4fa2-b929-a433ae17105e",
   "metadata": {},
   "outputs": [],
   "source": [
    "import numpy as np"
   ]
  },
  {
   "cell_type": "markdown",
   "id": "7aa01ec8-96af-4af5-8eee-fc4741de895f",
   "metadata": {},
   "source": [
    "## Problem 1\n",
    "\n",
    "Find the following of the matrix $A$ given below.\n",
    "- $\\mathrm{rank}(A)$,\n",
    "- $\\mathrm{det}(A)$,\n",
    "- $(A^{\\top})^{-1}$."
   ]
  },
  {
   "cell_type": "code",
   "execution_count": 11,
   "id": "4be1fec5-18ad-44be-b723-7050d5c89549",
   "metadata": {},
   "outputs": [
    {
     "data": {
      "text/plain": [
       "array([[ 1, -2,  5,  2, -1],\n",
       "       [ 1,  4, -3,  1,  5],\n",
       "       [ 5,  2, -1, -2,  2],\n",
       "       [ 2, -3,  0, -1, -4],\n",
       "       [ 2,  0, -4, -1, -5]])"
      ]
     },
     "execution_count": 11,
     "metadata": {},
     "output_type": "execute_result"
    }
   ],
   "source": [
    "np.random.seed(42)\n",
    "\n",
    "A = np.random.randint(-5, 6, (5,5))\n",
    "A"
   ]
  },
  {
   "cell_type": "code",
   "execution_count": 12,
   "id": "89bf7223-1697-4d93-a043-aef8241892e3",
   "metadata": {},
   "outputs": [
    {
     "name": "stdout",
     "output_type": "stream",
     "text": [
      "rank(A) = 5\n",
      "det(A) = 960.0000000000001\n",
      "inv(A.T) =\n",
      "[[ 0.10625     0.12083333  0.11458333  0.23333333 -0.09583333]\n",
      " [ 0.128125   -0.25625    -0.234375    0.35        0.16875   ]\n",
      " [ 0.084375    0.16458333  0.13020833 -0.21666667 -0.02708333]\n",
      " [ 0.15625    -0.64583333 -0.30208333  0.16666667  0.27083333]\n",
      " [ 0.015625    0.30208333  0.03645833  0.08333333 -0.23958333]]\n"
     ]
    }
   ],
   "source": [
    "print(f\"rank(A) = {np.linalg.matrix_rank(A)}\")\n",
    "print(f\"det(A) = {np.linalg.det(A)}\")\n",
    "print(f\"inv(A.T) =\\n{np.linalg.inv(A.T)}\")"
   ]
  },
  {
   "cell_type": "markdown",
   "id": "83b34155-0e64-480d-b519-aeb83d309950",
   "metadata": {},
   "source": [
    "## Problem 2\n",
    "\n",
    "Diagonalize the matrix $B = A^{\\top}A$, where $A$ is defined in Problem 1.\n",
    "That is, find $V$ and $\\Lambda$ in which\n",
    "$$\n",
    "B = V \\Lambda V^{-1}.\n",
    "$$"
   ]
  },
  {
   "cell_type": "code",
   "execution_count": 17,
   "id": "1151c209-547d-4500-a35b-cd7b89702e77",
   "metadata": {},
   "outputs": [
    {
     "name": "stdout",
     "output_type": "stream",
     "text": [
      "Lambda =\n",
      "[[99.37288987  0.          0.          0.          0.        ]\n",
      " [ 0.         66.50052903  0.          0.          0.        ]\n",
      " [ 0.          0.         29.31667481  0.          0.        ]\n",
      " [ 0.          0.          0.          4.82373803  0.        ]\n",
      " [ 0.          0.          0.          0.          0.98616826]]\n",
      "V =\n",
      "[[ 0.05755564  0.4385994   0.85922725 -0.21006746  0.14804766]\n",
      " [ 0.5578303   0.12508422 -0.04059854 -0.29174776 -0.76577692]\n",
      " [-0.31908993 -0.71718995  0.47096218  0.06111978 -0.39784316]\n",
      " [ 0.00874114 -0.31775504 -0.10839702 -0.89275129  0.30033405]\n",
      " [ 0.76394889 -0.42030323  0.16286498  0.26460236  0.37840173]]\n"
     ]
    }
   ],
   "source": [
    "B = A.T @ A\n",
    "eigvals, eigvecs = np.linalg.eig(B)\n",
    "Lambda = np.diag(eigvals)\n",
    "V = eigvecs\n",
    "print(f\"Lambda =\\n{Lambda}\")\n",
    "print(f\"V =\\n{V}\")"
   ]
  },
  {
   "cell_type": "code",
   "execution_count": 20,
   "id": "37ae1e38-19a4-41aa-9bc0-3d9238e6f4d1",
   "metadata": {},
   "outputs": [
    {
     "data": {
      "text/plain": [
       "array([[ True,  True,  True,  True,  True],\n",
       "       [ True,  True,  True,  True,  True],\n",
       "       [ True,  True,  True,  True,  True],\n",
       "       [ True,  True,  True,  True,  True],\n",
       "       [ True,  True,  True,  True,  True]])"
      ]
     },
     "execution_count": 20,
     "metadata": {},
     "output_type": "execute_result"
    }
   ],
   "source": [
    "# Double check that B and V Lambda V^-1 are the same.\n",
    "B_recon = V @ Lambda @ np.linalg.inv(V)\n",
    "np.isclose(B, B_recon)"
   ]
  },
  {
   "cell_type": "markdown",
   "id": "5595646f-78d9-4207-865b-64390f4c04e2",
   "metadata": {},
   "source": [
    "## Problem 3\n",
    "\n",
    "Use `np.linalg.eig` to compute the SVD of a matrix\n",
    "$$\n",
    "B = \n",
    "\\begin{bmatrix}\n",
    "0 & 0 & 1 & 1 \\\\\n",
    "1 & 1 & 0 & 0\n",
    "\\end{bmatrix}.\n",
    "$$"
   ]
  },
  {
   "cell_type": "code",
   "execution_count": null,
   "id": "3de575b4-c3a9-4259-b6d9-e468cb3badf1",
   "metadata": {},
   "outputs": [],
   "source": []
  }
 ],
 "metadata": {
  "kernelspec": {
   "display_name": "Python 3 (ipykernel)",
   "language": "python",
   "name": "python3"
  },
  "language_info": {
   "codemirror_mode": {
    "name": "ipython",
    "version": 3
   },
   "file_extension": ".py",
   "mimetype": "text/x-python",
   "name": "python",
   "nbconvert_exporter": "python",
   "pygments_lexer": "ipython3",
   "version": "3.13.7"
  }
 },
 "nbformat": 4,
 "nbformat_minor": 5
}
