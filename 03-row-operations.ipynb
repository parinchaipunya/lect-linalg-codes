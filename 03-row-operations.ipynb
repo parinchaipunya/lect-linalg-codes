{
 "cells": [
  {
   "cell_type": "markdown",
   "id": "ea7d82a0-e794-4817-b695-e92a121312f0",
   "metadata": {},
   "source": [
    "# Elementary row operations\n",
    "author: Parin Chaipunya\n",
    "affil: KMUTT"
   ]
  },
  {
   "cell_type": "markdown",
   "id": "b10e794d-b57f-4551-94cf-b939c879e3e9",
   "metadata": {},
   "source": [
    "## Elementary row operations\n",
    "\n",
    "Recall that there are three types of elementary row operations, namely\n",
    "1. Swap any two rows. (`sw`)\n",
    "2. Multiply a nonzero scalar to a row. (`sc`)\n",
    "3. Add or subtract any two rows. (`add`)\n",
    "\n",
    "This notebook will demonstrate how these operations are done with `numpy` so that we could use it to do calculations with larger matrices."
   ]
  },
  {
   "cell_type": "markdown",
   "id": "bf91a031-abdd-4b78-b2d9-abcd933ff923",
   "metadata": {},
   "source": [
    "We begin by importing `numpy`."
   ]
  },
  {
   "cell_type": "code",
   "execution_count": 1,
   "id": "9f057056-75f5-4b35-9298-a7c39a9c624f",
   "metadata": {},
   "outputs": [],
   "source": [
    "import numpy as np"
   ]
  },
  {
   "cell_type": "markdown",
   "id": "0d276bea-f149-4249-8111-cd1d99dc4432",
   "metadata": {},
   "source": [
    "### Swapping rows\n",
    "\n",
    "Suppose that `A` is a `ndarray`.\n",
    "We could swap the rows `i1` and `i2` by using `A[[i1,i2],:] = A[[i2,i1],:]`."
   ]
  },
  {
   "cell_type": "code",
   "execution_count": 2,
   "id": "4b2f97e3-e130-43d0-9b7b-617979b09a74",
   "metadata": {},
   "outputs": [
    {
     "name": "stdout",
     "output_type": "stream",
     "text": [
      "[[1 1 1]\n",
      " [2 2 2]\n",
      " [3 3 3]]\n"
     ]
    }
   ],
   "source": [
    "A = np.array([[1, 1, 1], [2, 2, 2,], [3, 3, 3,]])\n",
    "print(A)"
   ]
  },
  {
   "cell_type": "code",
   "execution_count": 3,
   "id": "4eddac89-7dff-4212-a6a3-b3adae1d36b2",
   "metadata": {},
   "outputs": [
    {
     "name": "stdout",
     "output_type": "stream",
     "text": [
      "[[3 3 3]\n",
      " [2 2 2]\n",
      " [1 1 1]]\n"
     ]
    }
   ],
   "source": [
    "# Swap rows 1 and 3. (R1 <-> R3)\n",
    "A[[0, 2], :] = A[[2, 0], :]\n",
    "print(A)"
   ]
  },
  {
   "cell_type": "markdown",
   "id": "8a70a1bb-64b5-4fce-8e9d-8f2cc51ab123",
   "metadata": {},
   "source": [
    "### Multiplying a scalar to a row\n",
    "\n",
    "Suppose that `A` is a `ndarray`. We could multiply a scalar `a` to row `i` by `A[i,:] = a*A[i,:]`. \n",
    "\n",
    "The shorthand `A[i,:] *= a` could also be used (if there is no data type conflicts)."
   ]
  },
  {
   "cell_type": "code",
   "execution_count": 4,
   "id": "615cd7e3-0059-4b16-8fdc-1b10d0036ce6",
   "metadata": {},
   "outputs": [
    {
     "name": "stdout",
     "output_type": "stream",
     "text": [
      "[[1 1 1]\n",
      " [2 2 2]\n",
      " [3 3 3]]\n"
     ]
    }
   ],
   "source": [
    "A = np.array([[1, 1, 1], [2, 2, 2,], [3, 3, 3,]])\n",
    "print(A)"
   ]
  },
  {
   "cell_type": "code",
   "execution_count": 5,
   "id": "fc5ac53d-934e-4fd9-b805-f65e355e7ce3",
   "metadata": {},
   "outputs": [
    {
     "name": "stdout",
     "output_type": "stream",
     "text": [
      "[[ 1  1  1]\n",
      " [-4 -4 -4]\n",
      " [ 3  3  3]]\n"
     ]
    }
   ],
   "source": [
    "# Multiply -2 to Row 2. (R2 <- -2R2)\n",
    "A[1, :] *= -2\n",
    "print(A)"
   ]
  },
  {
   "cell_type": "markdown",
   "id": "d82205dc-eda2-4d84-8b41-9ed05ddee13f",
   "metadata": {},
   "source": [
    "### Adding / subtracting two rows\n",
    "\n",
    "To add or subtract rows `i1` and `i2` ($R_{i1} \\leftarrow R_{i1} \\pm R_{i2}$) of an array `A`, we do `A[i1,:] = A[i1,:] + A[i2,:]` or `A[i1,:] = A[i1,:] - A[i2,:]`.\n",
    "\n",
    "The shorthands `A[i1,:] += A[i2,:]` or `A[i1,:] -= A[i2,:]` could also be used (if there is no data type conflicts)."
   ]
  },
  {
   "cell_type": "code",
   "execution_count": 6,
   "id": "c6a4e283-39ff-4857-a2b7-5fccb2022e57",
   "metadata": {},
   "outputs": [
    {
     "name": "stdout",
     "output_type": "stream",
     "text": [
      "[[1 1 1]\n",
      " [2 2 2]\n",
      " [3 3 3]]\n"
     ]
    }
   ],
   "source": [
    "A = np.array([[1, 1, 1], [2, 2, 2,], [3, 3, 3,]])\n",
    "print(A)"
   ]
  },
  {
   "cell_type": "code",
   "execution_count": 7,
   "id": "62663a8f-7eff-4e0f-b31f-ba15e2592225",
   "metadata": {},
   "outputs": [
    {
     "name": "stdout",
     "output_type": "stream",
     "text": [
      "[[1 1 1]\n",
      " [2 2 2]\n",
      " [4 4 4]]\n"
     ]
    }
   ],
   "source": [
    "# Add row 1 to row 3 (R3 <- R3 + R1).\n",
    "A[2, :] += A[0, :]\n",
    "print(A)"
   ]
  },
  {
   "cell_type": "code",
   "execution_count": 8,
   "id": "8fc527b9-4115-44f1-b219-c01881200f7a",
   "metadata": {},
   "outputs": [
    {
     "name": "stdout",
     "output_type": "stream",
     "text": [
      "[[ 1  1  1]\n",
      " [-6 -6 -6]\n",
      " [ 4  4  4]]\n"
     ]
    }
   ],
   "source": [
    "# Subtract 2*row 3 from row 2 (R2 <- R2 - 2R3)\n",
    "A[1, :] -= 2 * A[2, :]\n",
    "print(A)"
   ]
  },
  {
   "cell_type": "markdown",
   "id": "00a3b804-4e20-4538-9170-7b7c500ea844",
   "metadata": {},
   "source": [
    "### Finding a REF\n",
    "\n",
    "Now that we know how the elementary row operations are performed, we now combine them to find a row echelon form of a matrix."
   ]
  },
  {
   "cell_type": "markdown",
   "id": "0a99a9f1-9d7d-4ee9-bb56-61462cc94eb3",
   "metadata": {},
   "source": [
    "#### Example 1\n",
    "\n",
    "Find a REF of the matrix\n",
    "$$\n",
    "A = \\left[\n",
    "\\begin{array}{rrrr}\n",
    "1 & 2 & 5 & 1 \\\\\n",
    "0 & 0 & 0 & 2 \\\\\n",
    "3 & 1 & 0 & 0 \\\\\n",
    "-1 & -2 & -10 & 1\n",
    "\\end{array}\n",
    "\\right]\n",
    "$$"
   ]
  },
  {
   "cell_type": "code",
   "execution_count": 9,
   "id": "77eceb0b-63e5-4bac-8b28-8c03598de987",
   "metadata": {},
   "outputs": [
    {
     "name": "stdout",
     "output_type": "stream",
     "text": [
      "[[  1   2   5   1]\n",
      " [  0   0   0   2]\n",
      " [  3   1   0   0]\n",
      " [ -1  -2 -10   1]]\n"
     ]
    }
   ],
   "source": [
    "A = np.array([[1, 2, 5, 1], [0, 0, 0, 2], [3, 1, 0, 0], [-1, -2, -10, 1]])\n",
    "print(A)"
   ]
  },
  {
   "cell_type": "code",
   "execution_count": 10,
   "id": "3ab8f2aa-99b3-4567-a31f-45eaf345e682",
   "metadata": {},
   "outputs": [
    {
     "name": "stdout",
     "output_type": "stream",
     "text": [
      "[[  1   2   5   1]\n",
      " [  0   0   0   2]\n",
      " [  0  -5 -15  -3]\n",
      " [  0   0  -5   2]]\n"
     ]
    }
   ],
   "source": [
    "# R3 <- R3 - 3R1\n",
    "# R4 <- R4 + R1\n",
    "A[2,:] -= 3*A[0,:]\n",
    "A[3,:] += A[0,:]\n",
    "print(A)"
   ]
  },
  {
   "cell_type": "code",
   "execution_count": 11,
   "id": "0fd10a65-061d-4e2b-af7d-25de101982a0",
   "metadata": {},
   "outputs": [
    {
     "name": "stdout",
     "output_type": "stream",
     "text": [
      "[[  1   2   5   1]\n",
      " [  0  -5 -15  -3]\n",
      " [  0   0   0   2]\n",
      " [  0   0  -5   2]]\n"
     ]
    }
   ],
   "source": [
    "# R2 <-> R3\n",
    "A[[1,2],:] = A[[2,1],:]\n",
    "print(A)"
   ]
  },
  {
   "cell_type": "code",
   "execution_count": 12,
   "id": "05a6a826-1d2b-43be-8715-d77bc1f12d79",
   "metadata": {},
   "outputs": [
    {
     "name": "stdout",
     "output_type": "stream",
     "text": [
      "[[  1   2   5   1]\n",
      " [  0  -5 -15  -3]\n",
      " [  0   0  -5   2]\n",
      " [  0   0   0   2]]\n"
     ]
    }
   ],
   "source": [
    "# R3 <-> R4\n",
    "A[[2,3],:] = A[[3,2],:]\n",
    "print(A)"
   ]
  },
  {
   "cell_type": "markdown",
   "id": "e1483502-452e-4387-9d4b-abab294316d6",
   "metadata": {},
   "source": [
    "---"
   ]
  }
 ],
 "metadata": {
  "kernelspec": {
   "display_name": "Python 3 (ipykernel)",
   "language": "python",
   "name": "python3"
  },
  "language_info": {
   "codemirror_mode": {
    "name": "ipython",
    "version": 3
   },
   "file_extension": ".py",
   "mimetype": "text/x-python",
   "name": "python",
   "nbconvert_exporter": "python",
   "pygments_lexer": "ipython3",
   "version": "3.13.7"
  }
 },
 "nbformat": 4,
 "nbformat_minor": 5
}
