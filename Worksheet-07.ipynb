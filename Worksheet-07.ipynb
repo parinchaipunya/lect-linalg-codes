{
 "cells": [
  {
   "cell_type": "markdown",
   "id": "a07b5b1e-f19f-4a8b-96e7-d81ca156dd0d",
   "metadata": {},
   "source": [
    "# MTH202 Worksheet 7"
   ]
  },
  {
   "cell_type": "code",
   "execution_count": null,
   "id": "ab01ae1b-72eb-4fa2-b929-a433ae17105e",
   "metadata": {},
   "outputs": [],
   "source": [
    "import numpy as np"
   ]
  },
  {
   "cell_type": "markdown",
   "id": "7aa01ec8-96af-4af5-8eee-fc4741de895f",
   "metadata": {},
   "source": [
    "## Problem 1\n",
    "\n",
    "Find the following of the matrix $A$ given below.\n",
    "- $\\mathrm{rank}(A)$,\n",
    "- $\\mathrm{det}(A)$,\n",
    "- $(A^{\\top})^{-1}$."
   ]
  },
  {
   "cell_type": "code",
   "execution_count": null,
   "id": "4be1fec5-18ad-44be-b723-7050d5c89549",
   "metadata": {},
   "outputs": [],
   "source": [
    "np.random.seed(42)\n",
    "\n",
    "A = np.random.randint(-5, 6, (10, 10)\n",
    "A"
   ]
  },
  {
   "cell_type": "markdown",
   "id": "83b34155-0e64-480d-b519-aeb83d309950",
   "metadata": {},
   "source": [
    "## Problem 2\n",
    "\n",
    "Diagonalize the matrix $A^{\\top}A$, where $A$ is defined in Problem 1.\n",
    "That is, find $V$ and $\\Lambda$ in which\n",
    "$$\n",
    "A = V \\Lambda V^{-1}.\n",
    "$$"
   ]
  },
  {
   "cell_type": "code",
   "execution_count": null,
   "id": "1151c209-547d-4500-a35b-cd7b89702e77",
   "metadata": {},
   "outputs": [],
   "source": []
  },
  {
   "cell_type": "markdown",
   "id": "5595646f-78d9-4207-865b-64390f4c04e2",
   "metadata": {},
   "source": [
    "## Problem 3\n",
    "\n",
    "Use `np.linalg.eig` to compute the SVD of a matrix\n",
    "$$\n",
    "B = \n",
    "\\begin{bmatrix}\n",
    "0 & 0 & 1 & 1 \\\\\n",
    "1 & 1 & 0 & 0\n",
    "\\end{bmatrix}.\n",
    "$$"
   ]
  },
  {
   "cell_type": "code",
   "execution_count": null,
   "id": "3de575b4-c3a9-4259-b6d9-e468cb3badf1",
   "metadata": {},
   "outputs": [],
   "source": []
  }
 ],
 "metadata": {
  "kernelspec": {
   "display_name": "Python 3 (ipykernel)",
   "language": "python",
   "name": "python3"
  },
  "language_info": {
   "codemirror_mode": {
    "name": "ipython",
    "version": 3
   },
   "file_extension": ".py",
   "mimetype": "text/x-python",
   "name": "python",
   "nbconvert_exporter": "python",
   "pygments_lexer": "ipython3",
   "version": "3.13.7"
  }
 },
 "nbformat": 4,
 "nbformat_minor": 5
}
