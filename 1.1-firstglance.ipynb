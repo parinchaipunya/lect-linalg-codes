{
 "cells": [
  {
   "cell_type": "markdown",
   "id": "68534725-1baa-4a33-ae07-835f1135e389",
   "metadata": {},
   "source": [
    "# Introduction to `python` for linear algebra\n",
    "author: Parin Chaipunya \n",
    "affil: KMUTT"
   ]
  },
  {
   "cell_type": "markdown",
   "id": "bd7972d5-29c9-4506-a460-93dc948a7d39",
   "metadata": {},
   "source": [
    "## Overview\n",
    "\n",
    "What should we know about `python` ?\n",
    "- `python` is a high-level programming level used widely nowadays in several applications in science and engineering.\n",
    "- It is a general purpose language, whiche means it could be used to do several different things.\n",
    "- Due to its large community, there are so many packages available to fulfill your need.\n",
    "- Eventhough it could be used to establish almost any task, it is *not* the fastest computation languange. For this reason, most of the computational packages are written with faster languages like `C`, `C++` or `fortran`."
   ]
  },
  {
   "cell_type": "markdown",
   "id": "fdba05f2-0cf1-4eff-b133-b9d96e31f902",
   "metadata": {},
   "source": [
    "## Packages\n",
    "- `python` on its own does not have so many built-in functions. \n",
    "Without any packages imported, it can do simple computation, handle simple data types and structures, and print outputs.\n",
    "We therefore have to import packages in order to have richer functionalities.\n",
    "- In this course, we mainly use `numpy` for matrix computations and `matplotlib` for visualizations."
   ]
  },
  {
   "cell_type": "markdown",
   "id": "1f8352c9-fe74-4c01-8022-0d8f6129db75",
   "metadata": {},
   "source": [
    "## Using `python`\n",
    "- The first way to use python is by the **prompt mode**. This mode is suitable for a one-time computation.\n",
    "- The second way is to write a **python script**, which is a `.py` file, and then execute it with `python`.\n",
    "This method is suitable for a more serious project that you may require to come back to review/revise the code.\n",
    "- The third way is to use an **interactive python notebook**, which is a `.ipynb` file.\n",
    "This method is a mixture between the above two, allowing one to review/revise the code but able to observe the output along the way.\n",
    "We can also mix text, visualization and executable code blocks in one file.\n",
    "\n",
    "In this course, we shall always use `.ipynb` approach."
   ]
  },
  {
   "cell_type": "markdown",
   "id": "88ed8b0b-9c6d-42b5-ad00-79c9ee91e7c6",
   "metadata": {},
   "source": [
    "## First glances"
   ]
  },
  {
   "cell_type": "markdown",
   "id": "3047b632-ccc2-43e1-aae7-0b578b8349cb",
   "metadata": {},
   "source": [
    "### Hello world: Text printing"
   ]
  },
  {
   "cell_type": "markdown",
   "id": "7bd4d974-0da4-49e9-b873-26172120e7cb",
   "metadata": {},
   "source": [
    "A string is put inbetween quotes \"...\"."
   ]
  },
  {
   "cell_type": "code",
   "execution_count": 1,
   "id": "c9f357ae-972b-4195-9b65-adcbe416fb13",
   "metadata": {},
   "outputs": [
    {
     "name": "stdout",
     "output_type": "stream",
     "text": [
      "Hello world\n"
     ]
    }
   ],
   "source": [
    "print(\"Hello world\")"
   ]
  },
  {
   "cell_type": "markdown",
   "id": "35a212e2-60b0-4175-8872-bc2b95a41595",
   "metadata": {},
   "source": [
    "## Do not \"tab\""
   ]
  },
  {
   "cell_type": "markdown",
   "id": "1e262fea-5e48-4260-ac7b-9c43b26ddbca",
   "metadata": {},
   "source": [
    "`python` is tab-sensitive.\n",
    "It is important not to use `tab` unintentionally, because it has a special and reserved meaning."
   ]
  },
  {
   "cell_type": "code",
   "execution_count": 2,
   "id": "90b38e9e-32bd-44be-9aa0-7166b9d59683",
   "metadata": {},
   "outputs": [
    {
     "ename": "IndentationError",
     "evalue": "unexpected indent (99601126.py, line 2)",
     "output_type": "error",
     "traceback": [
      "  \u001b[36mCell\u001b[39m\u001b[36m \u001b[39m\u001b[32mIn[2]\u001b[39m\u001b[32m, line 2\u001b[39m\n\u001b[31m    \u001b[39m\u001b[31mprint(a)\u001b[39m\n    ^\n\u001b[31mIndentationError\u001b[39m\u001b[31m:\u001b[39m unexpected indent\n"
     ]
    }
   ],
   "source": [
    "a = 1\n",
    "    print(a)"
   ]
  },
  {
   "cell_type": "markdown",
   "id": "30a342c8-0873-4b76-ba5b-071a3355d5c7",
   "metadata": {},
   "source": [
    "### Simple calculation"
   ]
  },
  {
   "cell_type": "markdown",
   "id": "f697b9f7-3914-4652-990a-0d54d1fc8137",
   "metadata": {},
   "source": [
    "The following block, we shall compute\n",
    "$$\n",
    "1 - \\frac{3 \\times 11}{20} + 2^{3}(3^{5} - 1)(1 + 5^{2}).\n",
    "$$"
   ]
  },
  {
   "cell_type": "code",
   "execution_count": 3,
   "id": "334bf1a1-2f3b-4ca6-b573-0e25d3d378f9",
   "metadata": {},
   "outputs": [
    {
     "data": {
      "text/plain": [
       "50335.35"
      ]
     },
     "execution_count": 3,
     "metadata": {},
     "output_type": "execute_result"
    }
   ],
   "source": [
    "1 - (3*11)/20 + 2**3*(3**5 - 1)*(1 + 5**2)   # The result of the computation is showed immediately in the output."
   ]
  },
  {
   "cell_type": "markdown",
   "id": "74993bea-13db-4087-8789-53e2f8af70eb",
   "metadata": {},
   "source": [
    "### Storing values in variables and printing them"
   ]
  },
  {
   "cell_type": "markdown",
   "id": "200fa854-bd89-4e7f-91bd-b0f51a3b5a1e",
   "metadata": {},
   "source": [
    "Here, we store the value of the same computation in a variable \"a\".\n",
    "Notice that the result is not printed into the output because it is redirected into the variable."
   ]
  },
  {
   "cell_type": "code",
   "execution_count": 4,
   "id": "359c35fa-e657-4c7e-bf76-118be4f847d6",
   "metadata": {},
   "outputs": [],
   "source": [
    "a = 1 - (3 * 11) / 20 + 2**3 * (3**5 - 1) * (1 + 5**2)"
   ]
  },
  {
   "cell_type": "markdown",
   "id": "5d6167fd-a283-4aaf-b665-35159dced63f",
   "metadata": {},
   "source": [
    "To print the value, we need an explicit command.\n",
    "There many ways to do this where we show them below."
   ]
  },
  {
   "cell_type": "code",
   "execution_count": 5,
   "id": "bfba71fa-0b55-4c16-95d9-df133c0962a8",
   "metadata": {},
   "outputs": [
    {
     "data": {
      "text/plain": [
       "50335.35"
      ]
     },
     "metadata": {},
     "output_type": "display_data"
    }
   ],
   "source": [
    "# First, we use \"display\".\n",
    "display(a)"
   ]
  },
  {
   "cell_type": "code",
   "execution_count": 6,
   "id": "1a6a1527-e31b-49c2-9078-5fd2d0e3f611",
   "metadata": {},
   "outputs": [
    {
     "name": "stdout",
     "output_type": "stream",
     "text": [
      "50335.35\n"
     ]
    }
   ],
   "source": [
    "# Second, we use \"print\" which is preferred over \"display\".\n",
    "print(a)"
   ]
  },
  {
   "cell_type": "code",
   "execution_count": 7,
   "id": "07b57f50-5b13-462a-bcef-a9e4104007dc",
   "metadata": {},
   "outputs": [
    {
     "name": "stdout",
     "output_type": "stream",
     "text": [
      "a = 50335.350000\n"
     ]
    }
   ],
   "source": [
    "# We can add more context.\n",
    "print(\"a = %f\" % a)"
   ]
  },
  {
   "cell_type": "code",
   "execution_count": 8,
   "id": "fda1953e-62e0-4cdb-9c26-f9ee6ae50b02",
   "metadata": {},
   "outputs": [
    {
     "name": "stdout",
     "output_type": "stream",
     "text": [
      "a = 50335.35\n"
     ]
    }
   ],
   "source": [
    "# The best and recommended way is to use an \"f-string\".\n",
    "print(f\"a = {a}\")"
   ]
  },
  {
   "cell_type": "markdown",
   "id": "9db3f1c7-8bd5-44e8-8a5d-b7fdf9e82ada",
   "metadata": {},
   "source": [
    "----"
   ]
  }
 ],
 "metadata": {
  "kernelspec": {
   "display_name": "Python 3 (ipykernel)",
   "language": "python",
   "name": "python3"
  },
  "language_info": {
   "codemirror_mode": {
    "name": "ipython",
    "version": 3
   },
   "file_extension": ".py",
   "mimetype": "text/x-python",
   "name": "python",
   "nbconvert_exporter": "python",
   "pygments_lexer": "ipython3",
   "version": "3.13.7"
  }
 },
 "nbformat": 4,
 "nbformat_minor": 5
}
