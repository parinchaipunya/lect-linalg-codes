{
 "cells": [
  {
   "cell_type": "markdown",
   "id": "b029ce3c-0216-44c9-af2b-453a96023c61",
   "metadata": {},
   "source": [
    "## MTH202 Worksheet 13"
   ]
  },
  {
   "cell_type": "markdown",
   "id": "cb752db0-c960-43a0-9d4f-f7660e2fea33",
   "metadata": {},
   "source": [
    "## Problem\n",
    "\n",
    "**Instructions.**\n",
    "- Import the prepared images.\n",
    "- Compress the images with different ranks.\n",
    "- Show the results of the compressed images."
   ]
  },
  {
   "cell_type": "code",
   "execution_count": null,
   "id": "adf4db79-bde5-4d84-b208-3545491f15a7",
   "metadata": {},
   "outputs": [],
   "source": []
  }
 ],
 "metadata": {
  "kernelspec": {
   "display_name": "Python 3 (ipykernel)",
   "language": "python",
   "name": "python3"
  },
  "language_info": {
   "codemirror_mode": {
    "name": "ipython",
    "version": 3
   },
   "file_extension": ".py",
   "mimetype": "text/x-python",
   "name": "python",
   "nbconvert_exporter": "python",
   "pygments_lexer": "ipython3",
   "version": "3.13.7"
  }
 },
 "nbformat": 4,
 "nbformat_minor": 5
}
