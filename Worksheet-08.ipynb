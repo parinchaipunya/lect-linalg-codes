{
 "cells": [
  {
   "cell_type": "markdown",
   "id": "34bc5d91-2c9f-4f48-9b7b-70375903375a",
   "metadata": {},
   "source": [
    "# MTH 202 Worksheet 8"
   ]
  },
  {
   "cell_type": "code",
   "execution_count": null,
   "id": "0fd75580-7855-4abd-9e63-e771f0f68b07",
   "metadata": {},
   "outputs": [],
   "source": [
    "import sympy as sy"
   ]
  },
  {
   "cell_type": "markdown",
   "id": "f2eb3c71-9d14-4d0b-9c53-38aa36824b05",
   "metadata": {},
   "source": [
    "## Problem 1"
   ]
  },
  {
   "cell_type": "markdown",
   "id": "f6655ec8-29f5-4cd2-95bc-a10b8044cafb",
   "metadata": {},
   "source": [
    "### Problem 1.1\n",
    "\n",
    "Rewrite the Gauss and Gauss-Jordan eliminations using `sympy` instead of `numpy`."
   ]
  },
  {
   "cell_type": "code",
   "execution_count": null,
   "id": "4973d3c1-5f97-4cf1-8ae3-d5eb518282ba",
   "metadata": {},
   "outputs": [],
   "source": []
  },
  {
   "cell_type": "markdown",
   "id": "0f1bbe76-b7b9-457c-83a1-5ee5580af36a",
   "metadata": {},
   "source": [
    "### Problem 1.2\n",
    "\n",
    "Test it with a matrix $A$ of your choice with dimension at least $5 \\times 7$ having at most five $0$'s."
   ]
  },
  {
   "cell_type": "code",
   "execution_count": null,
   "id": "0281f9cd-835e-4b9c-b485-e530852d1409",
   "metadata": {},
   "outputs": [],
   "source": []
  },
  {
   "cell_type": "markdown",
   "id": "dfb095aa-413a-48fa-ada7-18a9da69d96f",
   "metadata": {},
   "source": [
    "## Problem 1.3\n",
    "\n",
    "Check your answer with the built-in method `A.rref()[0]`."
   ]
  },
  {
   "cell_type": "code",
   "execution_count": null,
   "id": "bd88dda3-5080-420e-9f84-4982c257486e",
   "metadata": {},
   "outputs": [],
   "source": [
    "A.rref()[0]"
   ]
  }
 ],
 "metadata": {
  "kernelspec": {
   "display_name": "Python 3 (ipykernel)",
   "language": "python",
   "name": "python3"
  },
  "language_info": {
   "codemirror_mode": {
    "name": "ipython",
    "version": 3
   },
   "file_extension": ".py",
   "mimetype": "text/x-python",
   "name": "python",
   "nbconvert_exporter": "python",
   "pygments_lexer": "ipython3",
   "version": "3.13.7"
  }
 },
 "nbformat": 4,
 "nbformat_minor": 5
}
